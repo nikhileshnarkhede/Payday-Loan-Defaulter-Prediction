{
 "cells": [
  {
   "cell_type": "markdown",
   "id": "15264ae7",
   "metadata": {
    "id": "4654e707"
   },
   "source": [
    "# Loading libraries"
   ]
  },
  {
   "cell_type": "code",
   "execution_count": 21,
   "id": "b2edc303",
   "metadata": {
    "executionInfo": {
     "elapsed": 5127,
     "status": "ok",
     "timestamp": 1704280682430,
     "user": {
      "displayName": "Kunal Badhe",
      "userId": "11018207794575040070"
     },
     "user_tz": -330
    },
    "id": "0fb772dd"
   },
   "outputs": [],
   "source": [
    "import numpy as np\n",
    "import pandas as pd\n",
    "\n",
    "from sklearn.pipeline import Pipeline\n",
    "from sklearn.linear_model import LogisticRegression,Ridge,Lasso\n",
    "from sklearn.model_selection import cross_val_score,GridSearchCV,RandomizedSearchCV,train_test_split\n",
    "from sklearn.metrics import f1_score,accuracy_score,classification_report,confusion_matrix,roc_auc_score\n",
    "from sklearn.tree import DecisionTreeClassifier\n",
    "from sklearn.ensemble import RandomForestClassifier, ExtraTreesClassifier,AdaBoostClassifier, GradientBoostingClassifier\n",
    "from xgboost import XGBClassifier\n",
    "from lightgbm import LGBMClassifier\n",
    "from sklearn.preprocessing import StandardScaler\n",
    "from catboost import CatBoostClassifier\n",
    "from sklearn.neighbors import KNeighborsClassifier\n",
    "from sklearn.svm import SVC\n",
    "from sklearn.naive_bayes import GaussianNB\n",
    "\n",
    "from mypipes import *\n",
    "\n",
    "import warnings\n",
    "warnings.filterwarnings('ignore') # ignore the warnings.\n",
    "\n",
    "\n",
    "import matplotlib.pyplot as plt\n",
    "import seaborn as sb\n",
    "def report(results, n_top=3):\n",
    "    for i in range(1, n_top + 1):\n",
    "        candidates = np.flatnonzero(results['rank_test_score'] == i)\n",
    "        for candidate in candidates:\n",
    "            print(\"Model with rank: {0}\".format(i))\n",
    "            print(\"Mean validation score: {0:.6f} (std: {1:.6f})\".format(\n",
    "                  results['mean_test_score'][candidate],\n",
    "                  results['std_test_score'][candidate]))\n",
    "            print(\"Parameters: {0}\".format(results['params'][candidate]))\n",
    "            print(\"\")\n",
    "\n",
    "def Threshold_Finder(Y_test,Y_predict):\n",
    "    I = []\n",
    "    roc_ = []\n",
    "    for i in np.linspace(0.01,1,1000):\n",
    "        Y_predict = Y_predict_prob[:,1] > i\n",
    "        roc = f1_score(Y_test,Y_predict)\n",
    "        I.append(i)\n",
    "        roc_.append(roc)\n",
    "    Temp = I[roc_.index(max(roc_))]\n",
    "    return Temp"
   ]
  },
  {
   "cell_type": "markdown",
   "id": "8ce6415e",
   "metadata": {
    "id": "383fdbbc"
   },
   "source": [
    "#  Loading the datasets"
   ]
  },
  {
   "cell_type": "code",
   "execution_count": 2,
   "id": "b9e8b075",
   "metadata": {
    "executionInfo": {
     "elapsed": 469,
     "status": "ok",
     "timestamp": 1704280711934,
     "user": {
      "displayName": "Kunal Badhe",
      "userId": "11018207794575040070"
     },
     "user_tz": -330
    },
    "id": "9b13dc8e"
   },
   "outputs": [],
   "source": [
    "train_data = r'paydayloan_collections.csv'\n",
    "#test_data = r''\n",
    "\n",
    "train_data = pd.read_csv(train_data)\n",
    "#test_data = pd.read_csv(test_data)"
   ]
  },
  {
   "cell_type": "code",
   "execution_count": 3,
   "id": "010aa268",
   "metadata": {
    "colab": {
     "base_uri": "https://localhost:8080/",
     "height": 1000
    },
    "executionInfo": {
     "elapsed": 6,
     "status": "ok",
     "timestamp": 1704280714736,
     "user": {
      "displayName": "Kunal Badhe",
      "userId": "11018207794575040070"
     },
     "user_tz": -330
    },
    "id": "d5f2e00c",
    "outputId": "8075c83c-7ae0-4fa2-9a8d-ef7efc8cd177"
   },
   "outputs": [
    {
     "data": {
      "text/html": [
       "<div>\n",
       "<style scoped>\n",
       "    .dataframe tbody tr th:only-of-type {\n",
       "        vertical-align: middle;\n",
       "    }\n",
       "\n",
       "    .dataframe tbody tr th {\n",
       "        vertical-align: top;\n",
       "    }\n",
       "\n",
       "    .dataframe thead th {\n",
       "        text-align: right;\n",
       "    }\n",
       "</style>\n",
       "<table border=\"1\" class=\"dataframe\">\n",
       "  <thead>\n",
       "    <tr style=\"text-align: right;\">\n",
       "      <th></th>\n",
       "      <th>0</th>\n",
       "      <th>1</th>\n",
       "      <th>2</th>\n",
       "      <th>3</th>\n",
       "      <th>4</th>\n",
       "      <th>5</th>\n",
       "      <th>6</th>\n",
       "      <th>7</th>\n",
       "      <th>8</th>\n",
       "      <th>9</th>\n",
       "      <th>...</th>\n",
       "      <th>29990</th>\n",
       "      <th>29991</th>\n",
       "      <th>29992</th>\n",
       "      <th>29993</th>\n",
       "      <th>29994</th>\n",
       "      <th>29995</th>\n",
       "      <th>29996</th>\n",
       "      <th>29997</th>\n",
       "      <th>29998</th>\n",
       "      <th>29999</th>\n",
       "    </tr>\n",
       "  </thead>\n",
       "  <tbody>\n",
       "    <tr>\n",
       "      <th>payment</th>\n",
       "      <td>Success</td>\n",
       "      <td>Denied</td>\n",
       "      <td>Denied</td>\n",
       "      <td>Success</td>\n",
       "      <td>Success</td>\n",
       "      <td>Success</td>\n",
       "      <td>Success</td>\n",
       "      <td>Success</td>\n",
       "      <td>Denied</td>\n",
       "      <td>Denied</td>\n",
       "      <td>...</td>\n",
       "      <td>Success</td>\n",
       "      <td>Success</td>\n",
       "      <td>Denied</td>\n",
       "      <td>Success</td>\n",
       "      <td>Success</td>\n",
       "      <td>Success</td>\n",
       "      <td>Denied</td>\n",
       "      <td>Denied</td>\n",
       "      <td>Success</td>\n",
       "      <td>Success</td>\n",
       "    </tr>\n",
       "    <tr>\n",
       "      <th>var1</th>\n",
       "      <td>qw</td>\n",
       "      <td>qw</td>\n",
       "      <td>qw</td>\n",
       "      <td>wv</td>\n",
       "      <td>ma</td>\n",
       "      <td>kq</td>\n",
       "      <td>wv</td>\n",
       "      <td>qw</td>\n",
       "      <td>wv</td>\n",
       "      <td>qw</td>\n",
       "      <td>...</td>\n",
       "      <td>qw</td>\n",
       "      <td>wv</td>\n",
       "      <td>qw</td>\n",
       "      <td>wv</td>\n",
       "      <td>wv</td>\n",
       "      <td>qw</td>\n",
       "      <td>kq</td>\n",
       "      <td>kq</td>\n",
       "      <td>qw</td>\n",
       "      <td>qw</td>\n",
       "    </tr>\n",
       "    <tr>\n",
       "      <th>var2</th>\n",
       "      <td>hk</td>\n",
       "      <td>rv</td>\n",
       "      <td>zg</td>\n",
       "      <td>js</td>\n",
       "      <td>xn</td>\n",
       "      <td>py</td>\n",
       "      <td>py</td>\n",
       "      <td>rv</td>\n",
       "      <td>rv</td>\n",
       "      <td>rv</td>\n",
       "      <td>...</td>\n",
       "      <td>py</td>\n",
       "      <td>py</td>\n",
       "      <td>rv</td>\n",
       "      <td>bq</td>\n",
       "      <td>py</td>\n",
       "      <td>zg</td>\n",
       "      <td>bq</td>\n",
       "      <td>js</td>\n",
       "      <td>py</td>\n",
       "      <td>js</td>\n",
       "    </tr>\n",
       "    <tr>\n",
       "      <th>var3</th>\n",
       "      <td>3.11</td>\n",
       "      <td>3.35</td>\n",
       "      <td>4.15</td>\n",
       "      <td>6.23</td>\n",
       "      <td>1.28</td>\n",
       "      <td>-2.45</td>\n",
       "      <td>1.05</td>\n",
       "      <td>5.41</td>\n",
       "      <td>7.29</td>\n",
       "      <td>3.13</td>\n",
       "      <td>...</td>\n",
       "      <td>-3.2</td>\n",
       "      <td>7.75</td>\n",
       "      <td>4.82</td>\n",
       "      <td>2.2</td>\n",
       "      <td>2.51</td>\n",
       "      <td>3.85</td>\n",
       "      <td>3.32</td>\n",
       "      <td>2.98</td>\n",
       "      <td>-0.3</td>\n",
       "      <td>6.03</td>\n",
       "    </tr>\n",
       "    <tr>\n",
       "      <th>var4</th>\n",
       "      <td>16.06</td>\n",
       "      <td>11.18</td>\n",
       "      <td>29.19</td>\n",
       "      <td>15.7</td>\n",
       "      <td>20.71</td>\n",
       "      <td>22.45</td>\n",
       "      <td>23.02</td>\n",
       "      <td>17.92</td>\n",
       "      <td>26.83</td>\n",
       "      <td>34.21</td>\n",
       "      <td>...</td>\n",
       "      <td>7.38</td>\n",
       "      <td>26.77</td>\n",
       "      <td>26.04</td>\n",
       "      <td>-26.34</td>\n",
       "      <td>4.36</td>\n",
       "      <td>12.75</td>\n",
       "      <td>25.31</td>\n",
       "      <td>19.28</td>\n",
       "      <td>16.41</td>\n",
       "      <td>-6.99</td>\n",
       "    </tr>\n",
       "    <tr>\n",
       "      <th>var5</th>\n",
       "      <td>-4.6</td>\n",
       "      <td>-18.55</td>\n",
       "      <td>18.91</td>\n",
       "      <td>2.81</td>\n",
       "      <td>14.98</td>\n",
       "      <td>15.18</td>\n",
       "      <td>17.59</td>\n",
       "      <td>-14.59</td>\n",
       "      <td>33.92</td>\n",
       "      <td>22.55</td>\n",
       "      <td>...</td>\n",
       "      <td>40.39</td>\n",
       "      <td>45.77</td>\n",
       "      <td>14.51</td>\n",
       "      <td>18.82</td>\n",
       "      <td>53.03</td>\n",
       "      <td>47.62</td>\n",
       "      <td>15.9</td>\n",
       "      <td>16.2</td>\n",
       "      <td>22.8</td>\n",
       "      <td>-28.71</td>\n",
       "    </tr>\n",
       "    <tr>\n",
       "      <th>var6</th>\n",
       "      <td>22.34</td>\n",
       "      <td>6.68</td>\n",
       "      <td>16.4</td>\n",
       "      <td>4.46</td>\n",
       "      <td>11.19</td>\n",
       "      <td>-2.12</td>\n",
       "      <td>6.65</td>\n",
       "      <td>5.0</td>\n",
       "      <td>13.35</td>\n",
       "      <td>0.8</td>\n",
       "      <td>...</td>\n",
       "      <td>7.69</td>\n",
       "      <td>4.51</td>\n",
       "      <td>4.12</td>\n",
       "      <td>14.42</td>\n",
       "      <td>-0.73</td>\n",
       "      <td>3.34</td>\n",
       "      <td>10.96</td>\n",
       "      <td>-1.7</td>\n",
       "      <td>-9.99</td>\n",
       "      <td>11.82</td>\n",
       "    </tr>\n",
       "    <tr>\n",
       "      <th>var7</th>\n",
       "      <td>13.53</td>\n",
       "      <td>12.78</td>\n",
       "      <td>3.67</td>\n",
       "      <td>5.13</td>\n",
       "      <td>17.66</td>\n",
       "      <td>-8.24</td>\n",
       "      <td>-2.06</td>\n",
       "      <td>1.34</td>\n",
       "      <td>20.57</td>\n",
       "      <td>6.91</td>\n",
       "      <td>...</td>\n",
       "      <td>-5.24</td>\n",
       "      <td>6.97</td>\n",
       "      <td>12.07</td>\n",
       "      <td>2.44</td>\n",
       "      <td>14.0</td>\n",
       "      <td>17.22</td>\n",
       "      <td>10.13</td>\n",
       "      <td>9.45</td>\n",
       "      <td>26.89</td>\n",
       "      <td>4.71</td>\n",
       "    </tr>\n",
       "    <tr>\n",
       "      <th>var8</th>\n",
       "      <td>1.53</td>\n",
       "      <td>6.62</td>\n",
       "      <td>5.72</td>\n",
       "      <td>8.66</td>\n",
       "      <td>1.13</td>\n",
       "      <td>10.34</td>\n",
       "      <td>12.2</td>\n",
       "      <td>-8.54</td>\n",
       "      <td>4.46</td>\n",
       "      <td>11.18</td>\n",
       "      <td>...</td>\n",
       "      <td>7.09</td>\n",
       "      <td>15.35</td>\n",
       "      <td>11.31</td>\n",
       "      <td>4.12</td>\n",
       "      <td>15.72</td>\n",
       "      <td>7.0</td>\n",
       "      <td>10.32</td>\n",
       "      <td>-8.44</td>\n",
       "      <td>-1.1</td>\n",
       "      <td>5.0</td>\n",
       "    </tr>\n",
       "    <tr>\n",
       "      <th>var9</th>\n",
       "      <td>nv</td>\n",
       "      <td>nv</td>\n",
       "      <td>ch</td>\n",
       "      <td>ja</td>\n",
       "      <td>nv</td>\n",
       "      <td>ch</td>\n",
       "      <td>ch</td>\n",
       "      <td>ch</td>\n",
       "      <td>ch</td>\n",
       "      <td>ch</td>\n",
       "      <td>...</td>\n",
       "      <td>ch</td>\n",
       "      <td>ch</td>\n",
       "      <td>ch</td>\n",
       "      <td>ch</td>\n",
       "      <td>ch</td>\n",
       "      <td>ch</td>\n",
       "      <td>ch</td>\n",
       "      <td>ch</td>\n",
       "      <td>ch</td>\n",
       "      <td>ch</td>\n",
       "    </tr>\n",
       "    <tr>\n",
       "      <th>var10</th>\n",
       "      <td>ld</td>\n",
       "      <td>ld</td>\n",
       "      <td>ld</td>\n",
       "      <td>ld</td>\n",
       "      <td>ld</td>\n",
       "      <td>db</td>\n",
       "      <td>ld</td>\n",
       "      <td>ld</td>\n",
       "      <td>db</td>\n",
       "      <td>ld</td>\n",
       "      <td>...</td>\n",
       "      <td>ld</td>\n",
       "      <td>ld</td>\n",
       "      <td>ld</td>\n",
       "      <td>db</td>\n",
       "      <td>ld</td>\n",
       "      <td>ld</td>\n",
       "      <td>ld</td>\n",
       "      <td>ld</td>\n",
       "      <td>db</td>\n",
       "      <td>db</td>\n",
       "    </tr>\n",
       "    <tr>\n",
       "      <th>var11</th>\n",
       "      <td>rl</td>\n",
       "      <td>te</td>\n",
       "      <td>te</td>\n",
       "      <td>te</td>\n",
       "      <td>te</td>\n",
       "      <td>te</td>\n",
       "      <td>te</td>\n",
       "      <td>te</td>\n",
       "      <td>te</td>\n",
       "      <td>rl</td>\n",
       "      <td>...</td>\n",
       "      <td>te</td>\n",
       "      <td>te</td>\n",
       "      <td>te</td>\n",
       "      <td>te</td>\n",
       "      <td>te</td>\n",
       "      <td>te</td>\n",
       "      <td>te</td>\n",
       "      <td>rl</td>\n",
       "      <td>rl</td>\n",
       "      <td>rl</td>\n",
       "    </tr>\n",
       "    <tr>\n",
       "      <th>var12</th>\n",
       "      <td>4.46</td>\n",
       "      <td>4.04</td>\n",
       "      <td>-4.41</td>\n",
       "      <td>2.14</td>\n",
       "      <td>14.93</td>\n",
       "      <td>8.64</td>\n",
       "      <td>14.91</td>\n",
       "      <td>13.97</td>\n",
       "      <td>15.19</td>\n",
       "      <td>22.57</td>\n",
       "      <td>...</td>\n",
       "      <td>7.54</td>\n",
       "      <td>4.21</td>\n",
       "      <td>6.46</td>\n",
       "      <td>9.13</td>\n",
       "      <td>-3.83</td>\n",
       "      <td>17.62</td>\n",
       "      <td>13.03</td>\n",
       "      <td>2.6</td>\n",
       "      <td>6.07</td>\n",
       "      <td>15.76</td>\n",
       "    </tr>\n",
       "    <tr>\n",
       "      <th>var13</th>\n",
       "      <td>cb</td>\n",
       "      <td>kh</td>\n",
       "      <td>cb</td>\n",
       "      <td>iz</td>\n",
       "      <td>te</td>\n",
       "      <td>iz</td>\n",
       "      <td>cb</td>\n",
       "      <td>cb</td>\n",
       "      <td>kh</td>\n",
       "      <td>te</td>\n",
       "      <td>...</td>\n",
       "      <td>te</td>\n",
       "      <td>iz</td>\n",
       "      <td>te</td>\n",
       "      <td>iz</td>\n",
       "      <td>kh</td>\n",
       "      <td>cb</td>\n",
       "      <td>cb</td>\n",
       "      <td>cb</td>\n",
       "      <td>iz</td>\n",
       "      <td>te</td>\n",
       "    </tr>\n",
       "    <tr>\n",
       "      <th>var14</th>\n",
       "      <td>4.93</td>\n",
       "      <td>-0.76</td>\n",
       "      <td>1.21</td>\n",
       "      <td>3.56</td>\n",
       "      <td>2.2</td>\n",
       "      <td>0.37</td>\n",
       "      <td>-0.84</td>\n",
       "      <td>5.85</td>\n",
       "      <td>5.23</td>\n",
       "      <td>0.62</td>\n",
       "      <td>...</td>\n",
       "      <td>5.51</td>\n",
       "      <td>-0.24</td>\n",
       "      <td>-0.55</td>\n",
       "      <td>5.23</td>\n",
       "      <td>1.61</td>\n",
       "      <td>0.57</td>\n",
       "      <td>4.4</td>\n",
       "      <td>-0.67</td>\n",
       "      <td>4.13</td>\n",
       "      <td>2.58</td>\n",
       "    </tr>\n",
       "    <tr>\n",
       "      <th>var15</th>\n",
       "      <td>26.48</td>\n",
       "      <td>16.21</td>\n",
       "      <td>29.06</td>\n",
       "      <td>23.61</td>\n",
       "      <td>-19.16</td>\n",
       "      <td>35.83</td>\n",
       "      <td>-8.38</td>\n",
       "      <td>28.99</td>\n",
       "      <td>-7.39</td>\n",
       "      <td>-0.84</td>\n",
       "      <td>...</td>\n",
       "      <td>26.9</td>\n",
       "      <td>15.59</td>\n",
       "      <td>23.75</td>\n",
       "      <td>26.02</td>\n",
       "      <td>25.56</td>\n",
       "      <td>41.55</td>\n",
       "      <td>49.51</td>\n",
       "      <td>20.66</td>\n",
       "      <td>49.06</td>\n",
       "      <td>31.3</td>\n",
       "    </tr>\n",
       "    <tr>\n",
       "      <th>var16</th>\n",
       "      <td>10.48</td>\n",
       "      <td>-0.87</td>\n",
       "      <td>5.49</td>\n",
       "      <td>15.34</td>\n",
       "      <td>-3.0</td>\n",
       "      <td>8.05</td>\n",
       "      <td>15.66</td>\n",
       "      <td>15.06</td>\n",
       "      <td>-5.47</td>\n",
       "      <td>-0.19</td>\n",
       "      <td>...</td>\n",
       "      <td>31.28</td>\n",
       "      <td>5.04</td>\n",
       "      <td>10.88</td>\n",
       "      <td>18.71</td>\n",
       "      <td>-32.28</td>\n",
       "      <td>19.06</td>\n",
       "      <td>5.56</td>\n",
       "      <td>5.44</td>\n",
       "      <td>23.66</td>\n",
       "      <td>12.16</td>\n",
       "    </tr>\n",
       "    <tr>\n",
       "      <th>var17</th>\n",
       "      <td>ov</td>\n",
       "      <td>ki</td>\n",
       "      <td>bw</td>\n",
       "      <td>bw</td>\n",
       "      <td>ki</td>\n",
       "      <td>ki</td>\n",
       "      <td>zk</td>\n",
       "      <td>bw</td>\n",
       "      <td>bw</td>\n",
       "      <td>bw</td>\n",
       "      <td>...</td>\n",
       "      <td>ov</td>\n",
       "      <td>bw</td>\n",
       "      <td>ki</td>\n",
       "      <td>zk</td>\n",
       "      <td>zk</td>\n",
       "      <td>bw</td>\n",
       "      <td>zk</td>\n",
       "      <td>ki</td>\n",
       "      <td>ki</td>\n",
       "      <td>ov</td>\n",
       "    </tr>\n",
       "    <tr>\n",
       "      <th>var18</th>\n",
       "      <td>11.17</td>\n",
       "      <td>15.5</td>\n",
       "      <td>-10.84</td>\n",
       "      <td>-24.26</td>\n",
       "      <td>12.02</td>\n",
       "      <td>32.12</td>\n",
       "      <td>69.45</td>\n",
       "      <td>15.39</td>\n",
       "      <td>7.47</td>\n",
       "      <td>-11.42</td>\n",
       "      <td>...</td>\n",
       "      <td>30.31</td>\n",
       "      <td>-28.53</td>\n",
       "      <td>-30.69</td>\n",
       "      <td>-13.76</td>\n",
       "      <td>29.76</td>\n",
       "      <td>27.28</td>\n",
       "      <td>14.54</td>\n",
       "      <td>-7.13</td>\n",
       "      <td>9.46</td>\n",
       "      <td>-21.38</td>\n",
       "    </tr>\n",
       "    <tr>\n",
       "      <th>var19</th>\n",
       "      <td>ev</td>\n",
       "      <td>tg</td>\n",
       "      <td>me</td>\n",
       "      <td>ev</td>\n",
       "      <td>me</td>\n",
       "      <td>ev</td>\n",
       "      <td>ev</td>\n",
       "      <td>tg</td>\n",
       "      <td>qu</td>\n",
       "      <td>me</td>\n",
       "      <td>...</td>\n",
       "      <td>qu</td>\n",
       "      <td>qu</td>\n",
       "      <td>tg</td>\n",
       "      <td>me</td>\n",
       "      <td>ev</td>\n",
       "      <td>ev</td>\n",
       "      <td>me</td>\n",
       "      <td>qu</td>\n",
       "      <td>hw</td>\n",
       "      <td>ev</td>\n",
       "    </tr>\n",
       "    <tr>\n",
       "      <th>var20</th>\n",
       "      <td>19.15</td>\n",
       "      <td>28.39</td>\n",
       "      <td>1.6</td>\n",
       "      <td>-11.89</td>\n",
       "      <td>18.47</td>\n",
       "      <td>9.94</td>\n",
       "      <td>27.55</td>\n",
       "      <td>17.71</td>\n",
       "      <td>32.47</td>\n",
       "      <td>39.63</td>\n",
       "      <td>...</td>\n",
       "      <td>35.89</td>\n",
       "      <td>-8.67</td>\n",
       "      <td>14.58</td>\n",
       "      <td>50.04</td>\n",
       "      <td>0.43</td>\n",
       "      <td>8.83</td>\n",
       "      <td>-2.61</td>\n",
       "      <td>49.73</td>\n",
       "      <td>14.49</td>\n",
       "      <td>39.38</td>\n",
       "    </tr>\n",
       "    <tr>\n",
       "      <th>var21</th>\n",
       "      <td>8.94</td>\n",
       "      <td>31.02</td>\n",
       "      <td>23.26</td>\n",
       "      <td>29.25</td>\n",
       "      <td>2.19</td>\n",
       "      <td>-0.26</td>\n",
       "      <td>14.39</td>\n",
       "      <td>4.09</td>\n",
       "      <td>12.25</td>\n",
       "      <td>14.06</td>\n",
       "      <td>...</td>\n",
       "      <td>17.72</td>\n",
       "      <td>14.31</td>\n",
       "      <td>30.08</td>\n",
       "      <td>44.62</td>\n",
       "      <td>19.46</td>\n",
       "      <td>25.0</td>\n",
       "      <td>26.49</td>\n",
       "      <td>39.61</td>\n",
       "      <td>44.22</td>\n",
       "      <td>-0.06</td>\n",
       "    </tr>\n",
       "    <tr>\n",
       "      <th>var22</th>\n",
       "      <td>-12.76</td>\n",
       "      <td>34.76</td>\n",
       "      <td>9.5</td>\n",
       "      <td>-1.53</td>\n",
       "      <td>10.24</td>\n",
       "      <td>8.11</td>\n",
       "      <td>-4.73</td>\n",
       "      <td>22.62</td>\n",
       "      <td>21.17</td>\n",
       "      <td>14.27</td>\n",
       "      <td>...</td>\n",
       "      <td>13.12</td>\n",
       "      <td>13.0</td>\n",
       "      <td>24.44</td>\n",
       "      <td>-18.51</td>\n",
       "      <td>12.52</td>\n",
       "      <td>18.14</td>\n",
       "      <td>22.88</td>\n",
       "      <td>4.4</td>\n",
       "      <td>0.46</td>\n",
       "      <td>25.11</td>\n",
       "    </tr>\n",
       "    <tr>\n",
       "      <th>var23</th>\n",
       "      <td>ub</td>\n",
       "      <td>cz</td>\n",
       "      <td>ri</td>\n",
       "      <td>ri</td>\n",
       "      <td>ub</td>\n",
       "      <td>ri</td>\n",
       "      <td>tf</td>\n",
       "      <td>ub</td>\n",
       "      <td>tf</td>\n",
       "      <td>tf</td>\n",
       "      <td>...</td>\n",
       "      <td>qu</td>\n",
       "      <td>tf</td>\n",
       "      <td>tf</td>\n",
       "      <td>ub</td>\n",
       "      <td>ub</td>\n",
       "      <td>tf</td>\n",
       "      <td>qu</td>\n",
       "      <td>ub</td>\n",
       "      <td>tf</td>\n",
       "      <td>yv</td>\n",
       "    </tr>\n",
       "    <tr>\n",
       "      <th>var24</th>\n",
       "      <td>12.06</td>\n",
       "      <td>1.44</td>\n",
       "      <td>7.77</td>\n",
       "      <td>8.94</td>\n",
       "      <td>8.92</td>\n",
       "      <td>2.32</td>\n",
       "      <td>8.57</td>\n",
       "      <td>2.82</td>\n",
       "      <td>15.0</td>\n",
       "      <td>6.59</td>\n",
       "      <td>...</td>\n",
       "      <td>-1.32</td>\n",
       "      <td>6.71</td>\n",
       "      <td>2.0</td>\n",
       "      <td>1.75</td>\n",
       "      <td>6.54</td>\n",
       "      <td>8.54</td>\n",
       "      <td>12.11</td>\n",
       "      <td>7.75</td>\n",
       "      <td>11.5</td>\n",
       "      <td>7.67</td>\n",
       "    </tr>\n",
       "    <tr>\n",
       "      <th>var25</th>\n",
       "      <td>2.46</td>\n",
       "      <td>9.44</td>\n",
       "      <td>8.7</td>\n",
       "      <td>19.33</td>\n",
       "      <td>5.48</td>\n",
       "      <td>6.89</td>\n",
       "      <td>8.73</td>\n",
       "      <td>-11.05</td>\n",
       "      <td>7.42</td>\n",
       "      <td>6.22</td>\n",
       "      <td>...</td>\n",
       "      <td>5.75</td>\n",
       "      <td>4.93</td>\n",
       "      <td>10.08</td>\n",
       "      <td>-3.55</td>\n",
       "      <td>3.98</td>\n",
       "      <td>14.95</td>\n",
       "      <td>11.45</td>\n",
       "      <td>1.65</td>\n",
       "      <td>5.9</td>\n",
       "      <td>6.34</td>\n",
       "    </tr>\n",
       "    <tr>\n",
       "      <th>var26</th>\n",
       "      <td>4.73</td>\n",
       "      <td>13.56</td>\n",
       "      <td>-1.75</td>\n",
       "      <td>23.73</td>\n",
       "      <td>-0.28</td>\n",
       "      <td>-3.51</td>\n",
       "      <td>2.87</td>\n",
       "      <td>11.94</td>\n",
       "      <td>12.93</td>\n",
       "      <td>3.33</td>\n",
       "      <td>...</td>\n",
       "      <td>7.84</td>\n",
       "      <td>16.57</td>\n",
       "      <td>8.55</td>\n",
       "      <td>17.99</td>\n",
       "      <td>16.66</td>\n",
       "      <td>32.69</td>\n",
       "      <td>11.56</td>\n",
       "      <td>17.83</td>\n",
       "      <td>20.33</td>\n",
       "      <td>20.05</td>\n",
       "    </tr>\n",
       "    <tr>\n",
       "      <th>var27</th>\n",
       "      <td>-1.72</td>\n",
       "      <td>-2.24</td>\n",
       "      <td>5.96</td>\n",
       "      <td>5.54</td>\n",
       "      <td>4.01</td>\n",
       "      <td>6.65</td>\n",
       "      <td>1.22</td>\n",
       "      <td>9.08</td>\n",
       "      <td>0.87</td>\n",
       "      <td>-2.54</td>\n",
       "      <td>...</td>\n",
       "      <td>8.75</td>\n",
       "      <td>6.87</td>\n",
       "      <td>4.28</td>\n",
       "      <td>3.68</td>\n",
       "      <td>-0.97</td>\n",
       "      <td>-3.71</td>\n",
       "      <td>3.52</td>\n",
       "      <td>9.67</td>\n",
       "      <td>4.17</td>\n",
       "      <td>7.85</td>\n",
       "    </tr>\n",
       "    <tr>\n",
       "      <th>var28</th>\n",
       "      <td>0.91</td>\n",
       "      <td>0.24</td>\n",
       "      <td>1.91</td>\n",
       "      <td>0.85</td>\n",
       "      <td>1.21</td>\n",
       "      <td>-1.12</td>\n",
       "      <td>1.26</td>\n",
       "      <td>0.68</td>\n",
       "      <td>1.6</td>\n",
       "      <td>-1.43</td>\n",
       "      <td>...</td>\n",
       "      <td>2.19</td>\n",
       "      <td>-0.94</td>\n",
       "      <td>0.87</td>\n",
       "      <td>-1.18</td>\n",
       "      <td>0.46</td>\n",
       "      <td>1.2</td>\n",
       "      <td>0.92</td>\n",
       "      <td>-0.64</td>\n",
       "      <td>0.78</td>\n",
       "      <td>1.2</td>\n",
       "    </tr>\n",
       "    <tr>\n",
       "      <th>var29</th>\n",
       "      <td>ev</td>\n",
       "      <td>ev</td>\n",
       "      <td>ev</td>\n",
       "      <td>ev</td>\n",
       "      <td>ev</td>\n",
       "      <td>ev</td>\n",
       "      <td>ev</td>\n",
       "      <td>ev</td>\n",
       "      <td>dg</td>\n",
       "      <td>ev</td>\n",
       "      <td>...</td>\n",
       "      <td>ev</td>\n",
       "      <td>ev</td>\n",
       "      <td>ev</td>\n",
       "      <td>ev</td>\n",
       "      <td>ev</td>\n",
       "      <td>ev</td>\n",
       "      <td>ev</td>\n",
       "      <td>ev</td>\n",
       "      <td>ev</td>\n",
       "      <td>ev</td>\n",
       "    </tr>\n",
       "    <tr>\n",
       "      <th>var30</th>\n",
       "      <td>8.0</td>\n",
       "      <td>-2.9</td>\n",
       "      <td>22.67</td>\n",
       "      <td>36.31</td>\n",
       "      <td>11.33</td>\n",
       "      <td>9.93</td>\n",
       "      <td>21.75</td>\n",
       "      <td>7.53</td>\n",
       "      <td>-4.66</td>\n",
       "      <td>13.69</td>\n",
       "      <td>...</td>\n",
       "      <td>20.89</td>\n",
       "      <td>22.11</td>\n",
       "      <td>5.13</td>\n",
       "      <td>-4.62</td>\n",
       "      <td>15.22</td>\n",
       "      <td>-7.12</td>\n",
       "      <td>13.28</td>\n",
       "      <td>31.07</td>\n",
       "      <td>40.53</td>\n",
       "      <td>4.74</td>\n",
       "    </tr>\n",
       "  </tbody>\n",
       "</table>\n",
       "<p>31 rows × 30000 columns</p>\n",
       "</div>"
      ],
      "text/plain": [
       "           0       1       2        3        4        5        6        7      \\\n",
       "payment  Success  Denied  Denied  Success  Success  Success  Success  Success   \n",
       "var1          qw      qw      qw       wv       ma       kq       wv       qw   \n",
       "var2          hk      rv      zg       js       xn       py       py       rv   \n",
       "var3        3.11    3.35    4.15     6.23     1.28    -2.45     1.05     5.41   \n",
       "var4       16.06   11.18   29.19     15.7    20.71    22.45    23.02    17.92   \n",
       "var5        -4.6  -18.55   18.91     2.81    14.98    15.18    17.59   -14.59   \n",
       "var6       22.34    6.68    16.4     4.46    11.19    -2.12     6.65      5.0   \n",
       "var7       13.53   12.78    3.67     5.13    17.66    -8.24    -2.06     1.34   \n",
       "var8        1.53    6.62    5.72     8.66     1.13    10.34     12.2    -8.54   \n",
       "var9          nv      nv      ch       ja       nv       ch       ch       ch   \n",
       "var10         ld      ld      ld       ld       ld       db       ld       ld   \n",
       "var11         rl      te      te       te       te       te       te       te   \n",
       "var12       4.46    4.04   -4.41     2.14    14.93     8.64    14.91    13.97   \n",
       "var13         cb      kh      cb       iz       te       iz       cb       cb   \n",
       "var14       4.93   -0.76    1.21     3.56      2.2     0.37    -0.84     5.85   \n",
       "var15      26.48   16.21   29.06    23.61   -19.16    35.83    -8.38    28.99   \n",
       "var16      10.48   -0.87    5.49    15.34     -3.0     8.05    15.66    15.06   \n",
       "var17         ov      ki      bw       bw       ki       ki       zk       bw   \n",
       "var18      11.17    15.5  -10.84   -24.26    12.02    32.12    69.45    15.39   \n",
       "var19         ev      tg      me       ev       me       ev       ev       tg   \n",
       "var20      19.15   28.39     1.6   -11.89    18.47     9.94    27.55    17.71   \n",
       "var21       8.94   31.02   23.26    29.25     2.19    -0.26    14.39     4.09   \n",
       "var22     -12.76   34.76     9.5    -1.53    10.24     8.11    -4.73    22.62   \n",
       "var23         ub      cz      ri       ri       ub       ri       tf       ub   \n",
       "var24      12.06    1.44    7.77     8.94     8.92     2.32     8.57     2.82   \n",
       "var25       2.46    9.44     8.7    19.33     5.48     6.89     8.73   -11.05   \n",
       "var26       4.73   13.56   -1.75    23.73    -0.28    -3.51     2.87    11.94   \n",
       "var27      -1.72   -2.24    5.96     5.54     4.01     6.65     1.22     9.08   \n",
       "var28       0.91    0.24    1.91     0.85     1.21    -1.12     1.26     0.68   \n",
       "var29         ev      ev      ev       ev       ev       ev       ev       ev   \n",
       "var30        8.0    -2.9   22.67    36.31    11.33     9.93    21.75     7.53   \n",
       "\n",
       "          8       9      ...    29990    29991   29992    29993    29994  \\\n",
       "payment  Denied  Denied  ...  Success  Success  Denied  Success  Success   \n",
       "var1         wv      qw  ...       qw       wv      qw       wv       wv   \n",
       "var2         rv      rv  ...       py       py      rv       bq       py   \n",
       "var3       7.29    3.13  ...     -3.2     7.75    4.82      2.2     2.51   \n",
       "var4      26.83   34.21  ...     7.38    26.77   26.04   -26.34     4.36   \n",
       "var5      33.92   22.55  ...    40.39    45.77   14.51    18.82    53.03   \n",
       "var6      13.35     0.8  ...     7.69     4.51    4.12    14.42    -0.73   \n",
       "var7      20.57    6.91  ...    -5.24     6.97   12.07     2.44     14.0   \n",
       "var8       4.46   11.18  ...     7.09    15.35   11.31     4.12    15.72   \n",
       "var9         ch      ch  ...       ch       ch      ch       ch       ch   \n",
       "var10        db      ld  ...       ld       ld      ld       db       ld   \n",
       "var11        te      rl  ...       te       te      te       te       te   \n",
       "var12     15.19   22.57  ...     7.54     4.21    6.46     9.13    -3.83   \n",
       "var13        kh      te  ...       te       iz      te       iz       kh   \n",
       "var14      5.23    0.62  ...     5.51    -0.24   -0.55     5.23     1.61   \n",
       "var15     -7.39   -0.84  ...     26.9    15.59   23.75    26.02    25.56   \n",
       "var16     -5.47   -0.19  ...    31.28     5.04   10.88    18.71   -32.28   \n",
       "var17        bw      bw  ...       ov       bw      ki       zk       zk   \n",
       "var18      7.47  -11.42  ...    30.31   -28.53  -30.69   -13.76    29.76   \n",
       "var19        qu      me  ...       qu       qu      tg       me       ev   \n",
       "var20     32.47   39.63  ...    35.89    -8.67   14.58    50.04     0.43   \n",
       "var21     12.25   14.06  ...    17.72    14.31   30.08    44.62    19.46   \n",
       "var22     21.17   14.27  ...    13.12     13.0   24.44   -18.51    12.52   \n",
       "var23        tf      tf  ...       qu       tf      tf       ub       ub   \n",
       "var24      15.0    6.59  ...    -1.32     6.71     2.0     1.75     6.54   \n",
       "var25      7.42    6.22  ...     5.75     4.93   10.08    -3.55     3.98   \n",
       "var26     12.93    3.33  ...     7.84    16.57    8.55    17.99    16.66   \n",
       "var27      0.87   -2.54  ...     8.75     6.87    4.28     3.68    -0.97   \n",
       "var28       1.6   -1.43  ...     2.19    -0.94    0.87    -1.18     0.46   \n",
       "var29        dg      ev  ...       ev       ev      ev       ev       ev   \n",
       "var30     -4.66   13.69  ...    20.89    22.11    5.13    -4.62    15.22   \n",
       "\n",
       "           29995   29996   29997    29998    29999  \n",
       "payment  Success  Denied  Denied  Success  Success  \n",
       "var1          qw      kq      kq       qw       qw  \n",
       "var2          zg      bq      js       py       js  \n",
       "var3        3.85    3.32    2.98     -0.3     6.03  \n",
       "var4       12.75   25.31   19.28    16.41    -6.99  \n",
       "var5       47.62    15.9    16.2     22.8   -28.71  \n",
       "var6        3.34   10.96    -1.7    -9.99    11.82  \n",
       "var7       17.22   10.13    9.45    26.89     4.71  \n",
       "var8         7.0   10.32   -8.44     -1.1      5.0  \n",
       "var9          ch      ch      ch       ch       ch  \n",
       "var10         ld      ld      ld       db       db  \n",
       "var11         te      te      rl       rl       rl  \n",
       "var12      17.62   13.03     2.6     6.07    15.76  \n",
       "var13         cb      cb      cb       iz       te  \n",
       "var14       0.57     4.4   -0.67     4.13     2.58  \n",
       "var15      41.55   49.51   20.66    49.06     31.3  \n",
       "var16      19.06    5.56    5.44    23.66    12.16  \n",
       "var17         bw      zk      ki       ki       ov  \n",
       "var18      27.28   14.54   -7.13     9.46   -21.38  \n",
       "var19         ev      me      qu       hw       ev  \n",
       "var20       8.83   -2.61   49.73    14.49    39.38  \n",
       "var21       25.0   26.49   39.61    44.22    -0.06  \n",
       "var22      18.14   22.88     4.4     0.46    25.11  \n",
       "var23         tf      qu      ub       tf       yv  \n",
       "var24       8.54   12.11    7.75     11.5     7.67  \n",
       "var25      14.95   11.45    1.65      5.9     6.34  \n",
       "var26      32.69   11.56   17.83    20.33    20.05  \n",
       "var27      -3.71    3.52    9.67     4.17     7.85  \n",
       "var28        1.2    0.92   -0.64     0.78      1.2  \n",
       "var29         ev      ev      ev       ev       ev  \n",
       "var30      -7.12   13.28   31.07    40.53     4.74  \n",
       "\n",
       "[31 rows x 30000 columns]"
      ]
     },
     "execution_count": 3,
     "metadata": {},
     "output_type": "execute_result"
    }
   ],
   "source": [
    "# Data Previews\n",
    "train_data.transpose()\n"
   ]
  },
  {
   "cell_type": "code",
   "execution_count": 4,
   "id": "22230d95",
   "metadata": {
    "colab": {
     "base_uri": "https://localhost:8080/"
    },
    "executionInfo": {
     "elapsed": 419,
     "status": "ok",
     "timestamp": 1704280721226,
     "user": {
      "displayName": "Kunal Badhe",
      "userId": "11018207794575040070"
     },
     "user_tz": -330
    },
    "id": "42ad48cd",
    "outputId": "2e386dc1-f942-4c61-c1f7-128c82800ab5"
   },
   "outputs": [
    {
     "name": "stdout",
     "output_type": "stream",
     "text": [
      "<class 'pandas.core.frame.DataFrame'>\n",
      "RangeIndex: 30000 entries, 0 to 29999\n",
      "Data columns (total 31 columns):\n",
      " #   Column   Non-Null Count  Dtype  \n",
      "---  ------   --------------  -----  \n",
      " 0   payment  30000 non-null  object \n",
      " 1   var1     30000 non-null  object \n",
      " 2   var2     30000 non-null  object \n",
      " 3   var3     30000 non-null  float64\n",
      " 4   var4     30000 non-null  float64\n",
      " 5   var5     30000 non-null  float64\n",
      " 6   var6     30000 non-null  float64\n",
      " 7   var7     30000 non-null  float64\n",
      " 8   var8     30000 non-null  float64\n",
      " 9   var9     30000 non-null  object \n",
      " 10  var10    30000 non-null  object \n",
      " 11  var11    30000 non-null  object \n",
      " 12  var12    30000 non-null  float64\n",
      " 13  var13    30000 non-null  object \n",
      " 14  var14    30000 non-null  float64\n",
      " 15  var15    30000 non-null  float64\n",
      " 16  var16    30000 non-null  float64\n",
      " 17  var17    30000 non-null  object \n",
      " 18  var18    30000 non-null  float64\n",
      " 19  var19    30000 non-null  object \n",
      " 20  var20    30000 non-null  float64\n",
      " 21  var21    30000 non-null  float64\n",
      " 22  var22    30000 non-null  float64\n",
      " 23  var23    30000 non-null  object \n",
      " 24  var24    30000 non-null  float64\n",
      " 25  var25    30000 non-null  float64\n",
      " 26  var26    30000 non-null  float64\n",
      " 27  var27    30000 non-null  float64\n",
      " 28  var28    30000 non-null  float64\n",
      " 29  var29    30000 non-null  object \n",
      " 30  var30    30000 non-null  float64\n",
      "dtypes: float64(20), object(11)\n",
      "memory usage: 7.1+ MB\n"
     ]
    }
   ],
   "source": [
    "# get information of Data\n",
    "train_data.info()"
   ]
  },
  {
   "cell_type": "code",
   "execution_count": 5,
   "id": "088e3c53",
   "metadata": {
    "executionInfo": {
     "elapsed": 421,
     "status": "ok",
     "timestamp": 1704280731194,
     "user": {
      "displayName": "Kunal Badhe",
      "userId": "11018207794575040070"
     },
     "user_tz": -330
    },
    "id": "3812bcf7"
   },
   "outputs": [],
   "source": [
    "p1 = pdPipeline([\n",
    "    ('columns_selection',VarSelector(['var1','var2','var9','var10','var11','var13','var17','var19','var23','var29'])),\n",
    "    ('data_impute',DataFrameImputer()),\n",
    "    ('get_dummy',get_dummies_Pipe())\n",
    "])\n",
    "temp = pd.DataFrame(data = p1.fit_transform(train_data),columns = p1.get_feature_names())\n",
    "\n",
    "train_data = pd.concat([train_data,temp],axis = 1)"
   ]
  },
  {
   "cell_type": "code",
   "execution_count": 6,
   "id": "0148f543",
   "metadata": {
    "colab": {
     "base_uri": "https://localhost:8080/"
    },
    "executionInfo": {
     "elapsed": 416,
     "status": "ok",
     "timestamp": 1704280736068,
     "user": {
      "displayName": "Kunal Badhe",
      "userId": "11018207794575040070"
     },
     "user_tz": -330
    },
    "id": "e9be52b7",
    "outputId": "097e0111-d0b6-43d8-f1f6-d26050d2a7de"
   },
   "outputs": [
    {
     "name": "stdout",
     "output_type": "stream",
     "text": [
      "<class 'pandas.core.frame.DataFrame'>\n",
      "RangeIndex: 30000 entries, 0 to 29999\n",
      "Data columns (total 62 columns):\n",
      " #   Column    Non-Null Count  Dtype  \n",
      "---  ------    --------------  -----  \n",
      " 0   var3      30000 non-null  float64\n",
      " 1   var4      30000 non-null  float64\n",
      " 2   var5      30000 non-null  float64\n",
      " 3   var6      30000 non-null  float64\n",
      " 4   var7      30000 non-null  float64\n",
      " 5   var8      30000 non-null  float64\n",
      " 6   var12     30000 non-null  float64\n",
      " 7   var14     30000 non-null  float64\n",
      " 8   var15     30000 non-null  float64\n",
      " 9   var16     30000 non-null  float64\n",
      " 10  var18     30000 non-null  float64\n",
      " 11  var20     30000 non-null  float64\n",
      " 12  var21     30000 non-null  float64\n",
      " 13  var22     30000 non-null  float64\n",
      " 14  var24     30000 non-null  float64\n",
      " 15  var25     30000 non-null  float64\n",
      " 16  var26     30000 non-null  float64\n",
      " 17  var27     30000 non-null  float64\n",
      " 18  var28     30000 non-null  float64\n",
      " 19  var30     30000 non-null  float64\n",
      " 20  var1_qw   30000 non-null  int32  \n",
      " 21  var1_wv   30000 non-null  int32  \n",
      " 22  var1_kq   30000 non-null  int32  \n",
      " 23  var2_py   30000 non-null  int32  \n",
      " 24  var2_bq   30000 non-null  int32  \n",
      " 25  var2_hk   30000 non-null  int32  \n",
      " 26  var2_js   30000 non-null  int32  \n",
      " 27  var2_rv   30000 non-null  int32  \n",
      " 28  var2_zg   30000 non-null  int32  \n",
      " 29  var2_xn   30000 non-null  int32  \n",
      " 30  var2_qf   30000 non-null  int32  \n",
      " 31  var9_ch   30000 non-null  int32  \n",
      " 32  var9_nv   30000 non-null  int32  \n",
      " 33  var10_ld  30000 non-null  int32  \n",
      " 34  var10_db  30000 non-null  int32  \n",
      " 35  var11_te  30000 non-null  int32  \n",
      " 36  var13_cb  30000 non-null  int32  \n",
      " 37  var13_te  30000 non-null  int32  \n",
      " 38  var13_iz  30000 non-null  int32  \n",
      " 39  var13_kh  30000 non-null  int32  \n",
      " 40  var13_pf  30000 non-null  int32  \n",
      " 41  var13_np  30000 non-null  int32  \n",
      " 42  var17_bw  30000 non-null  int32  \n",
      " 43  var17_ki  30000 non-null  int32  \n",
      " 44  var17_zk  30000 non-null  int32  \n",
      " 45  var17_ov  30000 non-null  int32  \n",
      " 46  var19_ev  30000 non-null  int32  \n",
      " 47  var19_qu  30000 non-null  int32  \n",
      " 48  var19_tg  30000 non-null  int32  \n",
      " 49  var19_me  30000 non-null  int32  \n",
      " 50  var19_bz  30000 non-null  int32  \n",
      " 51  var19_fh  30000 non-null  int32  \n",
      " 52  var23_tf  30000 non-null  int32  \n",
      " 53  var23_ub  30000 non-null  int32  \n",
      " 54  var23_qu  30000 non-null  int32  \n",
      " 55  var23_ri  30000 non-null  int32  \n",
      " 56  var23_fe  30000 non-null  int32  \n",
      " 57  var23_da  30000 non-null  int32  \n",
      " 58  var23_cz  30000 non-null  int32  \n",
      " 59  var23_sy  30000 non-null  int32  \n",
      " 60  var23_yv  30000 non-null  int32  \n",
      " 61  var29_ev  30000 non-null  int32  \n",
      "dtypes: float64(20), int32(42)\n",
      "memory usage: 9.4 MB\n"
     ]
    }
   ],
   "source": [
    "Y_train = train_data['payment']\n",
    "Y_train = pd.DataFrame(data = Y_train , columns = ['payment'] )\n",
    "train_data.drop(columns = ['payment'],inplace = True)\n",
    "X_train = train_data\n",
    "X_train.drop(['var1','var2','var9','var10','var11','var13','var17','var19','var23','var29'],inplace = True,axis = 1)\n",
    "X_train.info()"
   ]
  },
  {
   "cell_type": "code",
   "execution_count": 7,
   "id": "aa8a0734",
   "metadata": {
    "colab": {
     "base_uri": "https://localhost:8080/",
     "height": 424
    },
    "executionInfo": {
     "elapsed": 491,
     "status": "ok",
     "timestamp": 1704280741105,
     "user": {
      "displayName": "Kunal Badhe",
      "userId": "11018207794575040070"
     },
     "user_tz": -330
    },
    "id": "677036c4",
    "outputId": "b2d82524-7fb3-480d-ad9a-285eb7624aa8"
   },
   "outputs": [
    {
     "data": {
      "text/html": [
       "<div>\n",
       "<style scoped>\n",
       "    .dataframe tbody tr th:only-of-type {\n",
       "        vertical-align: middle;\n",
       "    }\n",
       "\n",
       "    .dataframe tbody tr th {\n",
       "        vertical-align: top;\n",
       "    }\n",
       "\n",
       "    .dataframe thead th {\n",
       "        text-align: right;\n",
       "    }\n",
       "</style>\n",
       "<table border=\"1\" class=\"dataframe\">\n",
       "  <thead>\n",
       "    <tr style=\"text-align: right;\">\n",
       "      <th></th>\n",
       "      <th>payment</th>\n",
       "    </tr>\n",
       "  </thead>\n",
       "  <tbody>\n",
       "    <tr>\n",
       "      <th>0</th>\n",
       "      <td>Success</td>\n",
       "    </tr>\n",
       "    <tr>\n",
       "      <th>1</th>\n",
       "      <td>Denied</td>\n",
       "    </tr>\n",
       "    <tr>\n",
       "      <th>2</th>\n",
       "      <td>Denied</td>\n",
       "    </tr>\n",
       "    <tr>\n",
       "      <th>3</th>\n",
       "      <td>Success</td>\n",
       "    </tr>\n",
       "    <tr>\n",
       "      <th>4</th>\n",
       "      <td>Success</td>\n",
       "    </tr>\n",
       "    <tr>\n",
       "      <th>...</th>\n",
       "      <td>...</td>\n",
       "    </tr>\n",
       "    <tr>\n",
       "      <th>29995</th>\n",
       "      <td>Success</td>\n",
       "    </tr>\n",
       "    <tr>\n",
       "      <th>29996</th>\n",
       "      <td>Denied</td>\n",
       "    </tr>\n",
       "    <tr>\n",
       "      <th>29997</th>\n",
       "      <td>Denied</td>\n",
       "    </tr>\n",
       "    <tr>\n",
       "      <th>29998</th>\n",
       "      <td>Success</td>\n",
       "    </tr>\n",
       "    <tr>\n",
       "      <th>29999</th>\n",
       "      <td>Success</td>\n",
       "    </tr>\n",
       "  </tbody>\n",
       "</table>\n",
       "<p>30000 rows × 1 columns</p>\n",
       "</div>"
      ],
      "text/plain": [
       "       payment\n",
       "0      Success\n",
       "1       Denied\n",
       "2       Denied\n",
       "3      Success\n",
       "4      Success\n",
       "...        ...\n",
       "29995  Success\n",
       "29996   Denied\n",
       "29997   Denied\n",
       "29998  Success\n",
       "29999  Success\n",
       "\n",
       "[30000 rows x 1 columns]"
      ]
     },
     "execution_count": 7,
     "metadata": {},
     "output_type": "execute_result"
    }
   ],
   "source": [
    "Y_train"
   ]
  },
  {
   "cell_type": "code",
   "execution_count": 8,
   "id": "c0b93e5c",
   "metadata": {
    "colab": {
     "base_uri": "https://localhost:8080/"
    },
    "executionInfo": {
     "elapsed": 396,
     "status": "ok",
     "timestamp": 1704280754299,
     "user": {
      "displayName": "Kunal Badhe",
      "userId": "11018207794575040070"
     },
     "user_tz": -330
    },
    "id": "21007efc",
    "outputId": "d7fdb58f-abde-4bc2-d4bb-3eb37b462642"
   },
   "outputs": [
    {
     "data": {
      "text/plain": [
       "0        1\n",
       "1        0\n",
       "2        0\n",
       "3        1\n",
       "4        1\n",
       "        ..\n",
       "29995    1\n",
       "29996    0\n",
       "29997    0\n",
       "29998    1\n",
       "29999    1\n",
       "Name: payment, Length: 30000, dtype: int32"
      ]
     },
     "execution_count": 8,
     "metadata": {},
     "output_type": "execute_result"
    }
   ],
   "source": [
    "Y_train = (Y_train['payment'] == 'Success').astype(int)\n",
    "Y_train"
   ]
  },
  {
   "cell_type": "markdown",
   "id": "b6883dc9",
   "metadata": {
    "id": "e83dee59"
   },
   "source": [
    "# Create train_test_spit (for 1 time validation)\n"
   ]
  },
  {
   "cell_type": "code",
   "execution_count": 9,
   "id": "7cf69d32",
   "metadata": {
    "executionInfo": {
     "elapsed": 367,
     "status": "ok",
     "timestamp": 1704280764643,
     "user": {
      "displayName": "Kunal Badhe",
      "userId": "11018207794575040070"
     },
     "user_tz": -330
    },
    "id": "53917d02"
   },
   "outputs": [],
   "source": [
    "X_train,X_test,Y_train,Y_test = train_test_split(X_train, Y_train, test_size=0.2, random_state=1)"
   ]
  },
  {
   "cell_type": "markdown",
   "id": "0b204842",
   "metadata": {
    "id": "1da16ede"
   },
   "source": [
    "# Logistic Regression"
   ]
  },
  {
   "cell_type": "markdown",
   "id": "6a469ac6",
   "metadata": {
    "id": "b2151991"
   },
   "source": [
    "##  Fine a general model (default hyper parameter setting)\n"
   ]
  },
  {
   "cell_type": "code",
   "execution_count": 11,
   "id": "6ec81a87",
   "metadata": {
    "colab": {
     "base_uri": "https://localhost:8080/",
     "height": 75
    },
    "executionInfo": {
     "elapsed": 672,
     "status": "ok",
     "timestamp": 1704280768801,
     "user": {
      "displayName": "Kunal Badhe",
      "userId": "11018207794575040070"
     },
     "user_tz": -330
    },
    "id": "a34b67a0",
    "outputId": "5c82f8c3-f28e-460a-d769-dd7325cc6c15"
   },
   "outputs": [
    {
     "data": {
      "text/html": [
       "<style>#sk-container-id-1 {color: black;background-color: white;}#sk-container-id-1 pre{padding: 0;}#sk-container-id-1 div.sk-toggleable {background-color: white;}#sk-container-id-1 label.sk-toggleable__label {cursor: pointer;display: block;width: 100%;margin-bottom: 0;padding: 0.3em;box-sizing: border-box;text-align: center;}#sk-container-id-1 label.sk-toggleable__label-arrow:before {content: \"▸\";float: left;margin-right: 0.25em;color: #696969;}#sk-container-id-1 label.sk-toggleable__label-arrow:hover:before {color: black;}#sk-container-id-1 div.sk-estimator:hover label.sk-toggleable__label-arrow:before {color: black;}#sk-container-id-1 div.sk-toggleable__content {max-height: 0;max-width: 0;overflow: hidden;text-align: left;background-color: #f0f8ff;}#sk-container-id-1 div.sk-toggleable__content pre {margin: 0.2em;color: black;border-radius: 0.25em;background-color: #f0f8ff;}#sk-container-id-1 input.sk-toggleable__control:checked~div.sk-toggleable__content {max-height: 200px;max-width: 100%;overflow: auto;}#sk-container-id-1 input.sk-toggleable__control:checked~label.sk-toggleable__label-arrow:before {content: \"▾\";}#sk-container-id-1 div.sk-estimator input.sk-toggleable__control:checked~label.sk-toggleable__label {background-color: #d4ebff;}#sk-container-id-1 div.sk-label input.sk-toggleable__control:checked~label.sk-toggleable__label {background-color: #d4ebff;}#sk-container-id-1 input.sk-hidden--visually {border: 0;clip: rect(1px 1px 1px 1px);clip: rect(1px, 1px, 1px, 1px);height: 1px;margin: -1px;overflow: hidden;padding: 0;position: absolute;width: 1px;}#sk-container-id-1 div.sk-estimator {font-family: monospace;background-color: #f0f8ff;border: 1px dotted black;border-radius: 0.25em;box-sizing: border-box;margin-bottom: 0.5em;}#sk-container-id-1 div.sk-estimator:hover {background-color: #d4ebff;}#sk-container-id-1 div.sk-parallel-item::after {content: \"\";width: 100%;border-bottom: 1px solid gray;flex-grow: 1;}#sk-container-id-1 div.sk-label:hover label.sk-toggleable__label {background-color: #d4ebff;}#sk-container-id-1 div.sk-serial::before {content: \"\";position: absolute;border-left: 1px solid gray;box-sizing: border-box;top: 0;bottom: 0;left: 50%;z-index: 0;}#sk-container-id-1 div.sk-serial {display: flex;flex-direction: column;align-items: center;background-color: white;padding-right: 0.2em;padding-left: 0.2em;position: relative;}#sk-container-id-1 div.sk-item {position: relative;z-index: 1;}#sk-container-id-1 div.sk-parallel {display: flex;align-items: stretch;justify-content: center;background-color: white;position: relative;}#sk-container-id-1 div.sk-item::before, #sk-container-id-1 div.sk-parallel-item::before {content: \"\";position: absolute;border-left: 1px solid gray;box-sizing: border-box;top: 0;bottom: 0;left: 50%;z-index: -1;}#sk-container-id-1 div.sk-parallel-item {display: flex;flex-direction: column;z-index: 1;position: relative;background-color: white;}#sk-container-id-1 div.sk-parallel-item:first-child::after {align-self: flex-end;width: 50%;}#sk-container-id-1 div.sk-parallel-item:last-child::after {align-self: flex-start;width: 50%;}#sk-container-id-1 div.sk-parallel-item:only-child::after {width: 0;}#sk-container-id-1 div.sk-dashed-wrapped {border: 1px dashed gray;margin: 0 0.4em 0.5em 0.4em;box-sizing: border-box;padding-bottom: 0.4em;background-color: white;}#sk-container-id-1 div.sk-label label {font-family: monospace;font-weight: bold;display: inline-block;line-height: 1.2em;}#sk-container-id-1 div.sk-label-container {text-align: center;}#sk-container-id-1 div.sk-container {/* jupyter's `normalize.less` sets `[hidden] { display: none; }` but bootstrap.min.css set `[hidden] { display: none !important; }` so we also need the `!important` here to be able to override the default hidden behavior on the sphinx rendered scikit-learn.org. See: https://github.com/scikit-learn/scikit-learn/issues/21755 */display: inline-block !important;position: relative;}#sk-container-id-1 div.sk-text-repr-fallback {display: none;}</style><div id=\"sk-container-id-1\" class=\"sk-top-container\"><div class=\"sk-text-repr-fallback\"><pre>LogisticRegression()</pre><b>In a Jupyter environment, please rerun this cell to show the HTML representation or trust the notebook. <br />On GitHub, the HTML representation is unable to render, please try loading this page with nbviewer.org.</b></div><div class=\"sk-container\" hidden><div class=\"sk-item\"><div class=\"sk-estimator sk-toggleable\"><input class=\"sk-toggleable__control sk-hidden--visually\" id=\"sk-estimator-id-1\" type=\"checkbox\" checked><label for=\"sk-estimator-id-1\" class=\"sk-toggleable__label sk-toggleable__label-arrow\">LogisticRegression</label><div class=\"sk-toggleable__content\"><pre>LogisticRegression()</pre></div></div></div></div></div>"
      ],
      "text/plain": [
       "LogisticRegression()"
      ]
     },
     "execution_count": 11,
     "metadata": {},
     "output_type": "execute_result"
    }
   ],
   "source": [
    "LG_1 = LogisticRegression()\n",
    "LG_1.fit(X_train,Y_train)"
   ]
  },
  {
   "cell_type": "code",
   "execution_count": 12,
   "id": "527455ea",
   "metadata": {
    "colab": {
     "base_uri": "https://localhost:8080/"
    },
    "executionInfo": {
     "elapsed": 421,
     "status": "ok",
     "timestamp": 1704280776641,
     "user": {
      "displayName": "Kunal Badhe",
      "userId": "11018207794575040070"
     },
     "user_tz": -330
    },
    "id": "c5c3d779",
    "outputId": "3575c2f4-da6a-418a-b570-d06cc53fe3e6"
   },
   "outputs": [
    {
     "data": {
      "text/plain": [
       "array([[-2.99737623e-03, -1.28821488e-03,  7.18588717e-04,\n",
       "         1.85343114e-03, -3.02380059e-02,  3.63846415e-06,\n",
       "        -6.61761564e-04, -1.17358829e-02, -1.48892533e-03,\n",
       "         3.88722184e-02, -1.08395625e-03,  3.67299969e-05,\n",
       "        -1.52608507e-04,  5.93376096e-04,  4.63411055e-03,\n",
       "        -1.79805801e-01, -2.32678506e-04, -4.60354138e-03,\n",
       "         8.97124529e-03,  5.27912942e-04,  5.34348292e-02,\n",
       "         9.06743815e-02, -5.22277413e-03,  6.09814152e-02,\n",
       "        -9.31232272e-03,  3.85081291e-02, -3.13914969e-03,\n",
       "         5.91547790e-02,  3.10702547e-02, -2.13619736e-02,\n",
       "         1.62998665e-02,  9.61086645e-02,  7.91959976e-02,\n",
       "         5.08362435e-02,  6.56861650e-02,  6.56391366e-02,\n",
       "         1.82348870e-02,  2.08283553e-02,  1.64141619e-02,\n",
       "         5.36547911e-02,  6.33670856e-02,  1.90575236e-02,\n",
       "        -1.25551492e+00,  5.58213184e-01,  4.61476643e-01,\n",
       "         3.01210806e-01,  6.49266659e-02,  1.48167997e-02,\n",
       "         6.40695943e-02,  3.48009998e-02,  4.37761309e-02,\n",
       "        -6.26807217e-02, -1.45611832e-01,  1.02134973e+00,\n",
       "        -1.67452302e-01, -2.35104363e-01, -2.07106266e-01,\n",
       "        -1.02394490e-01, -7.92342491e-02, -1.46302810e-02,\n",
       "         1.29865723e-01,  6.29718761e-01]])"
      ]
     },
     "execution_count": 12,
     "metadata": {},
     "output_type": "execute_result"
    }
   ],
   "source": [
    "LG_1.coef_"
   ]
  },
  {
   "cell_type": "code",
   "execution_count": 13,
   "id": "12820414",
   "metadata": {
    "colab": {
     "base_uri": "https://localhost:8080/"
    },
    "executionInfo": {
     "elapsed": 401,
     "status": "ok",
     "timestamp": 1704280785170,
     "user": {
      "displayName": "Kunal Badhe",
      "userId": "11018207794575040070"
     },
     "user_tz": -330
    },
    "id": "d78558a8",
    "outputId": "f32e43fe-28b2-4723-8ddc-3a7d5ef95855"
   },
   "outputs": [
    {
     "data": {
      "text/plain": [
       "array([0.18151519])"
      ]
     },
     "execution_count": 13,
     "metadata": {},
     "output_type": "execute_result"
    }
   ],
   "source": [
    "LG_1.intercept_"
   ]
  },
  {
   "cell_type": "code",
   "execution_count": 14,
   "id": "50078ed1",
   "metadata": {
    "colab": {
     "base_uri": "https://localhost:8080/"
    },
    "executionInfo": {
     "elapsed": 398,
     "status": "ok",
     "timestamp": 1704280787948,
     "user": {
      "displayName": "Kunal Badhe",
      "userId": "11018207794575040070"
     },
     "user_tz": -330
    },
    "id": "c803d22b",
    "outputId": "5a5cc2d6-55da-4a9b-ac5a-5b365b4c89fc"
   },
   "outputs": [
    {
     "data": {
      "text/plain": [
       "array([0, 0, 0, ..., 1, 1, 1])"
      ]
     },
     "execution_count": 14,
     "metadata": {},
     "output_type": "execute_result"
    }
   ],
   "source": [
    "Y_predict = LG_1.predict(X_test)\n",
    "Y_predict"
   ]
  },
  {
   "cell_type": "code",
   "execution_count": 15,
   "id": "a8fe4091",
   "metadata": {
    "colab": {
     "base_uri": "https://localhost:8080/"
    },
    "executionInfo": {
     "elapsed": 391,
     "status": "ok",
     "timestamp": 1704280790910,
     "user": {
      "displayName": "Kunal Badhe",
      "userId": "11018207794575040070"
     },
     "user_tz": -330
    },
    "id": "cb4cd2e6",
    "outputId": "a86cdc70-721d-4005-907a-7d0fe3b1c305",
    "scrolled": true
   },
   "outputs": [
    {
     "data": {
      "text/plain": [
       "array([[3417,  324],\n",
       "       [ 534, 1725]])"
      ]
     },
     "execution_count": 15,
     "metadata": {},
     "output_type": "execute_result"
    }
   ],
   "source": [
    "confusion_matrix(Y_test,Y_predict)"
   ]
  },
  {
   "cell_type": "code",
   "execution_count": 16,
   "id": "a15a21f1",
   "metadata": {
    "colab": {
     "base_uri": "https://localhost:8080/"
    },
    "executionInfo": {
     "elapsed": 646,
     "status": "ok",
     "timestamp": 1704280793392,
     "user": {
      "displayName": "Kunal Badhe",
      "userId": "11018207794575040070"
     },
     "user_tz": -330
    },
    "id": "3b3eea50",
    "outputId": "d466e0b3-6d1e-48f4-f9cd-27b0f4531eda"
   },
   "outputs": [
    {
     "data": {
      "text/plain": [
       "0.857"
      ]
     },
     "execution_count": 16,
     "metadata": {},
     "output_type": "execute_result"
    }
   ],
   "source": [
    "accuracy_score(Y_test,Y_predict)"
   ]
  },
  {
   "cell_type": "code",
   "execution_count": 17,
   "id": "8c85aae4",
   "metadata": {
    "colab": {
     "base_uri": "https://localhost:8080/"
    },
    "executionInfo": {
     "elapsed": 394,
     "status": "ok",
     "timestamp": 1704280796791,
     "user": {
      "displayName": "Kunal Badhe",
      "userId": "11018207794575040070"
     },
     "user_tz": -330
    },
    "id": "e29f4f50",
    "outputId": "760885d7-92f4-4149-c6e7-180330516b48"
   },
   "outputs": [
    {
     "name": "stdout",
     "output_type": "stream",
     "text": [
      "              precision    recall  f1-score   support\n",
      "\n",
      "           0       0.86      0.91      0.89      3741\n",
      "           1       0.84      0.76      0.80      2259\n",
      "\n",
      "    accuracy                           0.86      6000\n",
      "   macro avg       0.85      0.84      0.84      6000\n",
      "weighted avg       0.86      0.86      0.86      6000\n",
      "\n"
     ]
    }
   ],
   "source": [
    "print(classification_report(Y_test,Y_predict))"
   ]
  },
  {
   "cell_type": "code",
   "execution_count": 18,
   "id": "a2376e93",
   "metadata": {
    "colab": {
     "base_uri": "https://localhost:8080/"
    },
    "executionInfo": {
     "elapsed": 413,
     "status": "ok",
     "timestamp": 1704280809666,
     "user": {
      "displayName": "Kunal Badhe",
      "userId": "11018207794575040070"
     },
     "user_tz": -330
    },
    "id": "2c934e58",
    "outputId": "fa92ecae-3bd2-4acd-bb3b-8ccbc6d75cc6",
    "scrolled": true
   },
   "outputs": [
    {
     "data": {
      "text/plain": [
       "0.8008356545961003"
      ]
     },
     "execution_count": 18,
     "metadata": {},
     "output_type": "execute_result"
    }
   ],
   "source": [
    "f1_score(Y_test,Y_predict)"
   ]
  },
  {
   "cell_type": "code",
   "execution_count": 19,
   "id": "1f59c476",
   "metadata": {
    "colab": {
     "base_uri": "https://localhost:8080/"
    },
    "executionInfo": {
     "elapsed": 398,
     "status": "ok",
     "timestamp": 1704280817770,
     "user": {
      "displayName": "Kunal Badhe",
      "userId": "11018207794575040070"
     },
     "user_tz": -330
    },
    "id": "bc896c63",
    "outputId": "cb0915e6-a6dc-462d-8b7c-6487020761d1",
    "scrolled": true
   },
   "outputs": [
    {
     "data": {
      "text/plain": [
       "array([[0.84955972, 0.15044028],\n",
       "       [0.89009549, 0.10990451],\n",
       "       [0.73465919, 0.26534081],\n",
       "       ...,\n",
       "       [0.24406615, 0.75593385],\n",
       "       [0.07885338, 0.92114662],\n",
       "       [0.34634105, 0.65365895]])"
      ]
     },
     "execution_count": 19,
     "metadata": {},
     "output_type": "execute_result"
    }
   ],
   "source": [
    "Y_predict_prob = LG_1.predict_proba(X_test)\n",
    "Y_predict_prob"
   ]
  },
  {
   "cell_type": "code",
   "execution_count": 20,
   "id": "694b3e8c",
   "metadata": {
    "colab": {
     "base_uri": "https://localhost:8080/"
    },
    "executionInfo": {
     "elapsed": 3151,
     "status": "ok",
     "timestamp": 1704280822405,
     "user": {
      "displayName": "Kunal Badhe",
      "userId": "11018207794575040070"
     },
     "user_tz": -330
    },
    "id": "7556b3cb",
    "outputId": "dfdf91fa-fb97-400e-b6f3-3b48d50afd8b",
    "scrolled": true
   },
   "outputs": [
    {
     "name": "stdout",
     "output_type": "stream",
     "text": [
      "              precision    recall  f1-score   support\n",
      "\n",
      "           0       0.89      0.88      0.89      3741\n",
      "           1       0.81      0.83      0.82      2259\n",
      "\n",
      "    accuracy                           0.86      6000\n",
      "   macro avg       0.85      0.85      0.85      6000\n",
      "weighted avg       0.86      0.86      0.86      6000\n",
      "\n"
     ]
    }
   ],
   "source": [
    "Y_predict = Y_predict_prob[:,1] > Threshold_Finder(Y_test,Y_predict)\n",
    "print(classification_report(Y_test,Y_predict))"
   ]
  },
  {
   "cell_type": "markdown",
   "id": "04882b34",
   "metadata": {
    "id": "db855aee"
   },
   "source": [
    "##  Hyper parameter with Cross validation (select best hyper parameter settings with multifold validations)\n"
   ]
  },
  {
   "cell_type": "code",
   "execution_count": 21,
   "id": "5a9b1558",
   "metadata": {
    "executionInfo": {
     "elapsed": 391,
     "status": "ok",
     "timestamp": 1704280833123,
     "user": {
      "displayName": "Kunal Badhe",
      "userId": "11018207794575040070"
     },
     "user_tz": -330
    },
    "id": "5a212ccf"
   },
   "outputs": [],
   "source": [
    "param_grid = {'penalty':['l1', 'l2', 'elasticnet', None],\n",
    "              'C':np.linspace(0.01,6,200),\n",
    "              'class_weight':['balanced',None],\n",
    "              'solver' : ['liblinear','saga']}"
   ]
  },
  {
   "cell_type": "code",
   "execution_count": 22,
   "id": "c902f902",
   "metadata": {
    "executionInfo": {
     "elapsed": 396,
     "status": "ok",
     "timestamp": 1704280836332,
     "user": {
      "displayName": "Kunal Badhe",
      "userId": "11018207794575040070"
     },
     "user_tz": -330
    },
    "id": "a0eafb64",
    "scrolled": true
   },
   "outputs": [],
   "source": [
    "Log_Reg_model = LogisticRegression()\n",
    "\n",
    "Log_Reg_Random_Search = RandomizedSearchCV(Log_Reg_model,\n",
    "                                          param_distributions = param_grid,\n",
    "                                          cv = 5,\n",
    "                                          n_iter = 25,\n",
    "                                          scoring = 'roc_auc')\n",
    "\n"
   ]
  },
  {
   "cell_type": "code",
   "execution_count": 23,
   "id": "d64dc7b3",
   "metadata": {
    "colab": {
     "base_uri": "https://localhost:8080/",
     "height": 118
    },
    "executionInfo": {
     "elapsed": 170933,
     "status": "ok",
     "timestamp": 1704281013185,
     "user": {
      "displayName": "Kunal Badhe",
      "userId": "11018207794575040070"
     },
     "user_tz": -330
    },
    "id": "55778aa6",
    "outputId": "37ab8bd4-b341-47b6-df14-44f5f1f1e3c9"
   },
   "outputs": [
    {
     "data": {
      "text/html": [
       "<style>#sk-container-id-2 {color: black;background-color: white;}#sk-container-id-2 pre{padding: 0;}#sk-container-id-2 div.sk-toggleable {background-color: white;}#sk-container-id-2 label.sk-toggleable__label {cursor: pointer;display: block;width: 100%;margin-bottom: 0;padding: 0.3em;box-sizing: border-box;text-align: center;}#sk-container-id-2 label.sk-toggleable__label-arrow:before {content: \"▸\";float: left;margin-right: 0.25em;color: #696969;}#sk-container-id-2 label.sk-toggleable__label-arrow:hover:before {color: black;}#sk-container-id-2 div.sk-estimator:hover label.sk-toggleable__label-arrow:before {color: black;}#sk-container-id-2 div.sk-toggleable__content {max-height: 0;max-width: 0;overflow: hidden;text-align: left;background-color: #f0f8ff;}#sk-container-id-2 div.sk-toggleable__content pre {margin: 0.2em;color: black;border-radius: 0.25em;background-color: #f0f8ff;}#sk-container-id-2 input.sk-toggleable__control:checked~div.sk-toggleable__content {max-height: 200px;max-width: 100%;overflow: auto;}#sk-container-id-2 input.sk-toggleable__control:checked~label.sk-toggleable__label-arrow:before {content: \"▾\";}#sk-container-id-2 div.sk-estimator input.sk-toggleable__control:checked~label.sk-toggleable__label {background-color: #d4ebff;}#sk-container-id-2 div.sk-label input.sk-toggleable__control:checked~label.sk-toggleable__label {background-color: #d4ebff;}#sk-container-id-2 input.sk-hidden--visually {border: 0;clip: rect(1px 1px 1px 1px);clip: rect(1px, 1px, 1px, 1px);height: 1px;margin: -1px;overflow: hidden;padding: 0;position: absolute;width: 1px;}#sk-container-id-2 div.sk-estimator {font-family: monospace;background-color: #f0f8ff;border: 1px dotted black;border-radius: 0.25em;box-sizing: border-box;margin-bottom: 0.5em;}#sk-container-id-2 div.sk-estimator:hover {background-color: #d4ebff;}#sk-container-id-2 div.sk-parallel-item::after {content: \"\";width: 100%;border-bottom: 1px solid gray;flex-grow: 1;}#sk-container-id-2 div.sk-label:hover label.sk-toggleable__label {background-color: #d4ebff;}#sk-container-id-2 div.sk-serial::before {content: \"\";position: absolute;border-left: 1px solid gray;box-sizing: border-box;top: 0;bottom: 0;left: 50%;z-index: 0;}#sk-container-id-2 div.sk-serial {display: flex;flex-direction: column;align-items: center;background-color: white;padding-right: 0.2em;padding-left: 0.2em;position: relative;}#sk-container-id-2 div.sk-item {position: relative;z-index: 1;}#sk-container-id-2 div.sk-parallel {display: flex;align-items: stretch;justify-content: center;background-color: white;position: relative;}#sk-container-id-2 div.sk-item::before, #sk-container-id-2 div.sk-parallel-item::before {content: \"\";position: absolute;border-left: 1px solid gray;box-sizing: border-box;top: 0;bottom: 0;left: 50%;z-index: -1;}#sk-container-id-2 div.sk-parallel-item {display: flex;flex-direction: column;z-index: 1;position: relative;background-color: white;}#sk-container-id-2 div.sk-parallel-item:first-child::after {align-self: flex-end;width: 50%;}#sk-container-id-2 div.sk-parallel-item:last-child::after {align-self: flex-start;width: 50%;}#sk-container-id-2 div.sk-parallel-item:only-child::after {width: 0;}#sk-container-id-2 div.sk-dashed-wrapped {border: 1px dashed gray;margin: 0 0.4em 0.5em 0.4em;box-sizing: border-box;padding-bottom: 0.4em;background-color: white;}#sk-container-id-2 div.sk-label label {font-family: monospace;font-weight: bold;display: inline-block;line-height: 1.2em;}#sk-container-id-2 div.sk-label-container {text-align: center;}#sk-container-id-2 div.sk-container {/* jupyter's `normalize.less` sets `[hidden] { display: none; }` but bootstrap.min.css set `[hidden] { display: none !important; }` so we also need the `!important` here to be able to override the default hidden behavior on the sphinx rendered scikit-learn.org. See: https://github.com/scikit-learn/scikit-learn/issues/21755 */display: inline-block !important;position: relative;}#sk-container-id-2 div.sk-text-repr-fallback {display: none;}</style><div id=\"sk-container-id-2\" class=\"sk-top-container\"><div class=\"sk-text-repr-fallback\"><pre>RandomizedSearchCV(cv=5, estimator=LogisticRegression(), n_iter=25,\n",
       "                   param_distributions={&#x27;C&#x27;: array([0.01      , 0.0401005 , 0.07020101, 0.10030151, 0.13040201,\n",
       "       0.16050251, 0.19060302, 0.22070352, 0.25080402, 0.28090452,\n",
       "       0.31100503, 0.34110553, 0.37120603, 0.40130653, 0.43140704,\n",
       "       0.46150754, 0.49160804, 0.52170854, 0.55180905, 0.58190955,\n",
       "       0.61201005, 0.64211055, 0.67221106, 0.70231...\n",
       "       5.27758794, 5.30768844, 5.33778894, 5.36788945, 5.39798995,\n",
       "       5.42809045, 5.45819095, 5.48829146, 5.51839196, 5.54849246,\n",
       "       5.57859296, 5.60869347, 5.63879397, 5.66889447, 5.69899497,\n",
       "       5.72909548, 5.75919598, 5.78929648, 5.81939698, 5.84949749,\n",
       "       5.87959799, 5.90969849, 5.93979899, 5.9698995 , 6.        ]),\n",
       "                                        &#x27;class_weight&#x27;: [&#x27;balanced&#x27;, None],\n",
       "                                        &#x27;penalty&#x27;: [&#x27;l1&#x27;, &#x27;l2&#x27;, &#x27;elasticnet&#x27;,\n",
       "                                                    None],\n",
       "                                        &#x27;solver&#x27;: [&#x27;liblinear&#x27;, &#x27;saga&#x27;]},\n",
       "                   scoring=&#x27;roc_auc&#x27;)</pre><b>In a Jupyter environment, please rerun this cell to show the HTML representation or trust the notebook. <br />On GitHub, the HTML representation is unable to render, please try loading this page with nbviewer.org.</b></div><div class=\"sk-container\" hidden><div class=\"sk-item sk-dashed-wrapped\"><div class=\"sk-label-container\"><div class=\"sk-label sk-toggleable\"><input class=\"sk-toggleable__control sk-hidden--visually\" id=\"sk-estimator-id-2\" type=\"checkbox\" ><label for=\"sk-estimator-id-2\" class=\"sk-toggleable__label sk-toggleable__label-arrow\">RandomizedSearchCV</label><div class=\"sk-toggleable__content\"><pre>RandomizedSearchCV(cv=5, estimator=LogisticRegression(), n_iter=25,\n",
       "                   param_distributions={&#x27;C&#x27;: array([0.01      , 0.0401005 , 0.07020101, 0.10030151, 0.13040201,\n",
       "       0.16050251, 0.19060302, 0.22070352, 0.25080402, 0.28090452,\n",
       "       0.31100503, 0.34110553, 0.37120603, 0.40130653, 0.43140704,\n",
       "       0.46150754, 0.49160804, 0.52170854, 0.55180905, 0.58190955,\n",
       "       0.61201005, 0.64211055, 0.67221106, 0.70231...\n",
       "       5.27758794, 5.30768844, 5.33778894, 5.36788945, 5.39798995,\n",
       "       5.42809045, 5.45819095, 5.48829146, 5.51839196, 5.54849246,\n",
       "       5.57859296, 5.60869347, 5.63879397, 5.66889447, 5.69899497,\n",
       "       5.72909548, 5.75919598, 5.78929648, 5.81939698, 5.84949749,\n",
       "       5.87959799, 5.90969849, 5.93979899, 5.9698995 , 6.        ]),\n",
       "                                        &#x27;class_weight&#x27;: [&#x27;balanced&#x27;, None],\n",
       "                                        &#x27;penalty&#x27;: [&#x27;l1&#x27;, &#x27;l2&#x27;, &#x27;elasticnet&#x27;,\n",
       "                                                    None],\n",
       "                                        &#x27;solver&#x27;: [&#x27;liblinear&#x27;, &#x27;saga&#x27;]},\n",
       "                   scoring=&#x27;roc_auc&#x27;)</pre></div></div></div><div class=\"sk-parallel\"><div class=\"sk-parallel-item\"><div class=\"sk-item\"><div class=\"sk-label-container\"><div class=\"sk-label sk-toggleable\"><input class=\"sk-toggleable__control sk-hidden--visually\" id=\"sk-estimator-id-3\" type=\"checkbox\" ><label for=\"sk-estimator-id-3\" class=\"sk-toggleable__label sk-toggleable__label-arrow\">estimator: LogisticRegression</label><div class=\"sk-toggleable__content\"><pre>LogisticRegression()</pre></div></div></div><div class=\"sk-serial\"><div class=\"sk-item\"><div class=\"sk-estimator sk-toggleable\"><input class=\"sk-toggleable__control sk-hidden--visually\" id=\"sk-estimator-id-4\" type=\"checkbox\" ><label for=\"sk-estimator-id-4\" class=\"sk-toggleable__label sk-toggleable__label-arrow\">LogisticRegression</label><div class=\"sk-toggleable__content\"><pre>LogisticRegression()</pre></div></div></div></div></div></div></div></div></div></div>"
      ],
      "text/plain": [
       "RandomizedSearchCV(cv=5, estimator=LogisticRegression(), n_iter=25,\n",
       "                   param_distributions={'C': array([0.01      , 0.0401005 , 0.07020101, 0.10030151, 0.13040201,\n",
       "       0.16050251, 0.19060302, 0.22070352, 0.25080402, 0.28090452,\n",
       "       0.31100503, 0.34110553, 0.37120603, 0.40130653, 0.43140704,\n",
       "       0.46150754, 0.49160804, 0.52170854, 0.55180905, 0.58190955,\n",
       "       0.61201005, 0.64211055, 0.67221106, 0.70231...\n",
       "       5.27758794, 5.30768844, 5.33778894, 5.36788945, 5.39798995,\n",
       "       5.42809045, 5.45819095, 5.48829146, 5.51839196, 5.54849246,\n",
       "       5.57859296, 5.60869347, 5.63879397, 5.66889447, 5.69899497,\n",
       "       5.72909548, 5.75919598, 5.78929648, 5.81939698, 5.84949749,\n",
       "       5.87959799, 5.90969849, 5.93979899, 5.9698995 , 6.        ]),\n",
       "                                        'class_weight': ['balanced', None],\n",
       "                                        'penalty': ['l1', 'l2', 'elasticnet',\n",
       "                                                    None],\n",
       "                                        'solver': ['liblinear', 'saga']},\n",
       "                   scoring='roc_auc')"
      ]
     },
     "execution_count": 23,
     "metadata": {},
     "output_type": "execute_result"
    }
   ],
   "source": [
    "Log_Reg_Random_Search.fit(X_train,Y_train)"
   ]
  },
  {
   "cell_type": "code",
   "execution_count": 24,
   "id": "6305287d",
   "metadata": {
    "colab": {
     "base_uri": "https://localhost:8080/",
     "height": 75
    },
    "executionInfo": {
     "elapsed": 425,
     "status": "ok",
     "timestamp": 1704281016393,
     "user": {
      "displayName": "Kunal Badhe",
      "userId": "11018207794575040070"
     },
     "user_tz": -330
    },
    "id": "178fc3b1",
    "outputId": "92681f12-3726-4f37-b657-cfe9283cf8ff"
   },
   "outputs": [
    {
     "data": {
      "text/html": [
       "<style>#sk-container-id-3 {color: black;background-color: white;}#sk-container-id-3 pre{padding: 0;}#sk-container-id-3 div.sk-toggleable {background-color: white;}#sk-container-id-3 label.sk-toggleable__label {cursor: pointer;display: block;width: 100%;margin-bottom: 0;padding: 0.3em;box-sizing: border-box;text-align: center;}#sk-container-id-3 label.sk-toggleable__label-arrow:before {content: \"▸\";float: left;margin-right: 0.25em;color: #696969;}#sk-container-id-3 label.sk-toggleable__label-arrow:hover:before {color: black;}#sk-container-id-3 div.sk-estimator:hover label.sk-toggleable__label-arrow:before {color: black;}#sk-container-id-3 div.sk-toggleable__content {max-height: 0;max-width: 0;overflow: hidden;text-align: left;background-color: #f0f8ff;}#sk-container-id-3 div.sk-toggleable__content pre {margin: 0.2em;color: black;border-radius: 0.25em;background-color: #f0f8ff;}#sk-container-id-3 input.sk-toggleable__control:checked~div.sk-toggleable__content {max-height: 200px;max-width: 100%;overflow: auto;}#sk-container-id-3 input.sk-toggleable__control:checked~label.sk-toggleable__label-arrow:before {content: \"▾\";}#sk-container-id-3 div.sk-estimator input.sk-toggleable__control:checked~label.sk-toggleable__label {background-color: #d4ebff;}#sk-container-id-3 div.sk-label input.sk-toggleable__control:checked~label.sk-toggleable__label {background-color: #d4ebff;}#sk-container-id-3 input.sk-hidden--visually {border: 0;clip: rect(1px 1px 1px 1px);clip: rect(1px, 1px, 1px, 1px);height: 1px;margin: -1px;overflow: hidden;padding: 0;position: absolute;width: 1px;}#sk-container-id-3 div.sk-estimator {font-family: monospace;background-color: #f0f8ff;border: 1px dotted black;border-radius: 0.25em;box-sizing: border-box;margin-bottom: 0.5em;}#sk-container-id-3 div.sk-estimator:hover {background-color: #d4ebff;}#sk-container-id-3 div.sk-parallel-item::after {content: \"\";width: 100%;border-bottom: 1px solid gray;flex-grow: 1;}#sk-container-id-3 div.sk-label:hover label.sk-toggleable__label {background-color: #d4ebff;}#sk-container-id-3 div.sk-serial::before {content: \"\";position: absolute;border-left: 1px solid gray;box-sizing: border-box;top: 0;bottom: 0;left: 50%;z-index: 0;}#sk-container-id-3 div.sk-serial {display: flex;flex-direction: column;align-items: center;background-color: white;padding-right: 0.2em;padding-left: 0.2em;position: relative;}#sk-container-id-3 div.sk-item {position: relative;z-index: 1;}#sk-container-id-3 div.sk-parallel {display: flex;align-items: stretch;justify-content: center;background-color: white;position: relative;}#sk-container-id-3 div.sk-item::before, #sk-container-id-3 div.sk-parallel-item::before {content: \"\";position: absolute;border-left: 1px solid gray;box-sizing: border-box;top: 0;bottom: 0;left: 50%;z-index: -1;}#sk-container-id-3 div.sk-parallel-item {display: flex;flex-direction: column;z-index: 1;position: relative;background-color: white;}#sk-container-id-3 div.sk-parallel-item:first-child::after {align-self: flex-end;width: 50%;}#sk-container-id-3 div.sk-parallel-item:last-child::after {align-self: flex-start;width: 50%;}#sk-container-id-3 div.sk-parallel-item:only-child::after {width: 0;}#sk-container-id-3 div.sk-dashed-wrapped {border: 1px dashed gray;margin: 0 0.4em 0.5em 0.4em;box-sizing: border-box;padding-bottom: 0.4em;background-color: white;}#sk-container-id-3 div.sk-label label {font-family: monospace;font-weight: bold;display: inline-block;line-height: 1.2em;}#sk-container-id-3 div.sk-label-container {text-align: center;}#sk-container-id-3 div.sk-container {/* jupyter's `normalize.less` sets `[hidden] { display: none; }` but bootstrap.min.css set `[hidden] { display: none !important; }` so we also need the `!important` here to be able to override the default hidden behavior on the sphinx rendered scikit-learn.org. See: https://github.com/scikit-learn/scikit-learn/issues/21755 */display: inline-block !important;position: relative;}#sk-container-id-3 div.sk-text-repr-fallback {display: none;}</style><div id=\"sk-container-id-3\" class=\"sk-top-container\"><div class=\"sk-text-repr-fallback\"><pre>LogisticRegression(C=0.6120100502512563, penalty=&#x27;l1&#x27;, solver=&#x27;liblinear&#x27;)</pre><b>In a Jupyter environment, please rerun this cell to show the HTML representation or trust the notebook. <br />On GitHub, the HTML representation is unable to render, please try loading this page with nbviewer.org.</b></div><div class=\"sk-container\" hidden><div class=\"sk-item\"><div class=\"sk-estimator sk-toggleable\"><input class=\"sk-toggleable__control sk-hidden--visually\" id=\"sk-estimator-id-5\" type=\"checkbox\" checked><label for=\"sk-estimator-id-5\" class=\"sk-toggleable__label sk-toggleable__label-arrow\">LogisticRegression</label><div class=\"sk-toggleable__content\"><pre>LogisticRegression(C=0.6120100502512563, penalty=&#x27;l1&#x27;, solver=&#x27;liblinear&#x27;)</pre></div></div></div></div></div>"
      ],
      "text/plain": [
       "LogisticRegression(C=0.6120100502512563, penalty='l1', solver='liblinear')"
      ]
     },
     "execution_count": 24,
     "metadata": {},
     "output_type": "execute_result"
    }
   ],
   "source": [
    "Log_Reg_Random_Search.best_estimator_"
   ]
  },
  {
   "cell_type": "code",
   "execution_count": null,
   "id": "42d87bdf",
   "metadata": {
    "colab": {
     "background_save": true
    },
    "id": "caf47d4c"
   },
   "outputs": [
    {
     "data": {
      "text/html": [
       "<style>#sk-container-id-4 {color: black;background-color: white;}#sk-container-id-4 pre{padding: 0;}#sk-container-id-4 div.sk-toggleable {background-color: white;}#sk-container-id-4 label.sk-toggleable__label {cursor: pointer;display: block;width: 100%;margin-bottom: 0;padding: 0.3em;box-sizing: border-box;text-align: center;}#sk-container-id-4 label.sk-toggleable__label-arrow:before {content: \"▸\";float: left;margin-right: 0.25em;color: #696969;}#sk-container-id-4 label.sk-toggleable__label-arrow:hover:before {color: black;}#sk-container-id-4 div.sk-estimator:hover label.sk-toggleable__label-arrow:before {color: black;}#sk-container-id-4 div.sk-toggleable__content {max-height: 0;max-width: 0;overflow: hidden;text-align: left;background-color: #f0f8ff;}#sk-container-id-4 div.sk-toggleable__content pre {margin: 0.2em;color: black;border-radius: 0.25em;background-color: #f0f8ff;}#sk-container-id-4 input.sk-toggleable__control:checked~div.sk-toggleable__content {max-height: 200px;max-width: 100%;overflow: auto;}#sk-container-id-4 input.sk-toggleable__control:checked~label.sk-toggleable__label-arrow:before {content: \"▾\";}#sk-container-id-4 div.sk-estimator input.sk-toggleable__control:checked~label.sk-toggleable__label {background-color: #d4ebff;}#sk-container-id-4 div.sk-label input.sk-toggleable__control:checked~label.sk-toggleable__label {background-color: #d4ebff;}#sk-container-id-4 input.sk-hidden--visually {border: 0;clip: rect(1px 1px 1px 1px);clip: rect(1px, 1px, 1px, 1px);height: 1px;margin: -1px;overflow: hidden;padding: 0;position: absolute;width: 1px;}#sk-container-id-4 div.sk-estimator {font-family: monospace;background-color: #f0f8ff;border: 1px dotted black;border-radius: 0.25em;box-sizing: border-box;margin-bottom: 0.5em;}#sk-container-id-4 div.sk-estimator:hover {background-color: #d4ebff;}#sk-container-id-4 div.sk-parallel-item::after {content: \"\";width: 100%;border-bottom: 1px solid gray;flex-grow: 1;}#sk-container-id-4 div.sk-label:hover label.sk-toggleable__label {background-color: #d4ebff;}#sk-container-id-4 div.sk-serial::before {content: \"\";position: absolute;border-left: 1px solid gray;box-sizing: border-box;top: 0;bottom: 0;left: 50%;z-index: 0;}#sk-container-id-4 div.sk-serial {display: flex;flex-direction: column;align-items: center;background-color: white;padding-right: 0.2em;padding-left: 0.2em;position: relative;}#sk-container-id-4 div.sk-item {position: relative;z-index: 1;}#sk-container-id-4 div.sk-parallel {display: flex;align-items: stretch;justify-content: center;background-color: white;position: relative;}#sk-container-id-4 div.sk-item::before, #sk-container-id-4 div.sk-parallel-item::before {content: \"\";position: absolute;border-left: 1px solid gray;box-sizing: border-box;top: 0;bottom: 0;left: 50%;z-index: -1;}#sk-container-id-4 div.sk-parallel-item {display: flex;flex-direction: column;z-index: 1;position: relative;background-color: white;}#sk-container-id-4 div.sk-parallel-item:first-child::after {align-self: flex-end;width: 50%;}#sk-container-id-4 div.sk-parallel-item:last-child::after {align-self: flex-start;width: 50%;}#sk-container-id-4 div.sk-parallel-item:only-child::after {width: 0;}#sk-container-id-4 div.sk-dashed-wrapped {border: 1px dashed gray;margin: 0 0.4em 0.5em 0.4em;box-sizing: border-box;padding-bottom: 0.4em;background-color: white;}#sk-container-id-4 div.sk-label label {font-family: monospace;font-weight: bold;display: inline-block;line-height: 1.2em;}#sk-container-id-4 div.sk-label-container {text-align: center;}#sk-container-id-4 div.sk-container {/* jupyter's `normalize.less` sets `[hidden] { display: none; }` but bootstrap.min.css set `[hidden] { display: none !important; }` so we also need the `!important` here to be able to override the default hidden behavior on the sphinx rendered scikit-learn.org. See: https://github.com/scikit-learn/scikit-learn/issues/21755 */display: inline-block !important;position: relative;}#sk-container-id-4 div.sk-text-repr-fallback {display: none;}</style><div id=\"sk-container-id-4\" class=\"sk-top-container\"><div class=\"sk-text-repr-fallback\"><pre>GridSearchCV(cv=5, estimator=LogisticRegression(),\n",
       "             param_grid={&#x27;C&#x27;: array([0.1   , 0.1375, 0.175 , 0.2125, 0.25  , 0.2875, 0.325 , 0.3625,\n",
       "       0.4   , 0.4375, 0.475 , 0.5125, 0.55  , 0.5875, 0.625 , 0.6625,\n",
       "       0.7   , 0.7375, 0.775 , 0.8125, 0.85  , 0.8875, 0.925 , 0.9625,\n",
       "       1.    ]),\n",
       "                         &#x27;class_weight&#x27;: [&#x27;balanced&#x27;, None],\n",
       "                         &#x27;penalty&#x27;: [&#x27;l1&#x27;, &#x27;l2&#x27;, &#x27;elasticnet&#x27;, None],\n",
       "                         &#x27;solver&#x27;: [&#x27;liblinear&#x27;, &#x27;saga&#x27;]},\n",
       "             scoring=&#x27;roc_auc&#x27;)</pre><b>In a Jupyter environment, please rerun this cell to show the HTML representation or trust the notebook. <br />On GitHub, the HTML representation is unable to render, please try loading this page with nbviewer.org.</b></div><div class=\"sk-container\" hidden><div class=\"sk-item sk-dashed-wrapped\"><div class=\"sk-label-container\"><div class=\"sk-label sk-toggleable\"><input class=\"sk-toggleable__control sk-hidden--visually\" id=\"sk-estimator-id-6\" type=\"checkbox\" ><label for=\"sk-estimator-id-6\" class=\"sk-toggleable__label sk-toggleable__label-arrow\">GridSearchCV</label><div class=\"sk-toggleable__content\"><pre>GridSearchCV(cv=5, estimator=LogisticRegression(),\n",
       "             param_grid={&#x27;C&#x27;: array([0.1   , 0.1375, 0.175 , 0.2125, 0.25  , 0.2875, 0.325 , 0.3625,\n",
       "       0.4   , 0.4375, 0.475 , 0.5125, 0.55  , 0.5875, 0.625 , 0.6625,\n",
       "       0.7   , 0.7375, 0.775 , 0.8125, 0.85  , 0.8875, 0.925 , 0.9625,\n",
       "       1.    ]),\n",
       "                         &#x27;class_weight&#x27;: [&#x27;balanced&#x27;, None],\n",
       "                         &#x27;penalty&#x27;: [&#x27;l1&#x27;, &#x27;l2&#x27;, &#x27;elasticnet&#x27;, None],\n",
       "                         &#x27;solver&#x27;: [&#x27;liblinear&#x27;, &#x27;saga&#x27;]},\n",
       "             scoring=&#x27;roc_auc&#x27;)</pre></div></div></div><div class=\"sk-parallel\"><div class=\"sk-parallel-item\"><div class=\"sk-item\"><div class=\"sk-label-container\"><div class=\"sk-label sk-toggleable\"><input class=\"sk-toggleable__control sk-hidden--visually\" id=\"sk-estimator-id-7\" type=\"checkbox\" ><label for=\"sk-estimator-id-7\" class=\"sk-toggleable__label sk-toggleable__label-arrow\">estimator: LogisticRegression</label><div class=\"sk-toggleable__content\"><pre>LogisticRegression()</pre></div></div></div><div class=\"sk-serial\"><div class=\"sk-item\"><div class=\"sk-estimator sk-toggleable\"><input class=\"sk-toggleable__control sk-hidden--visually\" id=\"sk-estimator-id-8\" type=\"checkbox\" ><label for=\"sk-estimator-id-8\" class=\"sk-toggleable__label sk-toggleable__label-arrow\">LogisticRegression</label><div class=\"sk-toggleable__content\"><pre>LogisticRegression()</pre></div></div></div></div></div></div></div></div></div></div>"
      ],
      "text/plain": [
       "GridSearchCV(cv=5, estimator=LogisticRegression(),\n",
       "             param_grid={'C': array([0.1   , 0.1375, 0.175 , 0.2125, 0.25  , 0.2875, 0.325 , 0.3625,\n",
       "       0.4   , 0.4375, 0.475 , 0.5125, 0.55  , 0.5875, 0.625 , 0.6625,\n",
       "       0.7   , 0.7375, 0.775 , 0.8125, 0.85  , 0.8875, 0.925 , 0.9625,\n",
       "       1.    ]),\n",
       "                         'class_weight': ['balanced', None],\n",
       "                         'penalty': ['l1', 'l2', 'elasticnet', None],\n",
       "                         'solver': ['liblinear', 'saga']},\n",
       "             scoring='roc_auc')"
      ]
     },
     "execution_count": 25,
     "metadata": {},
     "output_type": "execute_result"
    }
   ],
   "source": [
    "param_grid = {'penalty':['l1', 'l2', 'elasticnet', None],\n",
    "              'C':np.linspace(0.1,1,25),\n",
    "              'class_weight':['balanced',None],\n",
    "              'solver' : ['liblinear','saga']}\n",
    "Log_Reg_model = LogisticRegression()\n",
    "\n",
    "Log_Reg_Grid_Search = GridSearchCV(Log_Reg_model,\n",
    "                             param_grid = param_grid,\n",
    "                             cv = 5,\n",
    "                             scoring = 'roc_auc')\n",
    "Log_Reg_Grid_Search.fit(X_train,Y_train)"
   ]
  },
  {
   "cell_type": "code",
   "execution_count": null,
   "id": "d4cf169d",
   "metadata": {
    "colab": {
     "base_uri": "https://localhost:8080/",
     "height": 74
    },
    "executionInfo": {
     "elapsed": 399,
     "status": "ok",
     "timestamp": 1703483965323,
     "user": {
      "displayName": "NIKHILESH NARKHEDE",
      "userId": "01192225661355979879"
     },
     "user_tz": -330
    },
    "id": "c393855f",
    "outputId": "6c1d93e8-2ff2-429a-fe79-640858fde85e",
    "scrolled": true
   },
   "outputs": [
    {
     "data": {
      "text/html": [
       "<style>#sk-container-id-5 {color: black;background-color: white;}#sk-container-id-5 pre{padding: 0;}#sk-container-id-5 div.sk-toggleable {background-color: white;}#sk-container-id-5 label.sk-toggleable__label {cursor: pointer;display: block;width: 100%;margin-bottom: 0;padding: 0.3em;box-sizing: border-box;text-align: center;}#sk-container-id-5 label.sk-toggleable__label-arrow:before {content: \"▸\";float: left;margin-right: 0.25em;color: #696969;}#sk-container-id-5 label.sk-toggleable__label-arrow:hover:before {color: black;}#sk-container-id-5 div.sk-estimator:hover label.sk-toggleable__label-arrow:before {color: black;}#sk-container-id-5 div.sk-toggleable__content {max-height: 0;max-width: 0;overflow: hidden;text-align: left;background-color: #f0f8ff;}#sk-container-id-5 div.sk-toggleable__content pre {margin: 0.2em;color: black;border-radius: 0.25em;background-color: #f0f8ff;}#sk-container-id-5 input.sk-toggleable__control:checked~div.sk-toggleable__content {max-height: 200px;max-width: 100%;overflow: auto;}#sk-container-id-5 input.sk-toggleable__control:checked~label.sk-toggleable__label-arrow:before {content: \"▾\";}#sk-container-id-5 div.sk-estimator input.sk-toggleable__control:checked~label.sk-toggleable__label {background-color: #d4ebff;}#sk-container-id-5 div.sk-label input.sk-toggleable__control:checked~label.sk-toggleable__label {background-color: #d4ebff;}#sk-container-id-5 input.sk-hidden--visually {border: 0;clip: rect(1px 1px 1px 1px);clip: rect(1px, 1px, 1px, 1px);height: 1px;margin: -1px;overflow: hidden;padding: 0;position: absolute;width: 1px;}#sk-container-id-5 div.sk-estimator {font-family: monospace;background-color: #f0f8ff;border: 1px dotted black;border-radius: 0.25em;box-sizing: border-box;margin-bottom: 0.5em;}#sk-container-id-5 div.sk-estimator:hover {background-color: #d4ebff;}#sk-container-id-5 div.sk-parallel-item::after {content: \"\";width: 100%;border-bottom: 1px solid gray;flex-grow: 1;}#sk-container-id-5 div.sk-label:hover label.sk-toggleable__label {background-color: #d4ebff;}#sk-container-id-5 div.sk-serial::before {content: \"\";position: absolute;border-left: 1px solid gray;box-sizing: border-box;top: 0;bottom: 0;left: 50%;z-index: 0;}#sk-container-id-5 div.sk-serial {display: flex;flex-direction: column;align-items: center;background-color: white;padding-right: 0.2em;padding-left: 0.2em;position: relative;}#sk-container-id-5 div.sk-item {position: relative;z-index: 1;}#sk-container-id-5 div.sk-parallel {display: flex;align-items: stretch;justify-content: center;background-color: white;position: relative;}#sk-container-id-5 div.sk-item::before, #sk-container-id-5 div.sk-parallel-item::before {content: \"\";position: absolute;border-left: 1px solid gray;box-sizing: border-box;top: 0;bottom: 0;left: 50%;z-index: -1;}#sk-container-id-5 div.sk-parallel-item {display: flex;flex-direction: column;z-index: 1;position: relative;background-color: white;}#sk-container-id-5 div.sk-parallel-item:first-child::after {align-self: flex-end;width: 50%;}#sk-container-id-5 div.sk-parallel-item:last-child::after {align-self: flex-start;width: 50%;}#sk-container-id-5 div.sk-parallel-item:only-child::after {width: 0;}#sk-container-id-5 div.sk-dashed-wrapped {border: 1px dashed gray;margin: 0 0.4em 0.5em 0.4em;box-sizing: border-box;padding-bottom: 0.4em;background-color: white;}#sk-container-id-5 div.sk-label label {font-family: monospace;font-weight: bold;display: inline-block;line-height: 1.2em;}#sk-container-id-5 div.sk-label-container {text-align: center;}#sk-container-id-5 div.sk-container {/* jupyter's `normalize.less` sets `[hidden] { display: none; }` but bootstrap.min.css set `[hidden] { display: none !important; }` so we also need the `!important` here to be able to override the default hidden behavior on the sphinx rendered scikit-learn.org. See: https://github.com/scikit-learn/scikit-learn/issues/21755 */display: inline-block !important;position: relative;}#sk-container-id-5 div.sk-text-repr-fallback {display: none;}</style><div id=\"sk-container-id-5\" class=\"sk-top-container\"><div class=\"sk-text-repr-fallback\"><pre>LogisticRegression(C=0.1, penalty=&#x27;l1&#x27;, solver=&#x27;liblinear&#x27;)</pre><b>In a Jupyter environment, please rerun this cell to show the HTML representation or trust the notebook. <br />On GitHub, the HTML representation is unable to render, please try loading this page with nbviewer.org.</b></div><div class=\"sk-container\" hidden><div class=\"sk-item\"><div class=\"sk-estimator sk-toggleable\"><input class=\"sk-toggleable__control sk-hidden--visually\" id=\"sk-estimator-id-9\" type=\"checkbox\" checked><label for=\"sk-estimator-id-9\" class=\"sk-toggleable__label sk-toggleable__label-arrow\">LogisticRegression</label><div class=\"sk-toggleable__content\"><pre>LogisticRegression(C=0.1, penalty=&#x27;l1&#x27;, solver=&#x27;liblinear&#x27;)</pre></div></div></div></div></div>"
      ],
      "text/plain": [
       "LogisticRegression(C=0.1, penalty='l1', solver='liblinear')"
      ]
     },
     "execution_count": 26,
     "metadata": {},
     "output_type": "execute_result"
    }
   ],
   "source": [
    "Log_Reg_Grid_Search.best_estimator_"
   ]
  },
  {
   "cell_type": "code",
   "execution_count": null,
   "id": "b20df038",
   "metadata": {
    "id": "1b348a31"
   },
   "outputs": [],
   "source": [
    "Log_Reg_model = Log_Reg_Grid_Search.best_estimator_"
   ]
  },
  {
   "cell_type": "code",
   "execution_count": null,
   "id": "dc534fd9",
   "metadata": {
    "id": "b142d238"
   },
   "outputs": [],
   "source": [
    "Log_Reg_model.fit(X_train,Y_train)\n",
    "Y_predict = Log_Reg_model.predict(X_test)"
   ]
  },
  {
   "cell_type": "code",
   "execution_count": null,
   "id": "94121e59",
   "metadata": {
    "colab": {
     "base_uri": "https://localhost:8080/"
    },
    "executionInfo": {
     "elapsed": 2,
     "status": "ok",
     "timestamp": 1703857920767,
     "user": {
      "displayName": "NIKHILESH NARKHEDE",
      "userId": "01192225661355979879"
     },
     "user_tz": -330
    },
    "id": "25a7b388",
    "outputId": "c66bfb0b-bd15-4ec3-9f34-a856796586fe",
    "scrolled": true
   },
   "outputs": [
    {
     "data": {
      "text/plain": [
       "array([[3421,  320],\n",
       "       [ 527, 1732]])"
      ]
     },
     "execution_count": 30,
     "metadata": {},
     "output_type": "execute_result"
    }
   ],
   "source": [
    "confusion_matrix(Y_test,Y_predict)"
   ]
  },
  {
   "cell_type": "code",
   "execution_count": null,
   "id": "e378e483",
   "metadata": {
    "colab": {
     "base_uri": "https://localhost:8080/"
    },
    "executionInfo": {
     "elapsed": 732,
     "status": "ok",
     "timestamp": 1703857923256,
     "user": {
      "displayName": "NIKHILESH NARKHEDE",
      "userId": "01192225661355979879"
     },
     "user_tz": -330
    },
    "id": "510a0e9a",
    "outputId": "b1ca0841-e0de-4d14-ca44-c87b0c7e1f13",
    "scrolled": true
   },
   "outputs": [
    {
     "name": "stdout",
     "output_type": "stream",
     "text": [
      "              precision    recall  f1-score   support\n",
      "\n",
      "           0       0.87      0.91      0.89      3741\n",
      "           1       0.84      0.77      0.80      2259\n",
      "\n",
      "    accuracy                           0.86      6000\n",
      "   macro avg       0.86      0.84      0.85      6000\n",
      "weighted avg       0.86      0.86      0.86      6000\n",
      "\n"
     ]
    }
   ],
   "source": [
    "print(classification_report(Y_test,Y_predict))"
   ]
  },
  {
   "cell_type": "code",
   "execution_count": null,
   "id": "1ebca769",
   "metadata": {
    "colab": {
     "base_uri": "https://localhost:8080/"
    },
    "executionInfo": {
     "elapsed": 464,
     "status": "ok",
     "timestamp": 1703857926385,
     "user": {
      "displayName": "NIKHILESH NARKHEDE",
      "userId": "01192225661355979879"
     },
     "user_tz": -330
    },
    "id": "bd43f134",
    "outputId": "1c9cb7bd-a080-41e2-86a3-3fc879126388",
    "scrolled": true
   },
   "outputs": [
    {
     "data": {
      "text/plain": [
       "0.8035258640686614"
      ]
     },
     "execution_count": 32,
     "metadata": {},
     "output_type": "execute_result"
    }
   ],
   "source": [
    "f1_score(Y_test,Y_predict)"
   ]
  },
  {
   "cell_type": "code",
   "execution_count": null,
   "id": "967df1ae",
   "metadata": {
    "id": "6710b22c"
   },
   "outputs": [],
   "source": [
    "Y_predict_prob = Log_Reg_model.predict_proba(X_test)"
   ]
  },
  {
   "cell_type": "code",
   "execution_count": null,
   "id": "5177fc36",
   "metadata": {
    "colab": {
     "base_uri": "https://localhost:8080/"
    },
    "executionInfo": {
     "elapsed": 1862,
     "status": "ok",
     "timestamp": 1703857933063,
     "user": {
      "displayName": "NIKHILESH NARKHEDE",
      "userId": "01192225661355979879"
     },
     "user_tz": -330
    },
    "id": "037ea6ab",
    "outputId": "11ed893f-75dc-42a2-d24e-1439ee2739a7"
   },
   "outputs": [
    {
     "data": {
      "text/plain": [
       "0.42522522522522527"
      ]
     },
     "execution_count": 34,
     "metadata": {},
     "output_type": "execute_result"
    }
   ],
   "source": [
    "Threshold_Finder(Y_test,Y_predict)"
   ]
  },
  {
   "cell_type": "code",
   "execution_count": null,
   "id": "c432916e",
   "metadata": {
    "colab": {
     "base_uri": "https://localhost:8080/"
    },
    "executionInfo": {
     "elapsed": 2364,
     "status": "ok",
     "timestamp": 1703857936979,
     "user": {
      "displayName": "NIKHILESH NARKHEDE",
      "userId": "01192225661355979879"
     },
     "user_tz": -330
    },
    "id": "9dc67f3b",
    "outputId": "ffee175c-dd9e-415b-8714-acb508750c75",
    "scrolled": true
   },
   "outputs": [
    {
     "name": "stdout",
     "output_type": "stream",
     "text": [
      "              precision    recall  f1-score   support\n",
      "\n",
      "           0       0.90      0.87      0.89      3741\n",
      "           1       0.80      0.84      0.82      2259\n",
      "\n",
      "    accuracy                           0.86      6000\n",
      "   macro avg       0.85      0.85      0.85      6000\n",
      "weighted avg       0.86      0.86      0.86      6000\n",
      "\n"
     ]
    }
   ],
   "source": [
    "Y_predict = Y_predict_prob[:,1] > Threshold_Finder(Y_test,Y_predict)\n",
    "print(classification_report(Y_test,Y_predict))"
   ]
  },
  {
   "cell_type": "code",
   "execution_count": null,
   "id": "3792e6b8",
   "metadata": {
    "colab": {
     "base_uri": "https://localhost:8080/"
    },
    "executionInfo": {
     "elapsed": 7812,
     "status": "ok",
     "timestamp": 1703857946730,
     "user": {
      "displayName": "NIKHILESH NARKHEDE",
      "userId": "01192225661355979879"
     },
     "user_tz": -330
    },
    "id": "d2e11c39",
    "outputId": "6157f96a-9941-47f2-b4cb-d7bae1954b6a"
   },
   "outputs": [
    {
     "data": {
      "text/plain": [
       "0.7694991694046608"
      ]
     },
     "execution_count": 36,
     "metadata": {},
     "output_type": "execute_result"
    }
   ],
   "source": [
    "dtree_model = DecisionTreeClassifier()\n",
    "dtree_model_cv_scores = cross_val_score(dtree_model,X_train,Y_train,cv=5,scoring='roc_auc')\n",
    "dtree_model_cv_scores.mean() #uncontrolled decision tree's validation performance in auc is less than logistic"
   ]
  },
  {
   "cell_type": "code",
   "execution_count": null,
   "id": "f06c502c",
   "metadata": {
    "id": "qjO-JTLDkSi2"
   },
   "outputs": [],
   "source": [
    "dtree_model.fit(X_train,Y_train)\n",
    "Y_predict = dtree_model.predict(X_test)"
   ]
  },
  {
   "cell_type": "code",
   "execution_count": null,
   "id": "d174edd7",
   "metadata": {
    "colab": {
     "base_uri": "https://localhost:8080/"
    },
    "executionInfo": {
     "elapsed": 856,
     "status": "ok",
     "timestamp": 1703857953382,
     "user": {
      "displayName": "NIKHILESH NARKHEDE",
      "userId": "01192225661355979879"
     },
     "user_tz": -330
    },
    "id": "WPDjAymSkSi-",
    "outputId": "17dbafcd-97e4-4945-dfed-505f2519b905",
    "scrolled": true
   },
   "outputs": [
    {
     "data": {
      "text/plain": [
       "array([[3089,  652],\n",
       "       [ 685, 1574]])"
      ]
     },
     "execution_count": 38,
     "metadata": {},
     "output_type": "execute_result"
    }
   ],
   "source": [
    "confusion_matrix(Y_test,Y_predict)"
   ]
  },
  {
   "cell_type": "code",
   "execution_count": null,
   "id": "d8131a99",
   "metadata": {
    "colab": {
     "base_uri": "https://localhost:8080/"
    },
    "executionInfo": {
     "elapsed": 477,
     "status": "ok",
     "timestamp": 1703857992401,
     "user": {
      "displayName": "NIKHILESH NARKHEDE",
      "userId": "01192225661355979879"
     },
     "user_tz": -330
    },
    "id": "Lu47luMykSi-",
    "outputId": "5c17a1ff-99c3-464f-dcb1-91073f8f1ce7",
    "scrolled": true
   },
   "outputs": [
    {
     "name": "stdout",
     "output_type": "stream",
     "text": [
      "              precision    recall  f1-score   support\n",
      "\n",
      "           0       0.82      0.83      0.82      3741\n",
      "           1       0.71      0.70      0.70      2259\n",
      "\n",
      "    accuracy                           0.78      6000\n",
      "   macro avg       0.76      0.76      0.76      6000\n",
      "weighted avg       0.78      0.78      0.78      6000\n",
      "\n"
     ]
    }
   ],
   "source": [
    "print(classification_report(Y_test,Y_predict))"
   ]
  },
  {
   "cell_type": "code",
   "execution_count": null,
   "id": "8670c262",
   "metadata": {
    "colab": {
     "base_uri": "https://localhost:8080/"
    },
    "executionInfo": {
     "elapsed": 5,
     "status": "ok",
     "timestamp": 1703857994249,
     "user": {
      "displayName": "NIKHILESH NARKHEDE",
      "userId": "01192225661355979879"
     },
     "user_tz": -330
    },
    "id": "_6cLSyYZkSi-",
    "outputId": "6f12df9b-518d-49e5-a88f-1c5aff82ac22",
    "scrolled": true
   },
   "outputs": [
    {
     "data": {
      "text/plain": [
       "0.7018952062430324"
      ]
     },
     "execution_count": 40,
     "metadata": {},
     "output_type": "execute_result"
    }
   ],
   "source": [
    "f1_score(Y_test,Y_predict)"
   ]
  },
  {
   "cell_type": "code",
   "execution_count": null,
   "id": "507fedb5",
   "metadata": {
    "id": "EDvLAQ18kSi_"
   },
   "outputs": [],
   "source": [
    "Y_predict_prob = dtree_model.predict_proba(X_test)"
   ]
  },
  {
   "cell_type": "code",
   "execution_count": null,
   "id": "d2647344",
   "metadata": {
    "colab": {
     "base_uri": "https://localhost:8080/"
    },
    "executionInfo": {
     "elapsed": 2726,
     "status": "ok",
     "timestamp": 1703858000511,
     "user": {
      "displayName": "NIKHILESH NARKHEDE",
      "userId": "01192225661355979879"
     },
     "user_tz": -330
    },
    "id": "67mWJMHIkSi_",
    "outputId": "b734c829-f2e7-4251-8d99-04afe316b05c"
   },
   "outputs": [
    {
     "data": {
      "text/plain": [
       "0.01"
      ]
     },
     "execution_count": 42,
     "metadata": {},
     "output_type": "execute_result"
    }
   ],
   "source": [
    "Threshold_Finder(Y_test,Y_predict)"
   ]
  },
  {
   "cell_type": "code",
   "execution_count": null,
   "id": "37d7f2eb",
   "metadata": {
    "colab": {
     "base_uri": "https://localhost:8080/"
    },
    "executionInfo": {
     "elapsed": 3870,
     "status": "ok",
     "timestamp": 1703858005852,
     "user": {
      "displayName": "NIKHILESH NARKHEDE",
      "userId": "01192225661355979879"
     },
     "user_tz": -330
    },
    "id": "hhTDb3T2kSi_",
    "outputId": "be3e4edb-7c2e-487b-bb0c-d0ed3592bd91",
    "scrolled": true
   },
   "outputs": [
    {
     "name": "stdout",
     "output_type": "stream",
     "text": [
      "              precision    recall  f1-score   support\n",
      "\n",
      "           0       0.82      0.83      0.82      3741\n",
      "           1       0.71      0.70      0.70      2259\n",
      "\n",
      "    accuracy                           0.78      6000\n",
      "   macro avg       0.76      0.76      0.76      6000\n",
      "weighted avg       0.78      0.78      0.78      6000\n",
      "\n"
     ]
    }
   ],
   "source": [
    "Y_predict = Y_predict_prob[:,1] > Threshold_Finder(Y_test,Y_predict)\n",
    "print(classification_report(Y_test,Y_predict))"
   ]
  },
  {
   "cell_type": "code",
   "execution_count": null,
   "id": "ff870185",
   "metadata": {
    "colab": {
     "base_uri": "https://localhost:8080/"
    },
    "executionInfo": {
     "elapsed": 37550,
     "status": "ok",
     "timestamp": 1703858046591,
     "user": {
      "displayName": "NIKHILESH NARKHEDE",
      "userId": "01192225661355979879"
     },
     "user_tz": -330
    },
    "id": "8gQCFrVtkjqw",
    "outputId": "73f407a8-7898-4fad-8937-d6db1735d00d"
   },
   "outputs": [
    {
     "name": "stdout",
     "output_type": "stream",
     "text": [
      "CPU times: user 409 ms, sys: 152 ms, total: 561 ms\n",
      "Wall time: 37.1 s\n"
     ]
    },
    {
     "data": {
      "text/plain": [
       "0.884275076264538"
      ]
     },
     "execution_count": 44,
     "metadata": {},
     "output_type": "execute_result"
    }
   ],
   "source": [
    "%%time\n",
    "rf_model = RandomForestClassifier()\n",
    "rf_model_cv_scores = cross_val_score(rf_model,X_train,Y_train,cv=5,scoring='roc_auc',n_jobs=-1)\n",
    "rf_model_cv_scores.mean()\n",
    "#slower processing compared to logistic, dtree\n",
    "#better validation result"
   ]
  },
  {
   "cell_type": "code",
   "execution_count": null,
   "id": "bf01311a",
   "metadata": {
    "id": "0s7_146FlLdT"
   },
   "outputs": [],
   "source": [
    "rf_model.fit(X_train,Y_train)\n",
    "Y_predict = rf_model.predict(X_test)"
   ]
  },
  {
   "cell_type": "code",
   "execution_count": null,
   "id": "0477f3a9",
   "metadata": {
    "colab": {
     "base_uri": "https://localhost:8080/"
    },
    "executionInfo": {
     "elapsed": 749,
     "status": "ok",
     "timestamp": 1703858066994,
     "user": {
      "displayName": "NIKHILESH NARKHEDE",
      "userId": "01192225661355979879"
     },
     "user_tz": -330
    },
    "id": "SMGHP3JwlLdc",
    "outputId": "d005136c-dfeb-4546-9382-496710b19ff0",
    "scrolled": true
   },
   "outputs": [
    {
     "data": {
      "text/plain": [
       "array([[3407,  334],\n",
       "       [ 509, 1750]])"
      ]
     },
     "execution_count": 46,
     "metadata": {},
     "output_type": "execute_result"
    }
   ],
   "source": [
    "confusion_matrix(Y_test,Y_predict)"
   ]
  },
  {
   "cell_type": "code",
   "execution_count": null,
   "id": "de0a5abb",
   "metadata": {
    "colab": {
     "base_uri": "https://localhost:8080/"
    },
    "executionInfo": {
     "elapsed": 2,
     "status": "ok",
     "timestamp": 1703858071369,
     "user": {
      "displayName": "NIKHILESH NARKHEDE",
      "userId": "01192225661355979879"
     },
     "user_tz": -330
    },
    "id": "BWg_mOallLdc",
    "outputId": "717f05dc-78cd-46b4-91d3-db7b267258e7",
    "scrolled": true
   },
   "outputs": [
    {
     "name": "stdout",
     "output_type": "stream",
     "text": [
      "              precision    recall  f1-score   support\n",
      "\n",
      "           0       0.87      0.91      0.89      3741\n",
      "           1       0.84      0.77      0.81      2259\n",
      "\n",
      "    accuracy                           0.86      6000\n",
      "   macro avg       0.85      0.84      0.85      6000\n",
      "weighted avg       0.86      0.86      0.86      6000\n",
      "\n"
     ]
    }
   ],
   "source": [
    "print(classification_report(Y_test,Y_predict))"
   ]
  },
  {
   "cell_type": "code",
   "execution_count": null,
   "id": "d7f932fe",
   "metadata": {
    "colab": {
     "base_uri": "https://localhost:8080/"
    },
    "executionInfo": {
     "elapsed": 740,
     "status": "ok",
     "timestamp": 1703858074678,
     "user": {
      "displayName": "NIKHILESH NARKHEDE",
      "userId": "01192225661355979879"
     },
     "user_tz": -330
    },
    "id": "XCs3NYAMlLdd",
    "outputId": "fef42866-782e-4d6a-91ba-1d18ef7867b4",
    "scrolled": true
   },
   "outputs": [
    {
     "data": {
      "text/plain": [
       "0.8058945429426665"
      ]
     },
     "execution_count": 48,
     "metadata": {},
     "output_type": "execute_result"
    }
   ],
   "source": [
    "f1_score(Y_test,Y_predict)"
   ]
  },
  {
   "cell_type": "code",
   "execution_count": null,
   "id": "02f6cfa9",
   "metadata": {
    "id": "CvmZzJTPlLdd"
   },
   "outputs": [],
   "source": [
    "Y_predict_prob = rf_model.predict_proba(X_test)"
   ]
  },
  {
   "cell_type": "code",
   "execution_count": null,
   "id": "f44bbbe0",
   "metadata": {
    "colab": {
     "base_uri": "https://localhost:8080/"
    },
    "executionInfo": {
     "elapsed": 2930,
     "status": "ok",
     "timestamp": 1703858081030,
     "user": {
      "displayName": "NIKHILESH NARKHEDE",
      "userId": "01192225661355979879"
     },
     "user_tz": -330
    },
    "id": "kV5tAgb6lLdd",
    "outputId": "ec81eccb-964e-48fa-92a3-91ca3f4c5191"
   },
   "outputs": [
    {
     "data": {
      "text/plain": [
       "0.40045045045045047"
      ]
     },
     "execution_count": 50,
     "metadata": {},
     "output_type": "execute_result"
    }
   ],
   "source": [
    "Threshold_Finder(Y_test,Y_predict_prob)"
   ]
  },
  {
   "cell_type": "code",
   "execution_count": null,
   "id": "2b23f41d",
   "metadata": {
    "colab": {
     "base_uri": "https://localhost:8080/"
    },
    "executionInfo": {
     "elapsed": 3106,
     "status": "ok",
     "timestamp": 1703858085962,
     "user": {
      "displayName": "NIKHILESH NARKHEDE",
      "userId": "01192225661355979879"
     },
     "user_tz": -330
    },
    "id": "ogVyaz90lLdd",
    "outputId": "e48045db-a5b3-4e5c-df45-94214f888010",
    "scrolled": true
   },
   "outputs": [
    {
     "name": "stdout",
     "output_type": "stream",
     "text": [
      "              precision    recall  f1-score   support\n",
      "\n",
      "           0       0.90      0.87      0.89      3741\n",
      "           1       0.80      0.83      0.82      2259\n",
      "\n",
      "    accuracy                           0.86      6000\n",
      "   macro avg       0.85      0.85      0.85      6000\n",
      "weighted avg       0.86      0.86      0.86      6000\n",
      "\n"
     ]
    }
   ],
   "source": [
    "Y_predict = Y_predict_prob[:,1] > Threshold_Finder(Y_test,Y_predict_prob)\n",
    "print(classification_report(Y_test,Y_predict))"
   ]
  },
  {
   "cell_type": "code",
   "execution_count": null,
   "id": "32704218",
   "metadata": {
    "colab": {
     "base_uri": "https://localhost:8080/"
    },
    "executionInfo": {
     "elapsed": 19356,
     "status": "ok",
     "timestamp": 1703858108861,
     "user": {
      "displayName": "NIKHILESH NARKHEDE",
      "userId": "01192225661355979879"
     },
     "user_tz": -330
    },
    "id": "HPvT_7YSlZBk",
    "outputId": "36337a4c-9c19-49d0-80c9-9999f7f883eb"
   },
   "outputs": [
    {
     "name": "stdout",
     "output_type": "stream",
     "text": [
      "CPU times: user 200 ms, sys: 55.6 ms, total: 255 ms\n",
      "Wall time: 18.9 s\n"
     ]
    },
    {
     "data": {
      "text/plain": [
       "0.8613057313753556"
      ]
     },
     "execution_count": 52,
     "metadata": {},
     "output_type": "execute_result"
    }
   ],
   "source": [
    "%%time\n",
    "et_model = ExtraTreesClassifier()\n",
    "et_model_cv_scores = cross_val_score(et_model,X_train,Y_train,cv=5,scoring='roc_auc',n_jobs=-1)\n",
    "et_model_cv_scores.mean()\n",
    "#faster processing compared to randomforest\n",
    "#better validation result than logistic, dtree"
   ]
  },
  {
   "cell_type": "code",
   "execution_count": null,
   "id": "21bbb00e",
   "metadata": {
    "id": "4Yt3f1pQlo9F"
   },
   "outputs": [],
   "source": [
    "et_model.fit(X_train,Y_train)\n",
    "Y_predict = et_model.predict(X_test)"
   ]
  },
  {
   "cell_type": "code",
   "execution_count": null,
   "id": "5d239ff5",
   "metadata": {
    "colab": {
     "base_uri": "https://localhost:8080/"
    },
    "executionInfo": {
     "elapsed": 455,
     "status": "ok",
     "timestamp": 1703858121331,
     "user": {
      "displayName": "NIKHILESH NARKHEDE",
      "userId": "01192225661355979879"
     },
     "user_tz": -330
    },
    "id": "UcHpeSWxlo9F",
    "outputId": "5e431b14-186d-45b5-82ea-406938891bf2",
    "scrolled": true
   },
   "outputs": [
    {
     "data": {
      "text/plain": [
       "array([[3431,  310],\n",
       "       [ 864, 1395]])"
      ]
     },
     "execution_count": 54,
     "metadata": {},
     "output_type": "execute_result"
    }
   ],
   "source": [
    "confusion_matrix(Y_test,Y_predict)"
   ]
  },
  {
   "cell_type": "code",
   "execution_count": null,
   "id": "22557e38",
   "metadata": {
    "colab": {
     "base_uri": "https://localhost:8080/"
    },
    "executionInfo": {
     "elapsed": 486,
     "status": "ok",
     "timestamp": 1703858126068,
     "user": {
      "displayName": "NIKHILESH NARKHEDE",
      "userId": "01192225661355979879"
     },
     "user_tz": -330
    },
    "id": "WqA-cyl0lo9G",
    "outputId": "9e2b07eb-ac49-49db-a2e5-bd8bc842bcea",
    "scrolled": true
   },
   "outputs": [
    {
     "name": "stdout",
     "output_type": "stream",
     "text": [
      "              precision    recall  f1-score   support\n",
      "\n",
      "           0       0.80      0.92      0.85      3741\n",
      "           1       0.82      0.62      0.70      2259\n",
      "\n",
      "    accuracy                           0.80      6000\n",
      "   macro avg       0.81      0.77      0.78      6000\n",
      "weighted avg       0.81      0.80      0.80      6000\n",
      "\n"
     ]
    }
   ],
   "source": [
    "print(classification_report(Y_test,Y_predict))"
   ]
  },
  {
   "cell_type": "code",
   "execution_count": null,
   "id": "4406a84d",
   "metadata": {
    "colab": {
     "base_uri": "https://localhost:8080/"
    },
    "executionInfo": {
     "elapsed": 510,
     "status": "ok",
     "timestamp": 1703858129021,
     "user": {
      "displayName": "NIKHILESH NARKHEDE",
      "userId": "01192225661355979879"
     },
     "user_tz": -330
    },
    "id": "zsz655kelo9G",
    "outputId": "27b48c18-4247-42c7-ede3-fd1058daacb4",
    "scrolled": true
   },
   "outputs": [
    {
     "data": {
      "text/plain": [
       "0.7038345105953582"
      ]
     },
     "execution_count": 56,
     "metadata": {},
     "output_type": "execute_result"
    }
   ],
   "source": [
    "f1_score(Y_test,Y_predict)"
   ]
  },
  {
   "cell_type": "code",
   "execution_count": null,
   "id": "e31f0818",
   "metadata": {
    "id": "VMxUsk1klo9G"
   },
   "outputs": [],
   "source": [
    "Y_predict_prob = et_model.predict_proba(X_test)"
   ]
  },
  {
   "cell_type": "code",
   "execution_count": null,
   "id": "5bbeeccc",
   "metadata": {
    "colab": {
     "base_uri": "https://localhost:8080/"
    },
    "executionInfo": {
     "elapsed": 1952,
     "status": "ok",
     "timestamp": 1703858135233,
     "user": {
      "displayName": "NIKHILESH NARKHEDE",
      "userId": "01192225661355979879"
     },
     "user_tz": -330
    },
    "id": "ABd4XcIUlo9G",
    "outputId": "6cba5bff-b200-491f-fe07-4c753c91efc8"
   },
   "outputs": [
    {
     "data": {
      "text/plain": [
       "0.4202702702702703"
      ]
     },
     "execution_count": 58,
     "metadata": {},
     "output_type": "execute_result"
    }
   ],
   "source": [
    "Threshold_Finder(Y_test,Y_predict_prob)"
   ]
  },
  {
   "cell_type": "code",
   "execution_count": null,
   "id": "811eb4bf",
   "metadata": {
    "colab": {
     "base_uri": "https://localhost:8080/"
    },
    "executionInfo": {
     "elapsed": 2398,
     "status": "ok",
     "timestamp": 1703858139211,
     "user": {
      "displayName": "NIKHILESH NARKHEDE",
      "userId": "01192225661355979879"
     },
     "user_tz": -330
    },
    "id": "ZRm_2loFlo9H",
    "outputId": "70f994b4-5608-4250-ac8c-41395e6915b4",
    "scrolled": true
   },
   "outputs": [
    {
     "name": "stdout",
     "output_type": "stream",
     "text": [
      "              precision    recall  f1-score   support\n",
      "\n",
      "           0       0.85      0.84      0.85      3741\n",
      "           1       0.74      0.76      0.75      2259\n",
      "\n",
      "    accuracy                           0.81      6000\n",
      "   macro avg       0.80      0.80      0.80      6000\n",
      "weighted avg       0.81      0.81      0.81      6000\n",
      "\n"
     ]
    }
   ],
   "source": [
    "Y_predict = Y_predict_prob[:,1] > Threshold_Finder(Y_test,Y_predict_prob)\n",
    "print(classification_report(Y_test,Y_predict))"
   ]
  },
  {
   "cell_type": "code",
   "execution_count": null,
   "id": "a50b59d0",
   "metadata": {
    "colab": {
     "base_uri": "https://localhost:8080/"
    },
    "executionInfo": {
     "elapsed": 14987,
     "status": "ok",
     "timestamp": 1703858155986,
     "user": {
      "displayName": "NIKHILESH NARKHEDE",
      "userId": "01192225661355979879"
     },
     "user_tz": -330
    },
    "id": "LrwTDWN9mHZs",
    "outputId": "4dcee6d6-d09b-48f2-df33-d015d1367d51"
   },
   "outputs": [
    {
     "name": "stdout",
     "output_type": "stream",
     "text": [
      "CPU times: user 160 ms, sys: 36.5 ms, total: 196 ms\n",
      "Wall time: 14.5 s\n"
     ]
    },
    {
     "data": {
      "text/plain": [
       "0.8810854317302965"
      ]
     },
     "execution_count": 60,
     "metadata": {},
     "output_type": "execute_result"
    }
   ],
   "source": [
    "%%time\n",
    "ada_model = AdaBoostClassifier()\n",
    "ada_model_cv_scores = cross_val_score(ada_model,X_train,Y_train,cv=5,scoring='roc_auc',n_jobs=-1)\n",
    "ada_model_cv_scores.mean()"
   ]
  },
  {
   "cell_type": "code",
   "execution_count": null,
   "id": "8924e61d",
   "metadata": {
    "id": "4J6yrfHDmsa9"
   },
   "outputs": [],
   "source": [
    "ada_model.fit(X_train,Y_train)\n",
    "Y_predict = ada_model.predict(X_test)"
   ]
  },
  {
   "cell_type": "code",
   "execution_count": null,
   "id": "981a909d",
   "metadata": {
    "colab": {
     "base_uri": "https://localhost:8080/"
    },
    "executionInfo": {
     "elapsed": 491,
     "status": "ok",
     "timestamp": 1703858166131,
     "user": {
      "displayName": "NIKHILESH NARKHEDE",
      "userId": "01192225661355979879"
     },
     "user_tz": -330
    },
    "id": "-dQQ354lmsbG",
    "outputId": "db096be0-6925-4347-e99a-852eab1d5947",
    "scrolled": true
   },
   "outputs": [
    {
     "data": {
      "text/plain": [
       "array([[3398,  343],\n",
       "       [ 588, 1671]])"
      ]
     },
     "execution_count": 62,
     "metadata": {},
     "output_type": "execute_result"
    }
   ],
   "source": [
    "confusion_matrix(Y_test,Y_predict)"
   ]
  },
  {
   "cell_type": "code",
   "execution_count": null,
   "id": "10065d82",
   "metadata": {
    "colab": {
     "base_uri": "https://localhost:8080/"
    },
    "executionInfo": {
     "elapsed": 3,
     "status": "ok",
     "timestamp": 1703858168038,
     "user": {
      "displayName": "NIKHILESH NARKHEDE",
      "userId": "01192225661355979879"
     },
     "user_tz": -330
    },
    "id": "CAm6jglcmsbG",
    "outputId": "df4668e0-7a43-46bf-b440-6d19fa5f38b7",
    "scrolled": true
   },
   "outputs": [
    {
     "name": "stdout",
     "output_type": "stream",
     "text": [
      "              precision    recall  f1-score   support\n",
      "\n",
      "           0       0.85      0.91      0.88      3741\n",
      "           1       0.83      0.74      0.78      2259\n",
      "\n",
      "    accuracy                           0.84      6000\n",
      "   macro avg       0.84      0.82      0.83      6000\n",
      "weighted avg       0.84      0.84      0.84      6000\n",
      "\n"
     ]
    }
   ],
   "source": [
    "print(classification_report(Y_test,Y_predict))"
   ]
  },
  {
   "cell_type": "code",
   "execution_count": null,
   "id": "cf6c6c5e",
   "metadata": {
    "colab": {
     "base_uri": "https://localhost:8080/"
    },
    "executionInfo": {
     "elapsed": 716,
     "status": "ok",
     "timestamp": 1703858171010,
     "user": {
      "displayName": "NIKHILESH NARKHEDE",
      "userId": "01192225661355979879"
     },
     "user_tz": -330
    },
    "id": "TA6n7It6msbH",
    "outputId": "0d4a3ed0-d76f-48d0-c6ae-f77569b6564c",
    "scrolled": true
   },
   "outputs": [
    {
     "data": {
      "text/plain": [
       "0.7821202901942429"
      ]
     },
     "execution_count": 64,
     "metadata": {},
     "output_type": "execute_result"
    }
   ],
   "source": [
    "f1_score(Y_test,Y_predict)"
   ]
  },
  {
   "cell_type": "code",
   "execution_count": null,
   "id": "7b05c279",
   "metadata": {
    "id": "aVyMDB5tmsbH"
   },
   "outputs": [],
   "source": [
    "Y_predict_prob = ada_model.predict_proba(X_test)"
   ]
  },
  {
   "cell_type": "code",
   "execution_count": null,
   "id": "3af2cab4",
   "metadata": {
    "colab": {
     "base_uri": "https://localhost:8080/"
    },
    "executionInfo": {
     "elapsed": 3741,
     "status": "ok",
     "timestamp": 1703858180148,
     "user": {
      "displayName": "NIKHILESH NARKHEDE",
      "userId": "01192225661355979879"
     },
     "user_tz": -330
    },
    "id": "g-0GYyiLmsbH",
    "outputId": "5f65490a-5f93-4516-d321-3146b8eb02ae"
   },
   "outputs": [
    {
     "data": {
      "text/plain": [
       "0.4975675675675676"
      ]
     },
     "execution_count": 66,
     "metadata": {},
     "output_type": "execute_result"
    }
   ],
   "source": [
    "Threshold_Finder(Y_test,Y_predict_prob)"
   ]
  },
  {
   "cell_type": "code",
   "execution_count": null,
   "id": "88ade9a4",
   "metadata": {
    "colab": {
     "base_uri": "https://localhost:8080/"
    },
    "executionInfo": {
     "elapsed": 3027,
     "status": "ok",
     "timestamp": 1703858185746,
     "user": {
      "displayName": "NIKHILESH NARKHEDE",
      "userId": "01192225661355979879"
     },
     "user_tz": -330
    },
    "id": "NC13eQ05msbH",
    "outputId": "ce1f17a9-de34-4b41-f3f2-29db626c6f9e",
    "scrolled": true
   },
   "outputs": [
    {
     "name": "stdout",
     "output_type": "stream",
     "text": [
      "              precision    recall  f1-score   support\n",
      "\n",
      "           0       0.90      0.85      0.87      3741\n",
      "           1       0.77      0.84      0.80      2259\n",
      "\n",
      "    accuracy                           0.84      6000\n",
      "   macro avg       0.83      0.84      0.83      6000\n",
      "weighted avg       0.85      0.84      0.84      6000\n",
      "\n"
     ]
    }
   ],
   "source": [
    "Y_predict = Y_predict_prob[:,1] > Threshold_Finder(Y_test,Y_predict_prob)\n",
    "print(classification_report(Y_test,Y_predict))"
   ]
  },
  {
   "cell_type": "code",
   "execution_count": null,
   "id": "4fc93a7e",
   "metadata": {
    "colab": {
     "base_uri": "https://localhost:8080/"
    },
    "executionInfo": {
     "elapsed": 66412,
     "status": "ok",
     "timestamp": 1703858254541,
     "user": {
      "displayName": "NIKHILESH NARKHEDE",
      "userId": "01192225661355979879"
     },
     "user_tz": -330
    },
    "id": "cjCh2Cgqm4Pa",
    "outputId": "ac3d6597-4062-49c2-b69e-7fdd56a326ca"
   },
   "outputs": [
    {
     "name": "stdout",
     "output_type": "stream",
     "text": [
      "CPU times: user 614 ms, sys: 125 ms, total: 739 ms\n",
      "Wall time: 1min 6s\n"
     ]
    },
    {
     "data": {
      "text/plain": [
       "0.8889860046791135"
      ]
     },
     "execution_count": 68,
     "metadata": {},
     "output_type": "execute_result"
    }
   ],
   "source": [
    "%%time\n",
    "gb_model = GradientBoostingClassifier()\n",
    "gb_model_cv_scores = cross_val_score(gb_model,X_train,Y_train,cv=5,scoring='roc_auc',n_jobs=-1)\n",
    "gb_model_cv_scores.mean()"
   ]
  },
  {
   "cell_type": "code",
   "execution_count": null,
   "id": "fb099222",
   "metadata": {
    "id": "NNJwXrdonDV0"
   },
   "outputs": [],
   "source": [
    "gb_model.fit(X_train,Y_train)\n",
    "Y_predict = gb_model.predict(X_test)"
   ]
  },
  {
   "cell_type": "code",
   "execution_count": null,
   "id": "bd83579f",
   "metadata": {
    "colab": {
     "base_uri": "https://localhost:8080/"
    },
    "executionInfo": {
     "elapsed": 492,
     "status": "ok",
     "timestamp": 1703858391926,
     "user": {
      "displayName": "NIKHILESH NARKHEDE",
      "userId": "01192225661355979879"
     },
     "user_tz": -330
    },
    "id": "9Sf93LFInDV9",
    "outputId": "ebbc7e6c-4105-4971-a37e-833533750fb0",
    "scrolled": true
   },
   "outputs": [
    {
     "data": {
      "text/plain": [
       "array([[3405,  336],\n",
       "       [ 462, 1797]])"
      ]
     },
     "execution_count": 71,
     "metadata": {},
     "output_type": "execute_result"
    }
   ],
   "source": [
    "confusion_matrix(Y_test,Y_predict)"
   ]
  },
  {
   "cell_type": "code",
   "execution_count": null,
   "id": "2a97c2cd",
   "metadata": {
    "colab": {
     "base_uri": "https://localhost:8080/"
    },
    "executionInfo": {
     "elapsed": 471,
     "status": "ok",
     "timestamp": 1703858396670,
     "user": {
      "displayName": "NIKHILESH NARKHEDE",
      "userId": "01192225661355979879"
     },
     "user_tz": -330
    },
    "id": "V5hfsYuWnDV9",
    "outputId": "e02ef8b3-7a36-45ae-81a8-a33d6c90ab91",
    "scrolled": true
   },
   "outputs": [
    {
     "name": "stdout",
     "output_type": "stream",
     "text": [
      "              precision    recall  f1-score   support\n",
      "\n",
      "           0       0.88      0.91      0.90      3741\n",
      "           1       0.84      0.80      0.82      2259\n",
      "\n",
      "    accuracy                           0.87      6000\n",
      "   macro avg       0.86      0.85      0.86      6000\n",
      "weighted avg       0.87      0.87      0.87      6000\n",
      "\n"
     ]
    }
   ],
   "source": [
    "print(classification_report(Y_test,Y_predict))"
   ]
  },
  {
   "cell_type": "code",
   "execution_count": null,
   "id": "509adc3b",
   "metadata": {
    "colab": {
     "base_uri": "https://localhost:8080/"
    },
    "executionInfo": {
     "elapsed": 3,
     "status": "ok",
     "timestamp": 1703858399719,
     "user": {
      "displayName": "NIKHILESH NARKHEDE",
      "userId": "01192225661355979879"
     },
     "user_tz": -330
    },
    "id": "Y06HCR2qnDV9",
    "outputId": "2fa64558-5cc3-4344-b7c0-63324e6a257b",
    "scrolled": true
   },
   "outputs": [
    {
     "data": {
      "text/plain": [
       "0.8183060109289617"
      ]
     },
     "execution_count": 73,
     "metadata": {},
     "output_type": "execute_result"
    }
   ],
   "source": [
    "f1_score(Y_test,Y_predict)"
   ]
  },
  {
   "cell_type": "code",
   "execution_count": null,
   "id": "04191dba",
   "metadata": {
    "id": "9V2rFsPhnDV9"
   },
   "outputs": [],
   "source": [
    "Y_predict_prob = gb_model.predict_proba(X_test)"
   ]
  },
  {
   "cell_type": "code",
   "execution_count": null,
   "id": "d398e0c2",
   "metadata": {
    "colab": {
     "base_uri": "https://localhost:8080/"
    },
    "executionInfo": {
     "elapsed": 2290,
     "status": "ok",
     "timestamp": 1703858409058,
     "user": {
      "displayName": "NIKHILESH NARKHEDE",
      "userId": "01192225661355979879"
     },
     "user_tz": -330
    },
    "id": "uTHf2kk9nDV9",
    "outputId": "92185964-e443-4264-f864-ea0ba64e8b6f"
   },
   "outputs": [
    {
     "data": {
      "text/plain": [
       "0.4242342342342343"
      ]
     },
     "execution_count": 75,
     "metadata": {},
     "output_type": "execute_result"
    }
   ],
   "source": [
    "Threshold_Finder(Y_test,Y_predict_prob)"
   ]
  },
  {
   "cell_type": "code",
   "execution_count": null,
   "id": "ba6aa2f8",
   "metadata": {
    "colab": {
     "base_uri": "https://localhost:8080/"
    },
    "executionInfo": {
     "elapsed": 2636,
     "status": "ok",
     "timestamp": 1703858413219,
     "user": {
      "displayName": "NIKHILESH NARKHEDE",
      "userId": "01192225661355979879"
     },
     "user_tz": -330
    },
    "id": "r6d-Ddr_nDV-",
    "outputId": "7e7fa884-ecf5-4c76-fc7e-5b808f07cf4d",
    "scrolled": true
   },
   "outputs": [
    {
     "name": "stdout",
     "output_type": "stream",
     "text": [
      "              precision    recall  f1-score   support\n",
      "\n",
      "           0       0.90      0.89      0.89      3741\n",
      "           1       0.82      0.84      0.83      2259\n",
      "\n",
      "    accuracy                           0.87      6000\n",
      "   macro avg       0.86      0.86      0.86      6000\n",
      "weighted avg       0.87      0.87      0.87      6000\n",
      "\n"
     ]
    }
   ],
   "source": [
    "Y_predict = Y_predict_prob[:,1] > Threshold_Finder(Y_test,Y_predict_prob)\n",
    "print(classification_report(Y_test,Y_predict))"
   ]
  },
  {
   "cell_type": "code",
   "execution_count": null,
   "id": "8acbf45e",
   "metadata": {
    "colab": {
     "base_uri": "https://localhost:8080/"
    },
    "executionInfo": {
     "elapsed": 6129,
     "status": "ok",
     "timestamp": 1703858429393,
     "user": {
      "displayName": "NIKHILESH NARKHEDE",
      "userId": "01192225661355979879"
     },
     "user_tz": -330
    },
    "id": "a8VRPtoonAcU",
    "outputId": "487d6d47-c47f-4c6b-ceee-d88f9c18cfc6"
   },
   "outputs": [
    {
     "name": "stdout",
     "output_type": "stream",
     "text": [
      "CPU times: user 108 ms, sys: 21.2 ms, total: 130 ms\n",
      "Wall time: 5.64 s\n"
     ]
    },
    {
     "data": {
      "text/plain": [
       "0.8829256553207896"
      ]
     },
     "execution_count": 77,
     "metadata": {},
     "output_type": "execute_result"
    }
   ],
   "source": [
    "%%time\n",
    "xgb_model = XGBClassifier()\n",
    "xgb_model_cv_scores = cross_val_score(xgb_model,X_train,Y_train,cv=5,scoring='roc_auc',n_jobs=-1)\n",
    "xgb_model_cv_scores.mean()"
   ]
  },
  {
   "cell_type": "code",
   "execution_count": null,
   "id": "8b4cb01f",
   "metadata": {
    "id": "ZbcmjIlRnS-_"
   },
   "outputs": [],
   "source": [
    "xgb_model.fit(X_train,Y_train)\n",
    "Y_predict = xgb_model.predict(X_test)"
   ]
  },
  {
   "cell_type": "code",
   "execution_count": null,
   "id": "b8e4e853",
   "metadata": {
    "colab": {
     "base_uri": "https://localhost:8080/"
    },
    "executionInfo": {
     "elapsed": 737,
     "status": "ok",
     "timestamp": 1703858439387,
     "user": {
      "displayName": "NIKHILESH NARKHEDE",
      "userId": "01192225661355979879"
     },
     "user_tz": -330
    },
    "id": "jTsk-oWxnS_I",
    "outputId": "542fbfb5-b42d-414a-8d6c-8bfeaba7a0a1",
    "scrolled": true
   },
   "outputs": [
    {
     "data": {
      "text/plain": [
       "array([[3379,  362],\n",
       "       [ 433, 1826]])"
      ]
     },
     "execution_count": 79,
     "metadata": {},
     "output_type": "execute_result"
    }
   ],
   "source": [
    "confusion_matrix(Y_test,Y_predict)"
   ]
  },
  {
   "cell_type": "code",
   "execution_count": null,
   "id": "51464fd1",
   "metadata": {
    "colab": {
     "base_uri": "https://localhost:8080/"
    },
    "executionInfo": {
     "elapsed": 464,
     "status": "ok",
     "timestamp": 1703858442747,
     "user": {
      "displayName": "NIKHILESH NARKHEDE",
      "userId": "01192225661355979879"
     },
     "user_tz": -330
    },
    "id": "DlksVw2RnS_I",
    "outputId": "4c2288de-3c4d-4943-e24e-0f52270ce161",
    "scrolled": true
   },
   "outputs": [
    {
     "name": "stdout",
     "output_type": "stream",
     "text": [
      "              precision    recall  f1-score   support\n",
      "\n",
      "           0       0.89      0.90      0.89      3741\n",
      "           1       0.83      0.81      0.82      2259\n",
      "\n",
      "    accuracy                           0.87      6000\n",
      "   macro avg       0.86      0.86      0.86      6000\n",
      "weighted avg       0.87      0.87      0.87      6000\n",
      "\n"
     ]
    }
   ],
   "source": [
    "print(classification_report(Y_test,Y_predict))"
   ]
  },
  {
   "cell_type": "code",
   "execution_count": null,
   "id": "2ba5bd80",
   "metadata": {
    "colab": {
     "base_uri": "https://localhost:8080/"
    },
    "executionInfo": {
     "elapsed": 2,
     "status": "ok",
     "timestamp": 1703858444565,
     "user": {
      "displayName": "NIKHILESH NARKHEDE",
      "userId": "01192225661355979879"
     },
     "user_tz": -330
    },
    "id": "svuSOo7jnS_I",
    "outputId": "52f4baea-1143-4d57-a294-6fde08adf732",
    "scrolled": true
   },
   "outputs": [
    {
     "data": {
      "text/plain": [
       "0.8212277940184395"
      ]
     },
     "execution_count": 81,
     "metadata": {},
     "output_type": "execute_result"
    }
   ],
   "source": [
    "f1_score(Y_test,Y_predict)"
   ]
  },
  {
   "cell_type": "code",
   "execution_count": null,
   "id": "b717ec70",
   "metadata": {
    "id": "DBmroJDinS_J"
   },
   "outputs": [],
   "source": [
    "Y_predict_prob = xgb_model.predict_proba(X_test)"
   ]
  },
  {
   "cell_type": "code",
   "execution_count": null,
   "id": "0ed5e269",
   "metadata": {
    "colab": {
     "base_uri": "https://localhost:8080/"
    },
    "executionInfo": {
     "elapsed": 2990,
     "status": "ok",
     "timestamp": 1703858453092,
     "user": {
      "displayName": "NIKHILESH NARKHEDE",
      "userId": "01192225661355979879"
     },
     "user_tz": -330
    },
    "id": "cWEQAQQ1nS_J",
    "outputId": "e53a0b27-2e4b-4b38-a673-9799fb9bfde8"
   },
   "outputs": [
    {
     "data": {
      "text/plain": [
       "0.42225225225225227"
      ]
     },
     "execution_count": 83,
     "metadata": {},
     "output_type": "execute_result"
    }
   ],
   "source": [
    "Threshold_Finder(Y_test,Y_predict_prob)"
   ]
  },
  {
   "cell_type": "code",
   "execution_count": null,
   "id": "50bd1dbd",
   "metadata": {
    "colab": {
     "base_uri": "https://localhost:8080/"
    },
    "executionInfo": {
     "elapsed": 2452,
     "status": "ok",
     "timestamp": 1703858456870,
     "user": {
      "displayName": "NIKHILESH NARKHEDE",
      "userId": "01192225661355979879"
     },
     "user_tz": -330
    },
    "id": "t453ZQshnS_J",
    "outputId": "f5cea70d-d71b-4bbd-d511-f27443bd5cfb",
    "scrolled": true
   },
   "outputs": [
    {
     "name": "stdout",
     "output_type": "stream",
     "text": [
      "              precision    recall  f1-score   support\n",
      "\n",
      "           0       0.90      0.89      0.89      3741\n",
      "           1       0.82      0.83      0.82      2259\n",
      "\n",
      "    accuracy                           0.87      6000\n",
      "   macro avg       0.86      0.86      0.86      6000\n",
      "weighted avg       0.87      0.87      0.87      6000\n",
      "\n"
     ]
    }
   ],
   "source": [
    "Y_predict = Y_predict_prob[:,1] > Threshold_Finder(Y_test,Y_predict_prob)\n",
    "print(classification_report(Y_test,Y_predict))"
   ]
  },
  {
   "cell_type": "code",
   "execution_count": null,
   "id": "765421b1",
   "metadata": {
    "colab": {
     "base_uri": "https://localhost:8080/"
    },
    "executionInfo": {
     "elapsed": 9137,
     "status": "ok",
     "timestamp": 1703858468072,
     "user": {
      "displayName": "NIKHILESH NARKHEDE",
      "userId": "01192225661355979879"
     },
     "user_tz": -330
    },
    "id": "OTTo4PkZoJKM",
    "outputId": "358d1ff9-1b0c-461e-aec9-55388d0ce566"
   },
   "outputs": [
    {
     "name": "stdout",
     "output_type": "stream",
     "text": [
      "CPU times: user 120 ms, sys: 15 ms, total: 135 ms\n",
      "Wall time: 8.55 s\n"
     ]
    },
    {
     "data": {
      "text/plain": [
       "0.8891084378389884"
      ]
     },
     "execution_count": 85,
     "metadata": {},
     "output_type": "execute_result"
    }
   ],
   "source": [
    "%%time\n",
    "lgb_model = LGBMClassifier()\n",
    "lgb_model_cv_scores = cross_val_score(lgb_model,X_train,Y_train,cv=5,scoring='roc_auc',n_jobs=-1)\n",
    "lgb_model_cv_scores.mean()"
   ]
  },
  {
   "cell_type": "code",
   "execution_count": null,
   "id": "6eb26d3d",
   "metadata": {
    "colab": {
     "base_uri": "https://localhost:8080/"
    },
    "executionInfo": {
     "elapsed": 1485,
     "status": "ok",
     "timestamp": 1703858471252,
     "user": {
      "displayName": "NIKHILESH NARKHEDE",
      "userId": "01192225661355979879"
     },
     "user_tz": -330
    },
    "id": "YHZBR7M5oNl_",
    "outputId": "05ed2bc7-442a-43d5-ea11-143cc5d50559"
   },
   "outputs": [
    {
     "name": "stdout",
     "output_type": "stream",
     "text": [
      "[LightGBM] [Info] Number of positive: 8986, number of negative: 15014\n",
      "[LightGBM] [Info] Auto-choosing row-wise multi-threading, the overhead of testing was 0.003377 seconds.\n",
      "You can set `force_row_wise=true` to remove the overhead.\n",
      "And if memory is not enough, you can set `force_col_wise=true`.\n",
      "[LightGBM] [Info] Total Bins 5184\n",
      "[LightGBM] [Info] Number of data points in the train set: 24000, number of used features: 62\n",
      "[LightGBM] [Info] [binary:BoostFromScore]: pavg=0.374417 -> initscore=-0.513315\n",
      "[LightGBM] [Info] Start training from score -0.513315\n"
     ]
    }
   ],
   "source": [
    "lgb_model.fit(X_train,Y_train)\n",
    "Y_predict = lgb_model.predict(X_test)"
   ]
  },
  {
   "cell_type": "code",
   "execution_count": null,
   "id": "b2c4fcdd",
   "metadata": {
    "colab": {
     "base_uri": "https://localhost:8080/"
    },
    "executionInfo": {
     "elapsed": 512,
     "status": "ok",
     "timestamp": 1703858474591,
     "user": {
      "displayName": "NIKHILESH NARKHEDE",
      "userId": "01192225661355979879"
     },
     "user_tz": -330
    },
    "id": "3AHR6AqXoNmI",
    "outputId": "9921626b-8cc4-4c52-db23-bc7b627d5b58",
    "scrolled": true
   },
   "outputs": [
    {
     "data": {
      "text/plain": [
       "array([[3411,  330],\n",
       "       [ 416, 1843]])"
      ]
     },
     "execution_count": 87,
     "metadata": {},
     "output_type": "execute_result"
    }
   ],
   "source": [
    "confusion_matrix(Y_test,Y_predict)"
   ]
  },
  {
   "cell_type": "code",
   "execution_count": null,
   "id": "1e1370bb",
   "metadata": {
    "colab": {
     "base_uri": "https://localhost:8080/"
    },
    "executionInfo": {
     "elapsed": 475,
     "status": "ok",
     "timestamp": 1703858483085,
     "user": {
      "displayName": "NIKHILESH NARKHEDE",
      "userId": "01192225661355979879"
     },
     "user_tz": -330
    },
    "id": "oNCz0pQ3oNmJ",
    "outputId": "3844ee22-c956-4668-e80d-bc31ea388ee0",
    "scrolled": true
   },
   "outputs": [
    {
     "name": "stdout",
     "output_type": "stream",
     "text": [
      "              precision    recall  f1-score   support\n",
      "\n",
      "           0       0.89      0.91      0.90      3741\n",
      "           1       0.85      0.82      0.83      2259\n",
      "\n",
      "    accuracy                           0.88      6000\n",
      "   macro avg       0.87      0.86      0.87      6000\n",
      "weighted avg       0.88      0.88      0.88      6000\n",
      "\n"
     ]
    }
   ],
   "source": [
    "print(classification_report(Y_test,Y_predict))"
   ]
  },
  {
   "cell_type": "code",
   "execution_count": null,
   "id": "eb929e59",
   "metadata": {
    "colab": {
     "base_uri": "https://localhost:8080/"
    },
    "executionInfo": {
     "elapsed": 476,
     "status": "ok",
     "timestamp": 1703858490306,
     "user": {
      "displayName": "NIKHILESH NARKHEDE",
      "userId": "01192225661355979879"
     },
     "user_tz": -330
    },
    "id": "fIe6cdWAoNmJ",
    "outputId": "6f7f1c34-569f-4564-cf4b-488214808a72",
    "scrolled": true
   },
   "outputs": [
    {
     "data": {
      "text/plain": [
       "0.8316787003610107"
      ]
     },
     "execution_count": 89,
     "metadata": {},
     "output_type": "execute_result"
    }
   ],
   "source": [
    "f1_score(Y_test,Y_predict)"
   ]
  },
  {
   "cell_type": "code",
   "execution_count": null,
   "id": "2bcbb3d2",
   "metadata": {
    "id": "h18DPqPUoNmJ"
   },
   "outputs": [],
   "source": [
    "Y_predict_prob = lgb_model.predict_proba(X_test)"
   ]
  },
  {
   "cell_type": "code",
   "execution_count": null,
   "id": "9a15f31e",
   "metadata": {
    "colab": {
     "base_uri": "https://localhost:8080/"
    },
    "executionInfo": {
     "elapsed": 4658,
     "status": "ok",
     "timestamp": 1703858498777,
     "user": {
      "displayName": "NIKHILESH NARKHEDE",
      "userId": "01192225661355979879"
     },
     "user_tz": -330
    },
    "id": "Fi2dE13poNmJ",
    "outputId": "4cb4f038-7fb0-4eaa-f3c3-546f69b00149"
   },
   "outputs": [
    {
     "data": {
      "text/plain": [
       "0.35981981981981986"
      ]
     },
     "execution_count": 91,
     "metadata": {},
     "output_type": "execute_result"
    }
   ],
   "source": [
    "Threshold_Finder(Y_test,Y_predict_prob)"
   ]
  },
  {
   "cell_type": "code",
   "execution_count": null,
   "id": "366be5d4",
   "metadata": {
    "colab": {
     "base_uri": "https://localhost:8080/"
    },
    "executionInfo": {
     "elapsed": 2555,
     "status": "ok",
     "timestamp": 1703858503074,
     "user": {
      "displayName": "NIKHILESH NARKHEDE",
      "userId": "01192225661355979879"
     },
     "user_tz": -330
    },
    "id": "h3hbLS8-oNmJ",
    "outputId": "2b0c1f53-3e8b-48a5-f1f9-9b0f2810e57e",
    "scrolled": true
   },
   "outputs": [
    {
     "name": "stdout",
     "output_type": "stream",
     "text": [
      "              precision    recall  f1-score   support\n",
      "\n",
      "           0       0.91      0.89      0.90      3741\n",
      "           1       0.82      0.85      0.84      2259\n",
      "\n",
      "    accuracy                           0.87      6000\n",
      "   macro avg       0.86      0.87      0.87      6000\n",
      "weighted avg       0.88      0.87      0.87      6000\n",
      "\n"
     ]
    }
   ],
   "source": [
    "Y_predict = Y_predict_prob[:,1] > Threshold_Finder(Y_test,Y_predict_prob)\n",
    "print(classification_report(Y_test,Y_predict))"
   ]
  },
  {
   "cell_type": "code",
   "execution_count": null,
   "id": "861359d6",
   "metadata": {
    "colab": {
     "base_uri": "https://localhost:8080/"
    },
    "executionInfo": {
     "elapsed": 93571,
     "status": "ok",
     "timestamp": 1703858610090,
     "user": {
      "displayName": "NIKHILESH NARKHEDE",
      "userId": "01192225661355979879"
     },
     "user_tz": -330
    },
    "id": "Jj7hQfx7od0l",
    "outputId": "05f670c2-3af7-4a1d-e10e-3fc2043b20a1"
   },
   "outputs": [
    {
     "name": "stdout",
     "output_type": "stream",
     "text": [
      "CPU times: user 910 ms, sys: 148 ms, total: 1.06 s\n",
      "Wall time: 1min 33s\n"
     ]
    },
    {
     "data": {
      "text/plain": [
       "0.8909371352020707"
      ]
     },
     "execution_count": 93,
     "metadata": {},
     "output_type": "execute_result"
    }
   ],
   "source": [
    "%%time\n",
    "cb_model = CatBoostClassifier()\n",
    "cb_model_cv_scores = cross_val_score(cb_model,X_train,Y_train,cv=5,scoring='roc_auc',n_jobs=-1)\n",
    "cb_model_cv_scores.mean()"
   ]
  },
  {
   "cell_type": "code",
   "execution_count": null,
   "id": "efb19972",
   "metadata": {
    "colab": {
     "base_uri": "https://localhost:8080/"
    },
    "executionInfo": {
     "elapsed": 18340,
     "status": "ok",
     "timestamp": 1703858631530,
     "user": {
      "displayName": "NIKHILESH NARKHEDE",
      "userId": "01192225661355979879"
     },
     "user_tz": -330
    },
    "id": "00pbCZKKogO-",
    "outputId": "366df172-d6b7-4020-e206-6e5c03a14924"
   },
   "outputs": [
    {
     "name": "stdout",
     "output_type": "stream",
     "text": [
      "Learning rate set to 0.040021\n",
      "0:\tlearn: 0.6675296\ttotal: 64.9ms\tremaining: 1m 4s\n",
      "1:\tlearn: 0.6452212\ttotal: 78.3ms\tremaining: 39s\n",
      "2:\tlearn: 0.6254495\ttotal: 91ms\tremaining: 30.3s\n",
      "3:\tlearn: 0.6059213\ttotal: 104ms\tremaining: 26s\n",
      "4:\tlearn: 0.5880209\ttotal: 118ms\tremaining: 23.5s\n",
      "5:\tlearn: 0.5718522\ttotal: 133ms\tremaining: 22.1s\n",
      "6:\tlearn: 0.5597428\ttotal: 147ms\tremaining: 20.9s\n",
      "7:\tlearn: 0.5461153\ttotal: 161ms\tremaining: 20s\n",
      "8:\tlearn: 0.5334705\ttotal: 177ms\tremaining: 19.5s\n",
      "9:\tlearn: 0.5231118\ttotal: 190ms\tremaining: 18.9s\n",
      "10:\tlearn: 0.5126780\ttotal: 207ms\tremaining: 18.6s\n",
      "11:\tlearn: 0.5032010\ttotal: 221ms\tremaining: 18.2s\n",
      "12:\tlearn: 0.4956384\ttotal: 237ms\tremaining: 18s\n",
      "13:\tlearn: 0.4877502\ttotal: 251ms\tremaining: 17.7s\n",
      "14:\tlearn: 0.4801944\ttotal: 264ms\tremaining: 17.4s\n",
      "15:\tlearn: 0.4732024\ttotal: 278ms\tremaining: 17.1s\n",
      "16:\tlearn: 0.4675784\ttotal: 291ms\tremaining: 16.8s\n",
      "17:\tlearn: 0.4622923\ttotal: 305ms\tremaining: 16.7s\n",
      "18:\tlearn: 0.4569810\ttotal: 319ms\tremaining: 16.5s\n",
      "19:\tlearn: 0.4521569\ttotal: 332ms\tremaining: 16.3s\n",
      "20:\tlearn: 0.4478966\ttotal: 346ms\tremaining: 16.1s\n",
      "21:\tlearn: 0.4434958\ttotal: 364ms\tremaining: 16.2s\n",
      "22:\tlearn: 0.4392458\ttotal: 377ms\tremaining: 16s\n",
      "23:\tlearn: 0.4353882\ttotal: 390ms\tremaining: 15.9s\n",
      "24:\tlearn: 0.4318857\ttotal: 405ms\tremaining: 15.8s\n",
      "25:\tlearn: 0.4285538\ttotal: 421ms\tremaining: 15.8s\n",
      "26:\tlearn: 0.4255927\ttotal: 434ms\tremaining: 15.6s\n",
      "27:\tlearn: 0.4230814\ttotal: 447ms\tremaining: 15.5s\n",
      "28:\tlearn: 0.4201586\ttotal: 461ms\tremaining: 15.4s\n",
      "29:\tlearn: 0.4175226\ttotal: 475ms\tremaining: 15.4s\n",
      "30:\tlearn: 0.4150787\ttotal: 489ms\tremaining: 15.3s\n",
      "31:\tlearn: 0.4129371\ttotal: 505ms\tremaining: 15.3s\n",
      "32:\tlearn: 0.4107102\ttotal: 520ms\tremaining: 15.2s\n",
      "33:\tlearn: 0.4086329\ttotal: 534ms\tremaining: 15.2s\n",
      "34:\tlearn: 0.4068073\ttotal: 547ms\tremaining: 15.1s\n",
      "35:\tlearn: 0.4050005\ttotal: 560ms\tremaining: 15s\n",
      "36:\tlearn: 0.4032584\ttotal: 573ms\tremaining: 14.9s\n",
      "37:\tlearn: 0.4018131\ttotal: 587ms\tremaining: 14.8s\n",
      "38:\tlearn: 0.4004784\ttotal: 600ms\tremaining: 14.8s\n",
      "39:\tlearn: 0.3992294\ttotal: 617ms\tremaining: 14.8s\n",
      "40:\tlearn: 0.3978126\ttotal: 631ms\tremaining: 14.8s\n",
      "41:\tlearn: 0.3964276\ttotal: 645ms\tremaining: 14.7s\n",
      "42:\tlearn: 0.3952633\ttotal: 658ms\tremaining: 14.6s\n",
      "43:\tlearn: 0.3942113\ttotal: 671ms\tremaining: 14.6s\n",
      "44:\tlearn: 0.3932625\ttotal: 684ms\tremaining: 14.5s\n",
      "45:\tlearn: 0.3921010\ttotal: 697ms\tremaining: 14.5s\n",
      "46:\tlearn: 0.3913739\ttotal: 711ms\tremaining: 14.4s\n",
      "47:\tlearn: 0.3903630\ttotal: 728ms\tremaining: 14.4s\n",
      "48:\tlearn: 0.3894136\ttotal: 746ms\tremaining: 14.5s\n",
      "49:\tlearn: 0.3884700\ttotal: 761ms\tremaining: 14.5s\n",
      "50:\tlearn: 0.3876200\ttotal: 774ms\tremaining: 14.4s\n",
      "51:\tlearn: 0.3870575\ttotal: 787ms\tremaining: 14.4s\n",
      "52:\tlearn: 0.3865064\ttotal: 801ms\tremaining: 14.3s\n",
      "53:\tlearn: 0.3857412\ttotal: 814ms\tremaining: 14.3s\n",
      "54:\tlearn: 0.3850903\ttotal: 831ms\tremaining: 14.3s\n",
      "55:\tlearn: 0.3845934\ttotal: 844ms\tremaining: 14.2s\n",
      "56:\tlearn: 0.3838255\ttotal: 857ms\tremaining: 14.2s\n",
      "57:\tlearn: 0.3833103\ttotal: 871ms\tremaining: 14.1s\n",
      "58:\tlearn: 0.3825971\ttotal: 888ms\tremaining: 14.2s\n",
      "59:\tlearn: 0.3821207\ttotal: 901ms\tremaining: 14.1s\n",
      "60:\tlearn: 0.3816673\ttotal: 915ms\tremaining: 14.1s\n",
      "61:\tlearn: 0.3813422\ttotal: 928ms\tremaining: 14s\n",
      "62:\tlearn: 0.3810466\ttotal: 941ms\tremaining: 14s\n",
      "63:\tlearn: 0.3806062\ttotal: 955ms\tremaining: 14s\n",
      "64:\tlearn: 0.3801874\ttotal: 968ms\tremaining: 13.9s\n",
      "65:\tlearn: 0.3796204\ttotal: 981ms\tremaining: 13.9s\n",
      "66:\tlearn: 0.3792248\ttotal: 994ms\tremaining: 13.8s\n",
      "67:\tlearn: 0.3787511\ttotal: 1.01s\tremaining: 13.8s\n",
      "68:\tlearn: 0.3784439\ttotal: 1.02s\tremaining: 13.8s\n",
      "69:\tlearn: 0.3779930\ttotal: 1.05s\tremaining: 14s\n",
      "70:\tlearn: 0.3776872\ttotal: 1.07s\tremaining: 14s\n",
      "71:\tlearn: 0.3773598\ttotal: 1.08s\tremaining: 13.9s\n",
      "72:\tlearn: 0.3769391\ttotal: 1.09s\tremaining: 13.9s\n",
      "73:\tlearn: 0.3766171\ttotal: 1.1s\tremaining: 13.8s\n",
      "74:\tlearn: 0.3763410\ttotal: 1.12s\tremaining: 13.8s\n",
      "75:\tlearn: 0.3760582\ttotal: 1.13s\tremaining: 13.8s\n",
      "76:\tlearn: 0.3758391\ttotal: 1.14s\tremaining: 13.7s\n",
      "77:\tlearn: 0.3756275\ttotal: 1.16s\tremaining: 13.7s\n",
      "78:\tlearn: 0.3753901\ttotal: 1.18s\tremaining: 13.7s\n",
      "79:\tlearn: 0.3752131\ttotal: 1.19s\tremaining: 13.7s\n",
      "80:\tlearn: 0.3748230\ttotal: 1.2s\tremaining: 13.6s\n",
      "81:\tlearn: 0.3744828\ttotal: 1.22s\tremaining: 13.6s\n",
      "82:\tlearn: 0.3740064\ttotal: 1.24s\tremaining: 13.7s\n",
      "83:\tlearn: 0.3737717\ttotal: 1.25s\tremaining: 13.7s\n",
      "84:\tlearn: 0.3736231\ttotal: 1.27s\tremaining: 13.6s\n",
      "85:\tlearn: 0.3732045\ttotal: 1.28s\tremaining: 13.6s\n",
      "86:\tlearn: 0.3730067\ttotal: 1.29s\tremaining: 13.6s\n",
      "87:\tlearn: 0.3727532\ttotal: 1.31s\tremaining: 13.6s\n",
      "88:\tlearn: 0.3726090\ttotal: 1.32s\tremaining: 13.5s\n",
      "89:\tlearn: 0.3723748\ttotal: 1.33s\tremaining: 13.5s\n",
      "90:\tlearn: 0.3721522\ttotal: 1.35s\tremaining: 13.5s\n",
      "91:\tlearn: 0.3719893\ttotal: 1.36s\tremaining: 13.5s\n",
      "92:\tlearn: 0.3717875\ttotal: 1.38s\tremaining: 13.4s\n",
      "93:\tlearn: 0.3714629\ttotal: 1.39s\tremaining: 13.4s\n",
      "94:\tlearn: 0.3712833\ttotal: 1.41s\tremaining: 13.4s\n",
      "95:\tlearn: 0.3711254\ttotal: 1.42s\tremaining: 13.3s\n",
      "96:\tlearn: 0.3708040\ttotal: 1.43s\tremaining: 13.3s\n",
      "97:\tlearn: 0.3705264\ttotal: 1.44s\tremaining: 13.3s\n",
      "98:\tlearn: 0.3702830\ttotal: 1.46s\tremaining: 13.3s\n",
      "99:\tlearn: 0.3701205\ttotal: 1.47s\tremaining: 13.3s\n",
      "100:\tlearn: 0.3699889\ttotal: 1.49s\tremaining: 13.3s\n",
      "101:\tlearn: 0.3698550\ttotal: 1.5s\tremaining: 13.2s\n",
      "102:\tlearn: 0.3697060\ttotal: 1.51s\tremaining: 13.2s\n",
      "103:\tlearn: 0.3695512\ttotal: 1.53s\tremaining: 13.2s\n",
      "104:\tlearn: 0.3693873\ttotal: 1.54s\tremaining: 13.1s\n",
      "105:\tlearn: 0.3692375\ttotal: 1.55s\tremaining: 13.1s\n",
      "106:\tlearn: 0.3687827\ttotal: 1.57s\tremaining: 13.1s\n",
      "107:\tlearn: 0.3685919\ttotal: 1.58s\tremaining: 13.1s\n",
      "108:\tlearn: 0.3683998\ttotal: 1.6s\tremaining: 13.1s\n",
      "109:\tlearn: 0.3682308\ttotal: 1.61s\tremaining: 13s\n",
      "110:\tlearn: 0.3680858\ttotal: 1.63s\tremaining: 13s\n",
      "111:\tlearn: 0.3679635\ttotal: 1.64s\tremaining: 13s\n",
      "112:\tlearn: 0.3677633\ttotal: 1.65s\tremaining: 13s\n",
      "113:\tlearn: 0.3676206\ttotal: 1.67s\tremaining: 13s\n",
      "114:\tlearn: 0.3675039\ttotal: 1.68s\tremaining: 12.9s\n",
      "115:\tlearn: 0.3673430\ttotal: 1.69s\tremaining: 12.9s\n",
      "116:\tlearn: 0.3671865\ttotal: 1.71s\tremaining: 12.9s\n",
      "117:\tlearn: 0.3670200\ttotal: 1.72s\tremaining: 12.9s\n",
      "118:\tlearn: 0.3669090\ttotal: 1.73s\tremaining: 12.8s\n",
      "119:\tlearn: 0.3667368\ttotal: 1.75s\tremaining: 12.8s\n",
      "120:\tlearn: 0.3665397\ttotal: 1.76s\tremaining: 12.8s\n",
      "121:\tlearn: 0.3664394\ttotal: 1.77s\tremaining: 12.8s\n",
      "122:\tlearn: 0.3663132\ttotal: 1.79s\tremaining: 12.7s\n",
      "123:\tlearn: 0.3661740\ttotal: 1.8s\tremaining: 12.7s\n",
      "124:\tlearn: 0.3660354\ttotal: 1.81s\tremaining: 12.7s\n",
      "125:\tlearn: 0.3658876\ttotal: 1.83s\tremaining: 12.7s\n",
      "126:\tlearn: 0.3656921\ttotal: 1.84s\tremaining: 12.6s\n",
      "127:\tlearn: 0.3655614\ttotal: 1.85s\tremaining: 12.6s\n",
      "128:\tlearn: 0.3654384\ttotal: 1.86s\tremaining: 12.6s\n",
      "129:\tlearn: 0.3653074\ttotal: 1.88s\tremaining: 12.6s\n",
      "130:\tlearn: 0.3650864\ttotal: 1.9s\tremaining: 12.6s\n",
      "131:\tlearn: 0.3649637\ttotal: 1.91s\tremaining: 12.6s\n",
      "132:\tlearn: 0.3648249\ttotal: 1.93s\tremaining: 12.5s\n",
      "133:\tlearn: 0.3646718\ttotal: 1.95s\tremaining: 12.6s\n",
      "134:\tlearn: 0.3645581\ttotal: 1.96s\tremaining: 12.6s\n",
      "135:\tlearn: 0.3644471\ttotal: 1.98s\tremaining: 12.5s\n",
      "136:\tlearn: 0.3643374\ttotal: 1.99s\tremaining: 12.5s\n",
      "137:\tlearn: 0.3641777\ttotal: 2s\tremaining: 12.5s\n",
      "138:\tlearn: 0.3639902\ttotal: 2.01s\tremaining: 12.5s\n",
      "139:\tlearn: 0.3638560\ttotal: 2.03s\tremaining: 12.5s\n",
      "140:\tlearn: 0.3637408\ttotal: 2.06s\tremaining: 12.5s\n",
      "141:\tlearn: 0.3636103\ttotal: 2.08s\tremaining: 12.5s\n",
      "142:\tlearn: 0.3635138\ttotal: 2.09s\tremaining: 12.5s\n",
      "143:\tlearn: 0.3633905\ttotal: 2.11s\tremaining: 12.5s\n",
      "144:\tlearn: 0.3632512\ttotal: 2.12s\tremaining: 12.5s\n",
      "145:\tlearn: 0.3631568\ttotal: 2.13s\tremaining: 12.5s\n",
      "146:\tlearn: 0.3630402\ttotal: 2.15s\tremaining: 12.4s\n",
      "147:\tlearn: 0.3629024\ttotal: 2.16s\tremaining: 12.4s\n",
      "148:\tlearn: 0.3627902\ttotal: 2.17s\tremaining: 12.4s\n",
      "149:\tlearn: 0.3626671\ttotal: 2.19s\tremaining: 12.4s\n",
      "150:\tlearn: 0.3625437\ttotal: 2.2s\tremaining: 12.4s\n",
      "151:\tlearn: 0.3624256\ttotal: 2.22s\tremaining: 12.4s\n",
      "152:\tlearn: 0.3623075\ttotal: 2.24s\tremaining: 12.4s\n",
      "153:\tlearn: 0.3621025\ttotal: 2.25s\tremaining: 12.4s\n",
      "154:\tlearn: 0.3620304\ttotal: 2.27s\tremaining: 12.4s\n",
      "155:\tlearn: 0.3619053\ttotal: 2.28s\tremaining: 12.3s\n",
      "156:\tlearn: 0.3617656\ttotal: 2.3s\tremaining: 12.3s\n",
      "157:\tlearn: 0.3616257\ttotal: 2.31s\tremaining: 12.3s\n",
      "158:\tlearn: 0.3614575\ttotal: 2.32s\tremaining: 12.3s\n",
      "159:\tlearn: 0.3613343\ttotal: 2.34s\tremaining: 12.3s\n",
      "160:\tlearn: 0.3612370\ttotal: 2.35s\tremaining: 12.3s\n",
      "161:\tlearn: 0.3610679\ttotal: 2.37s\tremaining: 12.2s\n",
      "162:\tlearn: 0.3609626\ttotal: 2.38s\tremaining: 12.2s\n",
      "163:\tlearn: 0.3608370\ttotal: 2.39s\tremaining: 12.2s\n",
      "164:\tlearn: 0.3607103\ttotal: 2.41s\tremaining: 12.2s\n",
      "165:\tlearn: 0.3606385\ttotal: 2.42s\tremaining: 12.2s\n",
      "166:\tlearn: 0.3604674\ttotal: 2.43s\tremaining: 12.1s\n",
      "167:\tlearn: 0.3603158\ttotal: 2.45s\tremaining: 12.1s\n",
      "168:\tlearn: 0.3602044\ttotal: 2.46s\tremaining: 12.1s\n",
      "169:\tlearn: 0.3601025\ttotal: 2.48s\tremaining: 12.1s\n",
      "170:\tlearn: 0.3599177\ttotal: 2.49s\tremaining: 12.1s\n",
      "171:\tlearn: 0.3597913\ttotal: 2.51s\tremaining: 12.1s\n",
      "172:\tlearn: 0.3597112\ttotal: 2.52s\tremaining: 12.1s\n",
      "173:\tlearn: 0.3595889\ttotal: 2.54s\tremaining: 12.1s\n",
      "174:\tlearn: 0.3594609\ttotal: 2.56s\tremaining: 12s\n",
      "175:\tlearn: 0.3593251\ttotal: 2.57s\tremaining: 12s\n",
      "176:\tlearn: 0.3592072\ttotal: 2.58s\tremaining: 12s\n",
      "177:\tlearn: 0.3590656\ttotal: 2.59s\tremaining: 12s\n",
      "178:\tlearn: 0.3589609\ttotal: 2.61s\tremaining: 12s\n",
      "179:\tlearn: 0.3588173\ttotal: 2.62s\tremaining: 11.9s\n",
      "180:\tlearn: 0.3586970\ttotal: 2.63s\tremaining: 11.9s\n",
      "181:\tlearn: 0.3586171\ttotal: 2.65s\tremaining: 11.9s\n",
      "182:\tlearn: 0.3584650\ttotal: 2.66s\tremaining: 11.9s\n",
      "183:\tlearn: 0.3583410\ttotal: 2.67s\tremaining: 11.9s\n",
      "184:\tlearn: 0.3582790\ttotal: 2.69s\tremaining: 11.8s\n",
      "185:\tlearn: 0.3581555\ttotal: 2.7s\tremaining: 11.8s\n",
      "186:\tlearn: 0.3580396\ttotal: 2.72s\tremaining: 11.8s\n",
      "187:\tlearn: 0.3579041\ttotal: 2.73s\tremaining: 11.8s\n",
      "188:\tlearn: 0.3577612\ttotal: 2.74s\tremaining: 11.8s\n",
      "189:\tlearn: 0.3576219\ttotal: 2.76s\tremaining: 11.8s\n",
      "190:\tlearn: 0.3572698\ttotal: 2.77s\tremaining: 11.7s\n",
      "191:\tlearn: 0.3571298\ttotal: 2.79s\tremaining: 11.7s\n",
      "192:\tlearn: 0.3570102\ttotal: 2.8s\tremaining: 11.7s\n",
      "193:\tlearn: 0.3568780\ttotal: 2.82s\tremaining: 11.7s\n",
      "194:\tlearn: 0.3567813\ttotal: 2.83s\tremaining: 11.7s\n",
      "195:\tlearn: 0.3566424\ttotal: 2.85s\tremaining: 11.7s\n",
      "196:\tlearn: 0.3565023\ttotal: 2.86s\tremaining: 11.7s\n",
      "197:\tlearn: 0.3563769\ttotal: 2.87s\tremaining: 11.6s\n",
      "198:\tlearn: 0.3562399\ttotal: 2.89s\tremaining: 11.6s\n",
      "199:\tlearn: 0.3560947\ttotal: 2.9s\tremaining: 11.6s\n",
      "200:\tlearn: 0.3558402\ttotal: 2.91s\tremaining: 11.6s\n",
      "201:\tlearn: 0.3557583\ttotal: 2.93s\tremaining: 11.6s\n",
      "202:\tlearn: 0.3556222\ttotal: 2.94s\tremaining: 11.6s\n",
      "203:\tlearn: 0.3555363\ttotal: 2.96s\tremaining: 11.5s\n",
      "204:\tlearn: 0.3553576\ttotal: 2.97s\tremaining: 11.5s\n",
      "205:\tlearn: 0.3553335\ttotal: 2.98s\tremaining: 11.5s\n",
      "206:\tlearn: 0.3552174\ttotal: 2.99s\tremaining: 11.5s\n",
      "207:\tlearn: 0.3551056\ttotal: 3.01s\tremaining: 11.4s\n",
      "208:\tlearn: 0.3549880\ttotal: 3.02s\tremaining: 11.4s\n",
      "209:\tlearn: 0.3548468\ttotal: 3.04s\tremaining: 11.4s\n",
      "210:\tlearn: 0.3547444\ttotal: 3.06s\tremaining: 11.5s\n",
      "211:\tlearn: 0.3546378\ttotal: 3.08s\tremaining: 11.4s\n",
      "212:\tlearn: 0.3545448\ttotal: 3.09s\tremaining: 11.4s\n",
      "213:\tlearn: 0.3544392\ttotal: 3.11s\tremaining: 11.4s\n",
      "214:\tlearn: 0.3543008\ttotal: 3.12s\tremaining: 11.4s\n",
      "215:\tlearn: 0.3541510\ttotal: 3.14s\tremaining: 11.4s\n",
      "216:\tlearn: 0.3539948\ttotal: 3.15s\tremaining: 11.4s\n",
      "217:\tlearn: 0.3538722\ttotal: 3.17s\tremaining: 11.4s\n",
      "218:\tlearn: 0.3537200\ttotal: 3.18s\tremaining: 11.3s\n",
      "219:\tlearn: 0.3535692\ttotal: 3.2s\tremaining: 11.3s\n",
      "220:\tlearn: 0.3534527\ttotal: 3.21s\tremaining: 11.3s\n",
      "221:\tlearn: 0.3533168\ttotal: 3.22s\tremaining: 11.3s\n",
      "222:\tlearn: 0.3531891\ttotal: 3.24s\tremaining: 11.3s\n",
      "223:\tlearn: 0.3530608\ttotal: 3.25s\tremaining: 11.3s\n",
      "224:\tlearn: 0.3529323\ttotal: 3.27s\tremaining: 11.3s\n",
      "225:\tlearn: 0.3527984\ttotal: 3.29s\tremaining: 11.3s\n",
      "226:\tlearn: 0.3526465\ttotal: 3.3s\tremaining: 11.3s\n",
      "227:\tlearn: 0.3525241\ttotal: 3.32s\tremaining: 11.2s\n",
      "228:\tlearn: 0.3523835\ttotal: 3.33s\tremaining: 11.2s\n",
      "229:\tlearn: 0.3522640\ttotal: 3.35s\tremaining: 11.2s\n",
      "230:\tlearn: 0.3521541\ttotal: 3.36s\tremaining: 11.2s\n",
      "231:\tlearn: 0.3520324\ttotal: 3.37s\tremaining: 11.2s\n",
      "232:\tlearn: 0.3519102\ttotal: 3.39s\tremaining: 11.2s\n",
      "233:\tlearn: 0.3517923\ttotal: 3.42s\tremaining: 11.2s\n",
      "234:\tlearn: 0.3516587\ttotal: 3.44s\tremaining: 11.2s\n",
      "235:\tlearn: 0.3514976\ttotal: 3.46s\tremaining: 11.2s\n",
      "236:\tlearn: 0.3513603\ttotal: 3.48s\tremaining: 11.2s\n",
      "237:\tlearn: 0.3511923\ttotal: 3.5s\tremaining: 11.2s\n",
      "238:\tlearn: 0.3510580\ttotal: 3.53s\tremaining: 11.3s\n",
      "239:\tlearn: 0.3509719\ttotal: 3.55s\tremaining: 11.2s\n",
      "240:\tlearn: 0.3508810\ttotal: 3.56s\tremaining: 11.2s\n",
      "241:\tlearn: 0.3507584\ttotal: 3.58s\tremaining: 11.2s\n",
      "242:\tlearn: 0.3506483\ttotal: 3.59s\tremaining: 11.2s\n",
      "243:\tlearn: 0.3505047\ttotal: 3.6s\tremaining: 11.2s\n",
      "244:\tlearn: 0.3503935\ttotal: 3.62s\tremaining: 11.1s\n",
      "245:\tlearn: 0.3502576\ttotal: 3.63s\tremaining: 11.1s\n",
      "246:\tlearn: 0.3501633\ttotal: 3.64s\tremaining: 11.1s\n",
      "247:\tlearn: 0.3500708\ttotal: 3.66s\tremaining: 11.1s\n",
      "248:\tlearn: 0.3499724\ttotal: 3.67s\tremaining: 11.1s\n",
      "249:\tlearn: 0.3498549\ttotal: 3.68s\tremaining: 11.1s\n",
      "250:\tlearn: 0.3497554\ttotal: 3.7s\tremaining: 11s\n",
      "251:\tlearn: 0.3495817\ttotal: 3.71s\tremaining: 11s\n",
      "252:\tlearn: 0.3494646\ttotal: 3.73s\tremaining: 11s\n",
      "253:\tlearn: 0.3493461\ttotal: 3.74s\tremaining: 11s\n",
      "254:\tlearn: 0.3492376\ttotal: 3.76s\tremaining: 11s\n",
      "255:\tlearn: 0.3491396\ttotal: 3.77s\tremaining: 11s\n",
      "256:\tlearn: 0.3489815\ttotal: 3.79s\tremaining: 11s\n",
      "257:\tlearn: 0.3488800\ttotal: 3.8s\tremaining: 10.9s\n",
      "258:\tlearn: 0.3487735\ttotal: 3.81s\tremaining: 10.9s\n",
      "259:\tlearn: 0.3486591\ttotal: 3.83s\tremaining: 10.9s\n",
      "260:\tlearn: 0.3485427\ttotal: 3.84s\tremaining: 10.9s\n",
      "261:\tlearn: 0.3484084\ttotal: 3.85s\tremaining: 10.9s\n",
      "262:\tlearn: 0.3483002\ttotal: 3.87s\tremaining: 10.8s\n",
      "263:\tlearn: 0.3481817\ttotal: 3.88s\tremaining: 10.8s\n",
      "264:\tlearn: 0.3480501\ttotal: 3.89s\tremaining: 10.8s\n",
      "265:\tlearn: 0.3479710\ttotal: 3.9s\tremaining: 10.8s\n",
      "266:\tlearn: 0.3478059\ttotal: 3.92s\tremaining: 10.8s\n",
      "267:\tlearn: 0.3476992\ttotal: 3.93s\tremaining: 10.7s\n",
      "268:\tlearn: 0.3475776\ttotal: 3.94s\tremaining: 10.7s\n",
      "269:\tlearn: 0.3474738\ttotal: 3.96s\tremaining: 10.7s\n",
      "270:\tlearn: 0.3473530\ttotal: 3.97s\tremaining: 10.7s\n",
      "271:\tlearn: 0.3472463\ttotal: 3.99s\tremaining: 10.7s\n",
      "272:\tlearn: 0.3471090\ttotal: 4s\tremaining: 10.7s\n",
      "273:\tlearn: 0.3469736\ttotal: 4.01s\tremaining: 10.6s\n",
      "274:\tlearn: 0.3468215\ttotal: 4.03s\tremaining: 10.6s\n",
      "275:\tlearn: 0.3466935\ttotal: 4.04s\tremaining: 10.6s\n",
      "276:\tlearn: 0.3465598\ttotal: 4.07s\tremaining: 10.6s\n",
      "277:\tlearn: 0.3464306\ttotal: 4.08s\tremaining: 10.6s\n",
      "278:\tlearn: 0.3462797\ttotal: 4.09s\tremaining: 10.6s\n",
      "279:\tlearn: 0.3461356\ttotal: 4.11s\tremaining: 10.6s\n",
      "280:\tlearn: 0.3459881\ttotal: 4.12s\tremaining: 10.5s\n",
      "281:\tlearn: 0.3457682\ttotal: 4.13s\tremaining: 10.5s\n",
      "282:\tlearn: 0.3456594\ttotal: 4.15s\tremaining: 10.5s\n",
      "283:\tlearn: 0.3455448\ttotal: 4.16s\tremaining: 10.5s\n",
      "284:\tlearn: 0.3453944\ttotal: 4.18s\tremaining: 10.5s\n",
      "285:\tlearn: 0.3452660\ttotal: 4.19s\tremaining: 10.5s\n",
      "286:\tlearn: 0.3449698\ttotal: 4.21s\tremaining: 10.5s\n",
      "287:\tlearn: 0.3448466\ttotal: 4.22s\tremaining: 10.4s\n",
      "288:\tlearn: 0.3447357\ttotal: 4.24s\tremaining: 10.4s\n",
      "289:\tlearn: 0.3446229\ttotal: 4.25s\tremaining: 10.4s\n",
      "290:\tlearn: 0.3445001\ttotal: 4.26s\tremaining: 10.4s\n",
      "291:\tlearn: 0.3442998\ttotal: 4.28s\tremaining: 10.4s\n",
      "292:\tlearn: 0.3441854\ttotal: 4.29s\tremaining: 10.3s\n",
      "293:\tlearn: 0.3440477\ttotal: 4.3s\tremaining: 10.3s\n",
      "294:\tlearn: 0.3438837\ttotal: 4.32s\tremaining: 10.3s\n",
      "295:\tlearn: 0.3437313\ttotal: 4.33s\tremaining: 10.3s\n",
      "296:\tlearn: 0.3436169\ttotal: 4.34s\tremaining: 10.3s\n",
      "297:\tlearn: 0.3434391\ttotal: 4.36s\tremaining: 10.3s\n",
      "298:\tlearn: 0.3433051\ttotal: 4.37s\tremaining: 10.3s\n",
      "299:\tlearn: 0.3431693\ttotal: 4.39s\tremaining: 10.2s\n",
      "300:\tlearn: 0.3430588\ttotal: 4.41s\tremaining: 10.2s\n",
      "301:\tlearn: 0.3429227\ttotal: 4.42s\tremaining: 10.2s\n",
      "302:\tlearn: 0.3428250\ttotal: 4.43s\tremaining: 10.2s\n",
      "303:\tlearn: 0.3426978\ttotal: 4.45s\tremaining: 10.2s\n",
      "304:\tlearn: 0.3425814\ttotal: 4.46s\tremaining: 10.2s\n",
      "305:\tlearn: 0.3424169\ttotal: 4.47s\tremaining: 10.1s\n",
      "306:\tlearn: 0.3422154\ttotal: 4.49s\tremaining: 10.1s\n",
      "307:\tlearn: 0.3420798\ttotal: 4.5s\tremaining: 10.1s\n",
      "308:\tlearn: 0.3419451\ttotal: 4.51s\tremaining: 10.1s\n",
      "309:\tlearn: 0.3417800\ttotal: 4.53s\tremaining: 10.1s\n",
      "310:\tlearn: 0.3416755\ttotal: 4.54s\tremaining: 10.1s\n",
      "311:\tlearn: 0.3415217\ttotal: 4.55s\tremaining: 10s\n",
      "312:\tlearn: 0.3413666\ttotal: 4.57s\tremaining: 10s\n",
      "313:\tlearn: 0.3412177\ttotal: 4.58s\tremaining: 10s\n",
      "314:\tlearn: 0.3410878\ttotal: 4.6s\tremaining: 10s\n",
      "315:\tlearn: 0.3409592\ttotal: 4.61s\tremaining: 9.98s\n",
      "316:\tlearn: 0.3408029\ttotal: 4.62s\tremaining: 9.96s\n",
      "317:\tlearn: 0.3406750\ttotal: 4.64s\tremaining: 9.95s\n",
      "318:\tlearn: 0.3405293\ttotal: 4.65s\tremaining: 9.93s\n",
      "319:\tlearn: 0.3404155\ttotal: 4.66s\tremaining: 9.91s\n",
      "320:\tlearn: 0.3402808\ttotal: 4.67s\tremaining: 9.89s\n",
      "321:\tlearn: 0.3401629\ttotal: 4.69s\tremaining: 9.87s\n",
      "322:\tlearn: 0.3400372\ttotal: 4.7s\tremaining: 9.85s\n",
      "323:\tlearn: 0.3399358\ttotal: 4.71s\tremaining: 9.84s\n",
      "324:\tlearn: 0.3398144\ttotal: 4.73s\tremaining: 9.82s\n",
      "325:\tlearn: 0.3397196\ttotal: 4.74s\tremaining: 9.8s\n",
      "326:\tlearn: 0.3396194\ttotal: 4.76s\tremaining: 9.79s\n",
      "327:\tlearn: 0.3394851\ttotal: 4.77s\tremaining: 9.77s\n",
      "328:\tlearn: 0.3393724\ttotal: 4.78s\tremaining: 9.76s\n",
      "329:\tlearn: 0.3392268\ttotal: 4.8s\tremaining: 9.74s\n",
      "330:\tlearn: 0.3390925\ttotal: 4.81s\tremaining: 9.73s\n",
      "331:\tlearn: 0.3389371\ttotal: 4.83s\tremaining: 9.71s\n",
      "332:\tlearn: 0.3388204\ttotal: 4.84s\tremaining: 9.69s\n",
      "333:\tlearn: 0.3386753\ttotal: 4.85s\tremaining: 9.68s\n",
      "334:\tlearn: 0.3385820\ttotal: 4.87s\tremaining: 9.67s\n",
      "335:\tlearn: 0.3384615\ttotal: 4.88s\tremaining: 9.65s\n",
      "336:\tlearn: 0.3383508\ttotal: 4.9s\tremaining: 9.64s\n",
      "337:\tlearn: 0.3382090\ttotal: 4.91s\tremaining: 9.62s\n",
      "338:\tlearn: 0.3380749\ttotal: 4.93s\tremaining: 9.62s\n",
      "339:\tlearn: 0.3379613\ttotal: 4.96s\tremaining: 9.63s\n",
      "340:\tlearn: 0.3378483\ttotal: 4.99s\tremaining: 9.64s\n",
      "341:\tlearn: 0.3376879\ttotal: 5.02s\tremaining: 9.65s\n",
      "342:\tlearn: 0.3375368\ttotal: 5.05s\tremaining: 9.68s\n",
      "343:\tlearn: 0.3374198\ttotal: 5.09s\tremaining: 9.7s\n",
      "344:\tlearn: 0.3372965\ttotal: 5.12s\tremaining: 9.72s\n",
      "345:\tlearn: 0.3371727\ttotal: 5.15s\tremaining: 9.73s\n",
      "346:\tlearn: 0.3370428\ttotal: 5.17s\tremaining: 9.72s\n",
      "347:\tlearn: 0.3369375\ttotal: 5.19s\tremaining: 9.72s\n",
      "348:\tlearn: 0.3368237\ttotal: 5.22s\tremaining: 9.74s\n",
      "349:\tlearn: 0.3367107\ttotal: 5.26s\tremaining: 9.76s\n",
      "350:\tlearn: 0.3365628\ttotal: 5.29s\tremaining: 9.78s\n",
      "351:\tlearn: 0.3364392\ttotal: 5.32s\tremaining: 9.8s\n",
      "352:\tlearn: 0.3362870\ttotal: 5.36s\tremaining: 9.82s\n",
      "353:\tlearn: 0.3361601\ttotal: 5.39s\tremaining: 9.83s\n",
      "354:\tlearn: 0.3360067\ttotal: 5.43s\tremaining: 9.87s\n",
      "355:\tlearn: 0.3358503\ttotal: 5.47s\tremaining: 9.89s\n",
      "356:\tlearn: 0.3356930\ttotal: 5.49s\tremaining: 9.88s\n",
      "357:\tlearn: 0.3355764\ttotal: 5.52s\tremaining: 9.9s\n",
      "358:\tlearn: 0.3354053\ttotal: 5.55s\tremaining: 9.92s\n",
      "359:\tlearn: 0.3352708\ttotal: 5.59s\tremaining: 9.94s\n",
      "360:\tlearn: 0.3351532\ttotal: 5.63s\tremaining: 9.96s\n",
      "361:\tlearn: 0.3349966\ttotal: 5.67s\tremaining: 9.98s\n",
      "362:\tlearn: 0.3349164\ttotal: 5.7s\tremaining: 10s\n",
      "363:\tlearn: 0.3347469\ttotal: 5.73s\tremaining: 10s\n",
      "364:\tlearn: 0.3346002\ttotal: 5.77s\tremaining: 10s\n",
      "365:\tlearn: 0.3344434\ttotal: 5.8s\tremaining: 10.1s\n",
      "366:\tlearn: 0.3343024\ttotal: 5.84s\tremaining: 10.1s\n",
      "367:\tlearn: 0.3341604\ttotal: 5.88s\tremaining: 10.1s\n",
      "368:\tlearn: 0.3340349\ttotal: 5.91s\tremaining: 10.1s\n",
      "369:\tlearn: 0.3339123\ttotal: 5.95s\tremaining: 10.1s\n",
      "370:\tlearn: 0.3337483\ttotal: 5.98s\tremaining: 10.1s\n",
      "371:\tlearn: 0.3336143\ttotal: 6s\tremaining: 10.1s\n",
      "372:\tlearn: 0.3335147\ttotal: 6.03s\tremaining: 10.1s\n",
      "373:\tlearn: 0.3333859\ttotal: 6.07s\tremaining: 10.2s\n",
      "374:\tlearn: 0.3332758\ttotal: 6.09s\tremaining: 10.2s\n",
      "375:\tlearn: 0.3331510\ttotal: 6.13s\tremaining: 10.2s\n",
      "376:\tlearn: 0.3328255\ttotal: 6.15s\tremaining: 10.2s\n",
      "377:\tlearn: 0.3327092\ttotal: 6.16s\tremaining: 10.1s\n",
      "378:\tlearn: 0.3325749\ttotal: 6.18s\tremaining: 10.1s\n",
      "379:\tlearn: 0.3324305\ttotal: 6.2s\tremaining: 10.1s\n",
      "380:\tlearn: 0.3322722\ttotal: 6.22s\tremaining: 10.1s\n",
      "381:\tlearn: 0.3321710\ttotal: 6.24s\tremaining: 10.1s\n",
      "382:\tlearn: 0.3319852\ttotal: 6.26s\tremaining: 10.1s\n",
      "383:\tlearn: 0.3319321\ttotal: 6.27s\tremaining: 10.1s\n",
      "384:\tlearn: 0.3318148\ttotal: 6.29s\tremaining: 10s\n",
      "385:\tlearn: 0.3316526\ttotal: 6.32s\tremaining: 10.1s\n",
      "386:\tlearn: 0.3315356\ttotal: 6.35s\tremaining: 10.1s\n",
      "387:\tlearn: 0.3314376\ttotal: 6.39s\tremaining: 10.1s\n",
      "388:\tlearn: 0.3313431\ttotal: 6.42s\tremaining: 10.1s\n",
      "389:\tlearn: 0.3312119\ttotal: 6.45s\tremaining: 10.1s\n",
      "390:\tlearn: 0.3308931\ttotal: 6.48s\tremaining: 10.1s\n",
      "391:\tlearn: 0.3307869\ttotal: 6.52s\tremaining: 10.1s\n",
      "392:\tlearn: 0.3306176\ttotal: 6.55s\tremaining: 10.1s\n",
      "393:\tlearn: 0.3305290\ttotal: 6.59s\tremaining: 10.1s\n",
      "394:\tlearn: 0.3304461\ttotal: 6.62s\tremaining: 10.1s\n",
      "395:\tlearn: 0.3303374\ttotal: 6.64s\tremaining: 10.1s\n",
      "396:\tlearn: 0.3302445\ttotal: 6.67s\tremaining: 10.1s\n",
      "397:\tlearn: 0.3299399\ttotal: 6.71s\tremaining: 10.1s\n",
      "398:\tlearn: 0.3298008\ttotal: 6.74s\tremaining: 10.2s\n",
      "399:\tlearn: 0.3296842\ttotal: 6.78s\tremaining: 10.2s\n",
      "400:\tlearn: 0.3295422\ttotal: 6.81s\tremaining: 10.2s\n",
      "401:\tlearn: 0.3294302\ttotal: 6.85s\tremaining: 10.2s\n",
      "402:\tlearn: 0.3293213\ttotal: 6.88s\tremaining: 10.2s\n",
      "403:\tlearn: 0.3291844\ttotal: 6.91s\tremaining: 10.2s\n",
      "404:\tlearn: 0.3290402\ttotal: 6.96s\tremaining: 10.2s\n",
      "405:\tlearn: 0.3289057\ttotal: 6.99s\tremaining: 10.2s\n",
      "406:\tlearn: 0.3287920\ttotal: 7.01s\tremaining: 10.2s\n",
      "407:\tlearn: 0.3286308\ttotal: 7.05s\tremaining: 10.2s\n",
      "408:\tlearn: 0.3284769\ttotal: 7.08s\tremaining: 10.2s\n",
      "409:\tlearn: 0.3283431\ttotal: 7.12s\tremaining: 10.2s\n",
      "410:\tlearn: 0.3282313\ttotal: 7.16s\tremaining: 10.3s\n",
      "411:\tlearn: 0.3280751\ttotal: 7.19s\tremaining: 10.3s\n",
      "412:\tlearn: 0.3279361\ttotal: 7.23s\tremaining: 10.3s\n",
      "413:\tlearn: 0.3278017\ttotal: 7.26s\tremaining: 10.3s\n",
      "414:\tlearn: 0.3277187\ttotal: 7.28s\tremaining: 10.3s\n",
      "415:\tlearn: 0.3275998\ttotal: 7.3s\tremaining: 10.2s\n",
      "416:\tlearn: 0.3274901\ttotal: 7.32s\tremaining: 10.2s\n",
      "417:\tlearn: 0.3273529\ttotal: 7.34s\tremaining: 10.2s\n",
      "418:\tlearn: 0.3272100\ttotal: 7.36s\tremaining: 10.2s\n",
      "419:\tlearn: 0.3270516\ttotal: 7.38s\tremaining: 10.2s\n",
      "420:\tlearn: 0.3269521\ttotal: 7.39s\tremaining: 10.2s\n",
      "421:\tlearn: 0.3268244\ttotal: 7.41s\tremaining: 10.1s\n",
      "422:\tlearn: 0.3267272\ttotal: 7.42s\tremaining: 10.1s\n",
      "423:\tlearn: 0.3265643\ttotal: 7.44s\tremaining: 10.1s\n",
      "424:\tlearn: 0.3264061\ttotal: 7.46s\tremaining: 10.1s\n",
      "425:\tlearn: 0.3263558\ttotal: 7.48s\tremaining: 10.1s\n",
      "426:\tlearn: 0.3262186\ttotal: 7.5s\tremaining: 10.1s\n",
      "427:\tlearn: 0.3261190\ttotal: 7.53s\tremaining: 10.1s\n",
      "428:\tlearn: 0.3260157\ttotal: 7.55s\tremaining: 10.1s\n",
      "429:\tlearn: 0.3258540\ttotal: 7.58s\tremaining: 10s\n",
      "430:\tlearn: 0.3257386\ttotal: 7.62s\tremaining: 10.1s\n",
      "431:\tlearn: 0.3256324\ttotal: 7.65s\tremaining: 10.1s\n",
      "432:\tlearn: 0.3255255\ttotal: 7.69s\tremaining: 10.1s\n",
      "433:\tlearn: 0.3254071\ttotal: 7.72s\tremaining: 10.1s\n",
      "434:\tlearn: 0.3252879\ttotal: 7.77s\tremaining: 10.1s\n",
      "435:\tlearn: 0.3251448\ttotal: 7.81s\tremaining: 10.1s\n",
      "436:\tlearn: 0.3249931\ttotal: 7.84s\tremaining: 10.1s\n",
      "437:\tlearn: 0.3248181\ttotal: 7.88s\tremaining: 10.1s\n",
      "438:\tlearn: 0.3247210\ttotal: 7.9s\tremaining: 10.1s\n",
      "439:\tlearn: 0.3245839\ttotal: 7.92s\tremaining: 10.1s\n",
      "440:\tlearn: 0.3244607\ttotal: 7.94s\tremaining: 10.1s\n",
      "441:\tlearn: 0.3243426\ttotal: 7.96s\tremaining: 10s\n",
      "442:\tlearn: 0.3242173\ttotal: 7.98s\tremaining: 10s\n",
      "443:\tlearn: 0.3241099\ttotal: 8s\tremaining: 10s\n",
      "444:\tlearn: 0.3240281\ttotal: 8.01s\tremaining: 9.99s\n",
      "445:\tlearn: 0.3239206\ttotal: 8.03s\tremaining: 9.97s\n",
      "446:\tlearn: 0.3238196\ttotal: 8.06s\tremaining: 9.97s\n",
      "447:\tlearn: 0.3236929\ttotal: 8.08s\tremaining: 9.96s\n",
      "448:\tlearn: 0.3233942\ttotal: 8.11s\tremaining: 9.96s\n",
      "449:\tlearn: 0.3232616\ttotal: 8.15s\tremaining: 9.96s\n",
      "450:\tlearn: 0.3231531\ttotal: 8.19s\tremaining: 9.97s\n",
      "451:\tlearn: 0.3230579\ttotal: 8.22s\tremaining: 9.97s\n",
      "452:\tlearn: 0.3229526\ttotal: 8.25s\tremaining: 9.96s\n",
      "453:\tlearn: 0.3228855\ttotal: 8.28s\tremaining: 9.96s\n",
      "454:\tlearn: 0.3227869\ttotal: 8.31s\tremaining: 9.96s\n",
      "455:\tlearn: 0.3226576\ttotal: 8.35s\tremaining: 9.96s\n",
      "456:\tlearn: 0.3225395\ttotal: 8.38s\tremaining: 9.96s\n",
      "457:\tlearn: 0.3223707\ttotal: 8.41s\tremaining: 9.96s\n",
      "458:\tlearn: 0.3222592\ttotal: 8.43s\tremaining: 9.94s\n",
      "459:\tlearn: 0.3221336\ttotal: 8.45s\tremaining: 9.92s\n",
      "460:\tlearn: 0.3220251\ttotal: 8.48s\tremaining: 9.91s\n",
      "461:\tlearn: 0.3218941\ttotal: 8.51s\tremaining: 9.91s\n",
      "462:\tlearn: 0.3217074\ttotal: 8.54s\tremaining: 9.91s\n",
      "463:\tlearn: 0.3215976\ttotal: 8.56s\tremaining: 9.89s\n",
      "464:\tlearn: 0.3214140\ttotal: 8.6s\tremaining: 9.89s\n",
      "465:\tlearn: 0.3212979\ttotal: 8.62s\tremaining: 9.88s\n",
      "466:\tlearn: 0.3211393\ttotal: 8.65s\tremaining: 9.87s\n",
      "467:\tlearn: 0.3210215\ttotal: 8.68s\tremaining: 9.87s\n",
      "468:\tlearn: 0.3208750\ttotal: 8.71s\tremaining: 9.86s\n",
      "469:\tlearn: 0.3207754\ttotal: 8.74s\tremaining: 9.86s\n",
      "470:\tlearn: 0.3206453\ttotal: 8.77s\tremaining: 9.85s\n",
      "471:\tlearn: 0.3205556\ttotal: 8.81s\tremaining: 9.85s\n",
      "472:\tlearn: 0.3204361\ttotal: 8.84s\tremaining: 9.85s\n",
      "473:\tlearn: 0.3203152\ttotal: 8.87s\tremaining: 9.84s\n",
      "474:\tlearn: 0.3202049\ttotal: 8.91s\tremaining: 9.84s\n",
      "475:\tlearn: 0.3200484\ttotal: 8.94s\tremaining: 9.84s\n",
      "476:\tlearn: 0.3198945\ttotal: 8.97s\tremaining: 9.83s\n",
      "477:\tlearn: 0.3197947\ttotal: 9s\tremaining: 9.82s\n",
      "478:\tlearn: 0.3196399\ttotal: 9.03s\tremaining: 9.82s\n",
      "479:\tlearn: 0.3195649\ttotal: 9.05s\tremaining: 9.81s\n",
      "480:\tlearn: 0.3194326\ttotal: 9.08s\tremaining: 9.8s\n",
      "481:\tlearn: 0.3193205\ttotal: 9.12s\tremaining: 9.8s\n",
      "482:\tlearn: 0.3191856\ttotal: 9.16s\tremaining: 9.8s\n",
      "483:\tlearn: 0.3191019\ttotal: 9.2s\tremaining: 9.8s\n",
      "484:\tlearn: 0.3190161\ttotal: 9.23s\tremaining: 9.8s\n",
      "485:\tlearn: 0.3189123\ttotal: 9.27s\tremaining: 9.8s\n",
      "486:\tlearn: 0.3187874\ttotal: 9.3s\tremaining: 9.8s\n",
      "487:\tlearn: 0.3186844\ttotal: 9.33s\tremaining: 9.79s\n",
      "488:\tlearn: 0.3185714\ttotal: 9.36s\tremaining: 9.78s\n",
      "489:\tlearn: 0.3184790\ttotal: 9.4s\tremaining: 9.78s\n",
      "490:\tlearn: 0.3183394\ttotal: 9.44s\tremaining: 9.79s\n",
      "491:\tlearn: 0.3182127\ttotal: 9.48s\tremaining: 9.79s\n",
      "492:\tlearn: 0.3180659\ttotal: 9.52s\tremaining: 9.79s\n",
      "493:\tlearn: 0.3179468\ttotal: 9.54s\tremaining: 9.78s\n",
      "494:\tlearn: 0.3178249\ttotal: 9.56s\tremaining: 9.76s\n",
      "495:\tlearn: 0.3177278\ttotal: 9.58s\tremaining: 9.73s\n",
      "496:\tlearn: 0.3175866\ttotal: 9.6s\tremaining: 9.71s\n",
      "497:\tlearn: 0.3174701\ttotal: 9.62s\tremaining: 9.69s\n",
      "498:\tlearn: 0.3173533\ttotal: 9.63s\tremaining: 9.67s\n",
      "499:\tlearn: 0.3171839\ttotal: 9.66s\tremaining: 9.66s\n",
      "500:\tlearn: 0.3170752\ttotal: 9.68s\tremaining: 9.64s\n",
      "501:\tlearn: 0.3169532\ttotal: 9.7s\tremaining: 9.62s\n",
      "502:\tlearn: 0.3168027\ttotal: 9.71s\tremaining: 9.6s\n",
      "503:\tlearn: 0.3167134\ttotal: 9.73s\tremaining: 9.58s\n",
      "504:\tlearn: 0.3165747\ttotal: 9.77s\tremaining: 9.57s\n",
      "505:\tlearn: 0.3164357\ttotal: 9.8s\tremaining: 9.56s\n",
      "506:\tlearn: 0.3163351\ttotal: 9.83s\tremaining: 9.56s\n",
      "507:\tlearn: 0.3162013\ttotal: 9.87s\tremaining: 9.56s\n",
      "508:\tlearn: 0.3161244\ttotal: 9.9s\tremaining: 9.55s\n",
      "509:\tlearn: 0.3160455\ttotal: 9.93s\tremaining: 9.54s\n",
      "510:\tlearn: 0.3158867\ttotal: 9.96s\tremaining: 9.53s\n",
      "511:\tlearn: 0.3157568\ttotal: 9.99s\tremaining: 9.52s\n",
      "512:\tlearn: 0.3156538\ttotal: 10s\tremaining: 9.52s\n",
      "513:\tlearn: 0.3155543\ttotal: 10.1s\tremaining: 9.51s\n",
      "514:\tlearn: 0.3154566\ttotal: 10.1s\tremaining: 9.5s\n",
      "515:\tlearn: 0.3153821\ttotal: 10.1s\tremaining: 9.49s\n",
      "516:\tlearn: 0.3152457\ttotal: 10.2s\tremaining: 9.48s\n",
      "517:\tlearn: 0.3151033\ttotal: 10.2s\tremaining: 9.48s\n",
      "518:\tlearn: 0.3150228\ttotal: 10.2s\tremaining: 9.48s\n",
      "519:\tlearn: 0.3149028\ttotal: 10.3s\tremaining: 9.47s\n",
      "520:\tlearn: 0.3148008\ttotal: 10.3s\tremaining: 9.47s\n",
      "521:\tlearn: 0.3146872\ttotal: 10.3s\tremaining: 9.45s\n",
      "522:\tlearn: 0.3145770\ttotal: 10.3s\tremaining: 9.43s\n",
      "523:\tlearn: 0.3144993\ttotal: 10.4s\tremaining: 9.4s\n",
      "524:\tlearn: 0.3143401\ttotal: 10.4s\tremaining: 9.38s\n",
      "525:\tlearn: 0.3142159\ttotal: 10.4s\tremaining: 9.38s\n",
      "526:\tlearn: 0.3141188\ttotal: 10.4s\tremaining: 9.36s\n",
      "527:\tlearn: 0.3140043\ttotal: 10.4s\tremaining: 9.34s\n",
      "528:\tlearn: 0.3139017\ttotal: 10.5s\tremaining: 9.33s\n",
      "529:\tlearn: 0.3137504\ttotal: 10.5s\tremaining: 9.32s\n",
      "530:\tlearn: 0.3136356\ttotal: 10.5s\tremaining: 9.31s\n",
      "531:\tlearn: 0.3135201\ttotal: 10.6s\tremaining: 9.3s\n",
      "532:\tlearn: 0.3134215\ttotal: 10.6s\tremaining: 9.29s\n",
      "533:\tlearn: 0.3133172\ttotal: 10.6s\tremaining: 9.28s\n",
      "534:\tlearn: 0.3132048\ttotal: 10.7s\tremaining: 9.27s\n",
      "535:\tlearn: 0.3130778\ttotal: 10.7s\tremaining: 9.26s\n",
      "536:\tlearn: 0.3129344\ttotal: 10.7s\tremaining: 9.25s\n",
      "537:\tlearn: 0.3128380\ttotal: 10.8s\tremaining: 9.24s\n",
      "538:\tlearn: 0.3127289\ttotal: 10.8s\tremaining: 9.23s\n",
      "539:\tlearn: 0.3126001\ttotal: 10.8s\tremaining: 9.21s\n",
      "540:\tlearn: 0.3124908\ttotal: 10.9s\tremaining: 9.21s\n",
      "541:\tlearn: 0.3123989\ttotal: 10.9s\tremaining: 9.2s\n",
      "542:\tlearn: 0.3122354\ttotal: 10.9s\tremaining: 9.18s\n",
      "543:\tlearn: 0.3121394\ttotal: 11s\tremaining: 9.18s\n",
      "544:\tlearn: 0.3120394\ttotal: 11s\tremaining: 9.17s\n",
      "545:\tlearn: 0.3119258\ttotal: 11s\tremaining: 9.16s\n",
      "546:\tlearn: 0.3118295\ttotal: 11s\tremaining: 9.14s\n",
      "547:\tlearn: 0.3117458\ttotal: 11.1s\tremaining: 9.12s\n",
      "548:\tlearn: 0.3115797\ttotal: 11.1s\tremaining: 9.1s\n",
      "549:\tlearn: 0.3114790\ttotal: 11.1s\tremaining: 9.07s\n",
      "550:\tlearn: 0.3113824\ttotal: 11.1s\tremaining: 9.05s\n",
      "551:\tlearn: 0.3112283\ttotal: 11.1s\tremaining: 9.05s\n",
      "552:\tlearn: 0.3111077\ttotal: 11.2s\tremaining: 9.04s\n",
      "553:\tlearn: 0.3109868\ttotal: 11.2s\tremaining: 9.02s\n",
      "554:\tlearn: 0.3107192\ttotal: 11.2s\tremaining: 9s\n",
      "555:\tlearn: 0.3106257\ttotal: 11.2s\tremaining: 8.98s\n",
      "556:\tlearn: 0.3105302\ttotal: 11.3s\tremaining: 8.96s\n",
      "557:\tlearn: 0.3104327\ttotal: 11.3s\tremaining: 8.94s\n",
      "558:\tlearn: 0.3103180\ttotal: 11.3s\tremaining: 8.92s\n",
      "559:\tlearn: 0.3102313\ttotal: 11.3s\tremaining: 8.89s\n",
      "560:\tlearn: 0.3101184\ttotal: 11.3s\tremaining: 8.87s\n",
      "561:\tlearn: 0.3099364\ttotal: 11.3s\tremaining: 8.84s\n",
      "562:\tlearn: 0.3098151\ttotal: 11.4s\tremaining: 8.81s\n",
      "563:\tlearn: 0.3097383\ttotal: 11.4s\tremaining: 8.79s\n",
      "564:\tlearn: 0.3096167\ttotal: 11.4s\tremaining: 8.77s\n",
      "565:\tlearn: 0.3094685\ttotal: 11.4s\tremaining: 8.74s\n",
      "566:\tlearn: 0.3093469\ttotal: 11.4s\tremaining: 8.72s\n",
      "567:\tlearn: 0.3092633\ttotal: 11.4s\tremaining: 8.69s\n",
      "568:\tlearn: 0.3091373\ttotal: 11.4s\tremaining: 8.66s\n",
      "569:\tlearn: 0.3090282\ttotal: 11.5s\tremaining: 8.64s\n",
      "570:\tlearn: 0.3088794\ttotal: 11.5s\tremaining: 8.61s\n",
      "571:\tlearn: 0.3087379\ttotal: 11.5s\tremaining: 8.59s\n",
      "572:\tlearn: 0.3084630\ttotal: 11.5s\tremaining: 8.56s\n",
      "573:\tlearn: 0.3083786\ttotal: 11.5s\tremaining: 8.54s\n",
      "574:\tlearn: 0.3082256\ttotal: 11.5s\tremaining: 8.52s\n",
      "575:\tlearn: 0.3081009\ttotal: 11.5s\tremaining: 8.49s\n",
      "576:\tlearn: 0.3079905\ttotal: 11.5s\tremaining: 8.46s\n",
      "577:\tlearn: 0.3079114\ttotal: 11.6s\tremaining: 8.44s\n",
      "578:\tlearn: 0.3078146\ttotal: 11.6s\tremaining: 8.41s\n",
      "579:\tlearn: 0.3077179\ttotal: 11.6s\tremaining: 8.39s\n",
      "580:\tlearn: 0.3076211\ttotal: 11.6s\tremaining: 8.37s\n",
      "581:\tlearn: 0.3075686\ttotal: 11.6s\tremaining: 8.35s\n",
      "582:\tlearn: 0.3074592\ttotal: 11.7s\tremaining: 8.33s\n",
      "583:\tlearn: 0.3073522\ttotal: 11.7s\tremaining: 8.31s\n",
      "584:\tlearn: 0.3071906\ttotal: 11.7s\tremaining: 8.28s\n",
      "585:\tlearn: 0.3070387\ttotal: 11.7s\tremaining: 8.26s\n",
      "586:\tlearn: 0.3069122\ttotal: 11.7s\tremaining: 8.24s\n",
      "587:\tlearn: 0.3067803\ttotal: 11.7s\tremaining: 8.21s\n",
      "588:\tlearn: 0.3066583\ttotal: 11.7s\tremaining: 8.19s\n",
      "589:\tlearn: 0.3065393\ttotal: 11.7s\tremaining: 8.16s\n",
      "590:\tlearn: 0.3064114\ttotal: 11.8s\tremaining: 8.14s\n",
      "591:\tlearn: 0.3063552\ttotal: 11.8s\tremaining: 8.11s\n",
      "592:\tlearn: 0.3062095\ttotal: 11.8s\tremaining: 8.09s\n",
      "593:\tlearn: 0.3060937\ttotal: 11.8s\tremaining: 8.07s\n",
      "594:\tlearn: 0.3059472\ttotal: 11.8s\tremaining: 8.04s\n",
      "595:\tlearn: 0.3058726\ttotal: 11.8s\tremaining: 8.02s\n",
      "596:\tlearn: 0.3057736\ttotal: 11.8s\tremaining: 8s\n",
      "597:\tlearn: 0.3056773\ttotal: 11.9s\tremaining: 7.97s\n",
      "598:\tlearn: 0.3055497\ttotal: 11.9s\tremaining: 7.95s\n",
      "599:\tlearn: 0.3054774\ttotal: 11.9s\tremaining: 7.92s\n",
      "600:\tlearn: 0.3053533\ttotal: 11.9s\tremaining: 7.9s\n",
      "601:\tlearn: 0.3052464\ttotal: 11.9s\tremaining: 7.87s\n",
      "602:\tlearn: 0.3051543\ttotal: 11.9s\tremaining: 7.85s\n",
      "603:\tlearn: 0.3050562\ttotal: 11.9s\tremaining: 7.83s\n",
      "604:\tlearn: 0.3049295\ttotal: 11.9s\tremaining: 7.8s\n",
      "605:\tlearn: 0.3048062\ttotal: 12s\tremaining: 7.78s\n",
      "606:\tlearn: 0.3046884\ttotal: 12s\tremaining: 7.75s\n",
      "607:\tlearn: 0.3045878\ttotal: 12s\tremaining: 7.73s\n",
      "608:\tlearn: 0.3044615\ttotal: 12s\tremaining: 7.71s\n",
      "609:\tlearn: 0.3043965\ttotal: 12s\tremaining: 7.69s\n",
      "610:\tlearn: 0.3043308\ttotal: 12s\tremaining: 7.66s\n",
      "611:\tlearn: 0.3042043\ttotal: 12s\tremaining: 7.64s\n",
      "612:\tlearn: 0.3040633\ttotal: 12.1s\tremaining: 7.62s\n",
      "613:\tlearn: 0.3039387\ttotal: 12.1s\tremaining: 7.59s\n",
      "614:\tlearn: 0.3037801\ttotal: 12.1s\tremaining: 7.57s\n",
      "615:\tlearn: 0.3037069\ttotal: 12.1s\tremaining: 7.54s\n",
      "616:\tlearn: 0.3035919\ttotal: 12.1s\tremaining: 7.52s\n",
      "617:\tlearn: 0.3034725\ttotal: 12.1s\tremaining: 7.5s\n",
      "618:\tlearn: 0.3033996\ttotal: 12.1s\tremaining: 7.47s\n",
      "619:\tlearn: 0.3033246\ttotal: 12.2s\tremaining: 7.45s\n",
      "620:\tlearn: 0.3032196\ttotal: 12.2s\tremaining: 7.42s\n",
      "621:\tlearn: 0.3030648\ttotal: 12.2s\tremaining: 7.4s\n",
      "622:\tlearn: 0.3029663\ttotal: 12.2s\tremaining: 7.38s\n",
      "623:\tlearn: 0.3028772\ttotal: 12.2s\tremaining: 7.36s\n",
      "624:\tlearn: 0.3027846\ttotal: 12.2s\tremaining: 7.33s\n",
      "625:\tlearn: 0.3026798\ttotal: 12.2s\tremaining: 7.31s\n",
      "626:\tlearn: 0.3025909\ttotal: 12.2s\tremaining: 7.29s\n",
      "627:\tlearn: 0.3023547\ttotal: 12.3s\tremaining: 7.26s\n",
      "628:\tlearn: 0.3023147\ttotal: 12.3s\tremaining: 7.24s\n",
      "629:\tlearn: 0.3022541\ttotal: 12.3s\tremaining: 7.23s\n",
      "630:\tlearn: 0.3021401\ttotal: 12.3s\tremaining: 7.21s\n",
      "631:\tlearn: 0.3020490\ttotal: 12.3s\tremaining: 7.18s\n",
      "632:\tlearn: 0.3019615\ttotal: 12.3s\tremaining: 7.16s\n",
      "633:\tlearn: 0.3018405\ttotal: 12.4s\tremaining: 7.13s\n",
      "634:\tlearn: 0.3017177\ttotal: 12.4s\tremaining: 7.11s\n",
      "635:\tlearn: 0.3016522\ttotal: 12.4s\tremaining: 7.09s\n",
      "636:\tlearn: 0.3015247\ttotal: 12.4s\tremaining: 7.07s\n",
      "637:\tlearn: 0.3014284\ttotal: 12.4s\tremaining: 7.04s\n",
      "638:\tlearn: 0.3013296\ttotal: 12.4s\tremaining: 7.02s\n",
      "639:\tlearn: 0.3012448\ttotal: 12.4s\tremaining: 7s\n",
      "640:\tlearn: 0.3011430\ttotal: 12.5s\tremaining: 6.97s\n",
      "641:\tlearn: 0.3010127\ttotal: 12.5s\tremaining: 6.95s\n",
      "642:\tlearn: 0.3009161\ttotal: 12.5s\tremaining: 6.93s\n",
      "643:\tlearn: 0.3008196\ttotal: 12.5s\tremaining: 6.91s\n",
      "644:\tlearn: 0.3006879\ttotal: 12.5s\tremaining: 6.88s\n",
      "645:\tlearn: 0.3004617\ttotal: 12.5s\tremaining: 6.86s\n",
      "646:\tlearn: 0.3003530\ttotal: 12.5s\tremaining: 6.84s\n",
      "647:\tlearn: 0.3002483\ttotal: 12.5s\tremaining: 6.82s\n",
      "648:\tlearn: 0.3001465\ttotal: 12.6s\tremaining: 6.79s\n",
      "649:\tlearn: 0.3000275\ttotal: 12.6s\tremaining: 6.77s\n",
      "650:\tlearn: 0.2999157\ttotal: 12.6s\tremaining: 6.75s\n",
      "651:\tlearn: 0.2998217\ttotal: 12.6s\tremaining: 6.72s\n",
      "652:\tlearn: 0.2997295\ttotal: 12.6s\tremaining: 6.7s\n",
      "653:\tlearn: 0.2995888\ttotal: 12.6s\tremaining: 6.68s\n",
      "654:\tlearn: 0.2994784\ttotal: 12.6s\tremaining: 6.66s\n",
      "655:\tlearn: 0.2994033\ttotal: 12.7s\tremaining: 6.64s\n",
      "656:\tlearn: 0.2993352\ttotal: 12.7s\tremaining: 6.62s\n",
      "657:\tlearn: 0.2992491\ttotal: 12.7s\tremaining: 6.59s\n",
      "658:\tlearn: 0.2991441\ttotal: 12.7s\tremaining: 6.57s\n",
      "659:\tlearn: 0.2990305\ttotal: 12.7s\tremaining: 6.55s\n",
      "660:\tlearn: 0.2989017\ttotal: 12.7s\tremaining: 6.53s\n",
      "661:\tlearn: 0.2987754\ttotal: 12.7s\tremaining: 6.5s\n",
      "662:\tlearn: 0.2986799\ttotal: 12.8s\tremaining: 6.48s\n",
      "663:\tlearn: 0.2985712\ttotal: 12.8s\tremaining: 6.46s\n",
      "664:\tlearn: 0.2984806\ttotal: 12.8s\tremaining: 6.44s\n",
      "665:\tlearn: 0.2983601\ttotal: 12.8s\tremaining: 6.42s\n",
      "666:\tlearn: 0.2982428\ttotal: 12.8s\tremaining: 6.39s\n",
      "667:\tlearn: 0.2981230\ttotal: 12.8s\tremaining: 6.37s\n",
      "668:\tlearn: 0.2980009\ttotal: 12.8s\tremaining: 6.35s\n",
      "669:\tlearn: 0.2978962\ttotal: 12.8s\tremaining: 6.33s\n",
      "670:\tlearn: 0.2977792\ttotal: 12.9s\tremaining: 6.31s\n",
      "671:\tlearn: 0.2976689\ttotal: 12.9s\tremaining: 6.29s\n",
      "672:\tlearn: 0.2975618\ttotal: 12.9s\tremaining: 6.26s\n",
      "673:\tlearn: 0.2974312\ttotal: 12.9s\tremaining: 6.24s\n",
      "674:\tlearn: 0.2973163\ttotal: 12.9s\tremaining: 6.22s\n",
      "675:\tlearn: 0.2972090\ttotal: 12.9s\tremaining: 6.2s\n",
      "676:\tlearn: 0.2970815\ttotal: 12.9s\tremaining: 6.17s\n",
      "677:\tlearn: 0.2969666\ttotal: 13s\tremaining: 6.15s\n",
      "678:\tlearn: 0.2968587\ttotal: 13s\tremaining: 6.13s\n",
      "679:\tlearn: 0.2967732\ttotal: 13s\tremaining: 6.11s\n",
      "680:\tlearn: 0.2966363\ttotal: 13s\tremaining: 6.09s\n",
      "681:\tlearn: 0.2965140\ttotal: 13s\tremaining: 6.07s\n",
      "682:\tlearn: 0.2964448\ttotal: 13s\tremaining: 6.04s\n",
      "683:\tlearn: 0.2963624\ttotal: 13s\tremaining: 6.02s\n",
      "684:\tlearn: 0.2962959\ttotal: 13.1s\tremaining: 6s\n",
      "685:\tlearn: 0.2961798\ttotal: 13.1s\tremaining: 5.98s\n",
      "686:\tlearn: 0.2960870\ttotal: 13.1s\tremaining: 5.96s\n",
      "687:\tlearn: 0.2958690\ttotal: 13.1s\tremaining: 5.94s\n",
      "688:\tlearn: 0.2958079\ttotal: 13.1s\tremaining: 5.92s\n",
      "689:\tlearn: 0.2957003\ttotal: 13.1s\tremaining: 5.89s\n",
      "690:\tlearn: 0.2956202\ttotal: 13.1s\tremaining: 5.87s\n",
      "691:\tlearn: 0.2955422\ttotal: 13.1s\tremaining: 5.85s\n",
      "692:\tlearn: 0.2954514\ttotal: 13.2s\tremaining: 5.83s\n",
      "693:\tlearn: 0.2953490\ttotal: 13.2s\tremaining: 5.81s\n",
      "694:\tlearn: 0.2952404\ttotal: 13.2s\tremaining: 5.79s\n",
      "695:\tlearn: 0.2951288\ttotal: 13.2s\tremaining: 5.76s\n",
      "696:\tlearn: 0.2950141\ttotal: 13.2s\tremaining: 5.74s\n",
      "697:\tlearn: 0.2949078\ttotal: 13.2s\tremaining: 5.72s\n",
      "698:\tlearn: 0.2948435\ttotal: 13.2s\tremaining: 5.7s\n",
      "699:\tlearn: 0.2947293\ttotal: 13.3s\tremaining: 5.68s\n",
      "700:\tlearn: 0.2946161\ttotal: 13.3s\tremaining: 5.66s\n",
      "701:\tlearn: 0.2945081\ttotal: 13.3s\tremaining: 5.64s\n",
      "702:\tlearn: 0.2944084\ttotal: 13.3s\tremaining: 5.62s\n",
      "703:\tlearn: 0.2943266\ttotal: 13.3s\tremaining: 5.6s\n",
      "704:\tlearn: 0.2942231\ttotal: 13.3s\tremaining: 5.58s\n",
      "705:\tlearn: 0.2940896\ttotal: 13.4s\tremaining: 5.56s\n",
      "706:\tlearn: 0.2939578\ttotal: 13.4s\tremaining: 5.54s\n",
      "707:\tlearn: 0.2938483\ttotal: 13.4s\tremaining: 5.52s\n",
      "708:\tlearn: 0.2937393\ttotal: 13.4s\tremaining: 5.5s\n",
      "709:\tlearn: 0.2936353\ttotal: 13.4s\tremaining: 5.48s\n",
      "710:\tlearn: 0.2935468\ttotal: 13.4s\tremaining: 5.45s\n",
      "711:\tlearn: 0.2934926\ttotal: 13.4s\tremaining: 5.43s\n",
      "712:\tlearn: 0.2932917\ttotal: 13.4s\tremaining: 5.41s\n",
      "713:\tlearn: 0.2931868\ttotal: 13.5s\tremaining: 5.39s\n",
      "714:\tlearn: 0.2930777\ttotal: 13.5s\tremaining: 5.37s\n",
      "715:\tlearn: 0.2929754\ttotal: 13.5s\tremaining: 5.35s\n",
      "716:\tlearn: 0.2927834\ttotal: 13.5s\tremaining: 5.33s\n",
      "717:\tlearn: 0.2926586\ttotal: 13.5s\tremaining: 5.31s\n",
      "718:\tlearn: 0.2925038\ttotal: 13.5s\tremaining: 5.29s\n",
      "719:\tlearn: 0.2924232\ttotal: 13.5s\tremaining: 5.27s\n",
      "720:\tlearn: 0.2923249\ttotal: 13.6s\tremaining: 5.25s\n",
      "721:\tlearn: 0.2922500\ttotal: 13.6s\tremaining: 5.22s\n",
      "722:\tlearn: 0.2921176\ttotal: 13.6s\tremaining: 5.2s\n",
      "723:\tlearn: 0.2920187\ttotal: 13.6s\tremaining: 5.18s\n",
      "724:\tlearn: 0.2919121\ttotal: 13.6s\tremaining: 5.16s\n",
      "725:\tlearn: 0.2918257\ttotal: 13.6s\tremaining: 5.14s\n",
      "726:\tlearn: 0.2917390\ttotal: 13.6s\tremaining: 5.12s\n",
      "727:\tlearn: 0.2916069\ttotal: 13.7s\tremaining: 5.1s\n",
      "728:\tlearn: 0.2915654\ttotal: 13.7s\tremaining: 5.08s\n",
      "729:\tlearn: 0.2914841\ttotal: 13.7s\tremaining: 5.06s\n",
      "730:\tlearn: 0.2913741\ttotal: 13.7s\tremaining: 5.04s\n",
      "731:\tlearn: 0.2912337\ttotal: 13.7s\tremaining: 5.02s\n",
      "732:\tlearn: 0.2911603\ttotal: 13.7s\tremaining: 5s\n",
      "733:\tlearn: 0.2911005\ttotal: 13.7s\tremaining: 4.97s\n",
      "734:\tlearn: 0.2909840\ttotal: 13.7s\tremaining: 4.96s\n",
      "735:\tlearn: 0.2908951\ttotal: 13.8s\tremaining: 4.93s\n",
      "736:\tlearn: 0.2908069\ttotal: 13.8s\tremaining: 4.91s\n",
      "737:\tlearn: 0.2906847\ttotal: 13.8s\tremaining: 4.89s\n",
      "738:\tlearn: 0.2905431\ttotal: 13.8s\tremaining: 4.87s\n",
      "739:\tlearn: 0.2904516\ttotal: 13.8s\tremaining: 4.85s\n",
      "740:\tlearn: 0.2903425\ttotal: 13.8s\tremaining: 4.83s\n",
      "741:\tlearn: 0.2902292\ttotal: 13.8s\tremaining: 4.81s\n",
      "742:\tlearn: 0.2901442\ttotal: 13.9s\tremaining: 4.79s\n",
      "743:\tlearn: 0.2900338\ttotal: 13.9s\tremaining: 4.77s\n",
      "744:\tlearn: 0.2898915\ttotal: 13.9s\tremaining: 4.75s\n",
      "745:\tlearn: 0.2897969\ttotal: 13.9s\tremaining: 4.73s\n",
      "746:\tlearn: 0.2897327\ttotal: 13.9s\tremaining: 4.71s\n",
      "747:\tlearn: 0.2896455\ttotal: 13.9s\tremaining: 4.69s\n",
      "748:\tlearn: 0.2895568\ttotal: 13.9s\tremaining: 4.67s\n",
      "749:\tlearn: 0.2894440\ttotal: 13.9s\tremaining: 4.65s\n",
      "750:\tlearn: 0.2893927\ttotal: 14s\tremaining: 4.63s\n",
      "751:\tlearn: 0.2893062\ttotal: 14s\tremaining: 4.61s\n",
      "752:\tlearn: 0.2892341\ttotal: 14s\tremaining: 4.59s\n",
      "753:\tlearn: 0.2891376\ttotal: 14s\tremaining: 4.57s\n",
      "754:\tlearn: 0.2890382\ttotal: 14s\tremaining: 4.55s\n",
      "755:\tlearn: 0.2889465\ttotal: 14s\tremaining: 4.53s\n",
      "756:\tlearn: 0.2888436\ttotal: 14s\tremaining: 4.51s\n",
      "757:\tlearn: 0.2887429\ttotal: 14.1s\tremaining: 4.49s\n",
      "758:\tlearn: 0.2886184\ttotal: 14.1s\tremaining: 4.47s\n",
      "759:\tlearn: 0.2885365\ttotal: 14.1s\tremaining: 4.45s\n",
      "760:\tlearn: 0.2884397\ttotal: 14.1s\tremaining: 4.43s\n",
      "761:\tlearn: 0.2883448\ttotal: 14.1s\tremaining: 4.41s\n",
      "762:\tlearn: 0.2882456\ttotal: 14.1s\tremaining: 4.39s\n",
      "763:\tlearn: 0.2881959\ttotal: 14.1s\tremaining: 4.37s\n",
      "764:\tlearn: 0.2881151\ttotal: 14.2s\tremaining: 4.35s\n",
      "765:\tlearn: 0.2880083\ttotal: 14.2s\tremaining: 4.33s\n",
      "766:\tlearn: 0.2879025\ttotal: 14.2s\tremaining: 4.31s\n",
      "767:\tlearn: 0.2878207\ttotal: 14.2s\tremaining: 4.29s\n",
      "768:\tlearn: 0.2876972\ttotal: 14.2s\tremaining: 4.27s\n",
      "769:\tlearn: 0.2876082\ttotal: 14.2s\tremaining: 4.25s\n",
      "770:\tlearn: 0.2875013\ttotal: 14.2s\tremaining: 4.23s\n",
      "771:\tlearn: 0.2874374\ttotal: 14.3s\tremaining: 4.21s\n",
      "772:\tlearn: 0.2873088\ttotal: 14.3s\tremaining: 4.19s\n",
      "773:\tlearn: 0.2872108\ttotal: 14.3s\tremaining: 4.17s\n",
      "774:\tlearn: 0.2871282\ttotal: 14.3s\tremaining: 4.15s\n",
      "775:\tlearn: 0.2870633\ttotal: 14.3s\tremaining: 4.13s\n",
      "776:\tlearn: 0.2869761\ttotal: 14.3s\tremaining: 4.12s\n",
      "777:\tlearn: 0.2868657\ttotal: 14.4s\tremaining: 4.09s\n",
      "778:\tlearn: 0.2868035\ttotal: 14.4s\tremaining: 4.07s\n",
      "779:\tlearn: 0.2865796\ttotal: 14.4s\tremaining: 4.05s\n",
      "780:\tlearn: 0.2864908\ttotal: 14.4s\tremaining: 4.04s\n",
      "781:\tlearn: 0.2863853\ttotal: 14.4s\tremaining: 4.01s\n",
      "782:\tlearn: 0.2862825\ttotal: 14.4s\tremaining: 4s\n",
      "783:\tlearn: 0.2862135\ttotal: 14.4s\tremaining: 3.98s\n",
      "784:\tlearn: 0.2860913\ttotal: 14.4s\tremaining: 3.96s\n",
      "785:\tlearn: 0.2859829\ttotal: 14.5s\tremaining: 3.94s\n",
      "786:\tlearn: 0.2859175\ttotal: 14.5s\tremaining: 3.92s\n",
      "787:\tlearn: 0.2858104\ttotal: 14.5s\tremaining: 3.9s\n",
      "788:\tlearn: 0.2856958\ttotal: 14.5s\tremaining: 3.88s\n",
      "789:\tlearn: 0.2855632\ttotal: 14.5s\tremaining: 3.86s\n",
      "790:\tlearn: 0.2854480\ttotal: 14.5s\tremaining: 3.84s\n",
      "791:\tlearn: 0.2853544\ttotal: 14.5s\tremaining: 3.82s\n",
      "792:\tlearn: 0.2852652\ttotal: 14.6s\tremaining: 3.8s\n",
      "793:\tlearn: 0.2851875\ttotal: 14.6s\tremaining: 3.78s\n",
      "794:\tlearn: 0.2850625\ttotal: 14.6s\tremaining: 3.76s\n",
      "795:\tlearn: 0.2849616\ttotal: 14.6s\tremaining: 3.74s\n",
      "796:\tlearn: 0.2848741\ttotal: 14.6s\tremaining: 3.72s\n",
      "797:\tlearn: 0.2848013\ttotal: 14.6s\tremaining: 3.7s\n",
      "798:\tlearn: 0.2846849\ttotal: 14.6s\tremaining: 3.68s\n",
      "799:\tlearn: 0.2845573\ttotal: 14.6s\tremaining: 3.66s\n",
      "800:\tlearn: 0.2844757\ttotal: 14.7s\tremaining: 3.64s\n",
      "801:\tlearn: 0.2843594\ttotal: 14.7s\tremaining: 3.62s\n",
      "802:\tlearn: 0.2842836\ttotal: 14.7s\tremaining: 3.6s\n",
      "803:\tlearn: 0.2841788\ttotal: 14.7s\tremaining: 3.58s\n",
      "804:\tlearn: 0.2841006\ttotal: 14.7s\tremaining: 3.56s\n",
      "805:\tlearn: 0.2840151\ttotal: 14.7s\tremaining: 3.54s\n",
      "806:\tlearn: 0.2839205\ttotal: 14.7s\tremaining: 3.53s\n",
      "807:\tlearn: 0.2838227\ttotal: 14.8s\tremaining: 3.51s\n",
      "808:\tlearn: 0.2837207\ttotal: 14.8s\tremaining: 3.49s\n",
      "809:\tlearn: 0.2836221\ttotal: 14.8s\tremaining: 3.47s\n",
      "810:\tlearn: 0.2835121\ttotal: 14.8s\tremaining: 3.45s\n",
      "811:\tlearn: 0.2834171\ttotal: 14.8s\tremaining: 3.43s\n",
      "812:\tlearn: 0.2833046\ttotal: 14.8s\tremaining: 3.41s\n",
      "813:\tlearn: 0.2831668\ttotal: 14.8s\tremaining: 3.39s\n",
      "814:\tlearn: 0.2830294\ttotal: 14.8s\tremaining: 3.37s\n",
      "815:\tlearn: 0.2829241\ttotal: 14.9s\tremaining: 3.35s\n",
      "816:\tlearn: 0.2828142\ttotal: 14.9s\tremaining: 3.33s\n",
      "817:\tlearn: 0.2827301\ttotal: 14.9s\tremaining: 3.31s\n",
      "818:\tlearn: 0.2826513\ttotal: 14.9s\tremaining: 3.29s\n",
      "819:\tlearn: 0.2825912\ttotal: 14.9s\tremaining: 3.27s\n",
      "820:\tlearn: 0.2825261\ttotal: 14.9s\tremaining: 3.26s\n",
      "821:\tlearn: 0.2824008\ttotal: 14.9s\tremaining: 3.24s\n",
      "822:\tlearn: 0.2823313\ttotal: 15s\tremaining: 3.22s\n",
      "823:\tlearn: 0.2822824\ttotal: 15s\tremaining: 3.2s\n",
      "824:\tlearn: 0.2821469\ttotal: 15s\tremaining: 3.18s\n",
      "825:\tlearn: 0.2820159\ttotal: 15s\tremaining: 3.16s\n",
      "826:\tlearn: 0.2818990\ttotal: 15s\tremaining: 3.14s\n",
      "827:\tlearn: 0.2817790\ttotal: 15s\tremaining: 3.12s\n",
      "828:\tlearn: 0.2816740\ttotal: 15s\tremaining: 3.1s\n",
      "829:\tlearn: 0.2815923\ttotal: 15.1s\tremaining: 3.08s\n",
      "830:\tlearn: 0.2814640\ttotal: 15.1s\tremaining: 3.06s\n",
      "831:\tlearn: 0.2813745\ttotal: 15.1s\tremaining: 3.05s\n",
      "832:\tlearn: 0.2812953\ttotal: 15.1s\tremaining: 3.03s\n",
      "833:\tlearn: 0.2812136\ttotal: 15.1s\tremaining: 3.01s\n",
      "834:\tlearn: 0.2811086\ttotal: 15.1s\tremaining: 2.99s\n",
      "835:\tlearn: 0.2809969\ttotal: 15.1s\tremaining: 2.97s\n",
      "836:\tlearn: 0.2809240\ttotal: 15.2s\tremaining: 2.95s\n",
      "837:\tlearn: 0.2808035\ttotal: 15.2s\tremaining: 2.93s\n",
      "838:\tlearn: 0.2807303\ttotal: 15.2s\tremaining: 2.91s\n",
      "839:\tlearn: 0.2806039\ttotal: 15.2s\tremaining: 2.89s\n",
      "840:\tlearn: 0.2804864\ttotal: 15.2s\tremaining: 2.88s\n",
      "841:\tlearn: 0.2804409\ttotal: 15.2s\tremaining: 2.86s\n",
      "842:\tlearn: 0.2803598\ttotal: 15.2s\tremaining: 2.84s\n",
      "843:\tlearn: 0.2802787\ttotal: 15.3s\tremaining: 2.82s\n",
      "844:\tlearn: 0.2801418\ttotal: 15.3s\tremaining: 2.8s\n",
      "845:\tlearn: 0.2800580\ttotal: 15.3s\tremaining: 2.78s\n",
      "846:\tlearn: 0.2799507\ttotal: 15.3s\tremaining: 2.76s\n",
      "847:\tlearn: 0.2798652\ttotal: 15.3s\tremaining: 2.75s\n",
      "848:\tlearn: 0.2797707\ttotal: 15.3s\tremaining: 2.73s\n",
      "849:\tlearn: 0.2796697\ttotal: 15.4s\tremaining: 2.71s\n",
      "850:\tlearn: 0.2796170\ttotal: 15.4s\tremaining: 2.69s\n",
      "851:\tlearn: 0.2795483\ttotal: 15.4s\tremaining: 2.67s\n",
      "852:\tlearn: 0.2794656\ttotal: 15.4s\tremaining: 2.65s\n",
      "853:\tlearn: 0.2793880\ttotal: 15.4s\tremaining: 2.63s\n",
      "854:\tlearn: 0.2793316\ttotal: 15.4s\tremaining: 2.62s\n",
      "855:\tlearn: 0.2792465\ttotal: 15.4s\tremaining: 2.6s\n",
      "856:\tlearn: 0.2791418\ttotal: 15.4s\tremaining: 2.58s\n",
      "857:\tlearn: 0.2790573\ttotal: 15.5s\tremaining: 2.56s\n",
      "858:\tlearn: 0.2789856\ttotal: 15.5s\tremaining: 2.54s\n",
      "859:\tlearn: 0.2788990\ttotal: 15.5s\tremaining: 2.52s\n",
      "860:\tlearn: 0.2787883\ttotal: 15.5s\tremaining: 2.5s\n",
      "861:\tlearn: 0.2786998\ttotal: 15.5s\tremaining: 2.48s\n",
      "862:\tlearn: 0.2786171\ttotal: 15.5s\tremaining: 2.46s\n",
      "863:\tlearn: 0.2785286\ttotal: 15.5s\tremaining: 2.45s\n",
      "864:\tlearn: 0.2784404\ttotal: 15.6s\tremaining: 2.43s\n",
      "865:\tlearn: 0.2783185\ttotal: 15.6s\tremaining: 2.41s\n",
      "866:\tlearn: 0.2782450\ttotal: 15.6s\tremaining: 2.39s\n",
      "867:\tlearn: 0.2781510\ttotal: 15.6s\tremaining: 2.37s\n",
      "868:\tlearn: 0.2780598\ttotal: 15.6s\tremaining: 2.35s\n",
      "869:\tlearn: 0.2779739\ttotal: 15.6s\tremaining: 2.33s\n",
      "870:\tlearn: 0.2778799\ttotal: 15.6s\tremaining: 2.31s\n",
      "871:\tlearn: 0.2777736\ttotal: 15.7s\tremaining: 2.3s\n",
      "872:\tlearn: 0.2776672\ttotal: 15.7s\tremaining: 2.28s\n",
      "873:\tlearn: 0.2775439\ttotal: 15.7s\tremaining: 2.26s\n",
      "874:\tlearn: 0.2774402\ttotal: 15.7s\tremaining: 2.24s\n",
      "875:\tlearn: 0.2773220\ttotal: 15.7s\tremaining: 2.22s\n",
      "876:\tlearn: 0.2772690\ttotal: 15.7s\tremaining: 2.21s\n",
      "877:\tlearn: 0.2771369\ttotal: 15.7s\tremaining: 2.19s\n",
      "878:\tlearn: 0.2770597\ttotal: 15.7s\tremaining: 2.17s\n",
      "879:\tlearn: 0.2769735\ttotal: 15.8s\tremaining: 2.15s\n",
      "880:\tlearn: 0.2768468\ttotal: 15.8s\tremaining: 2.13s\n",
      "881:\tlearn: 0.2767283\ttotal: 15.8s\tremaining: 2.11s\n",
      "882:\tlearn: 0.2766492\ttotal: 15.8s\tremaining: 2.09s\n",
      "883:\tlearn: 0.2765517\ttotal: 15.8s\tremaining: 2.08s\n",
      "884:\tlearn: 0.2764643\ttotal: 15.8s\tremaining: 2.06s\n",
      "885:\tlearn: 0.2763333\ttotal: 15.8s\tremaining: 2.04s\n",
      "886:\tlearn: 0.2761994\ttotal: 15.9s\tremaining: 2.02s\n",
      "887:\tlearn: 0.2761068\ttotal: 15.9s\tremaining: 2s\n",
      "888:\tlearn: 0.2759756\ttotal: 15.9s\tremaining: 1.98s\n",
      "889:\tlearn: 0.2758354\ttotal: 15.9s\tremaining: 1.96s\n",
      "890:\tlearn: 0.2757469\ttotal: 15.9s\tremaining: 1.95s\n",
      "891:\tlearn: 0.2756341\ttotal: 15.9s\tremaining: 1.93s\n",
      "892:\tlearn: 0.2755400\ttotal: 15.9s\tremaining: 1.91s\n",
      "893:\tlearn: 0.2754298\ttotal: 16s\tremaining: 1.89s\n",
      "894:\tlearn: 0.2752953\ttotal: 16s\tremaining: 1.87s\n",
      "895:\tlearn: 0.2752592\ttotal: 16s\tremaining: 1.85s\n",
      "896:\tlearn: 0.2751522\ttotal: 16s\tremaining: 1.84s\n",
      "897:\tlearn: 0.2750625\ttotal: 16s\tremaining: 1.82s\n",
      "898:\tlearn: 0.2749818\ttotal: 16s\tremaining: 1.8s\n",
      "899:\tlearn: 0.2749038\ttotal: 16s\tremaining: 1.78s\n",
      "900:\tlearn: 0.2747933\ttotal: 16s\tremaining: 1.76s\n",
      "901:\tlearn: 0.2746962\ttotal: 16.1s\tremaining: 1.74s\n",
      "902:\tlearn: 0.2745866\ttotal: 16.1s\tremaining: 1.73s\n",
      "903:\tlearn: 0.2744620\ttotal: 16.1s\tremaining: 1.71s\n",
      "904:\tlearn: 0.2743545\ttotal: 16.1s\tremaining: 1.69s\n",
      "905:\tlearn: 0.2742709\ttotal: 16.1s\tremaining: 1.67s\n",
      "906:\tlearn: 0.2741395\ttotal: 16.1s\tremaining: 1.65s\n",
      "907:\tlearn: 0.2740629\ttotal: 16.1s\tremaining: 1.64s\n",
      "908:\tlearn: 0.2739809\ttotal: 16.2s\tremaining: 1.62s\n",
      "909:\tlearn: 0.2738628\ttotal: 16.2s\tremaining: 1.6s\n",
      "910:\tlearn: 0.2737728\ttotal: 16.2s\tremaining: 1.58s\n",
      "911:\tlearn: 0.2737070\ttotal: 16.2s\tremaining: 1.56s\n",
      "912:\tlearn: 0.2735839\ttotal: 16.2s\tremaining: 1.54s\n",
      "913:\tlearn: 0.2735074\ttotal: 16.2s\tremaining: 1.53s\n",
      "914:\tlearn: 0.2733962\ttotal: 16.2s\tremaining: 1.51s\n",
      "915:\tlearn: 0.2732740\ttotal: 16.2s\tremaining: 1.49s\n",
      "916:\tlearn: 0.2731943\ttotal: 16.3s\tremaining: 1.47s\n",
      "917:\tlearn: 0.2730661\ttotal: 16.3s\tremaining: 1.45s\n",
      "918:\tlearn: 0.2729773\ttotal: 16.3s\tremaining: 1.44s\n",
      "919:\tlearn: 0.2728757\ttotal: 16.3s\tremaining: 1.42s\n",
      "920:\tlearn: 0.2727763\ttotal: 16.3s\tremaining: 1.4s\n",
      "921:\tlearn: 0.2727015\ttotal: 16.4s\tremaining: 1.38s\n",
      "922:\tlearn: 0.2726138\ttotal: 16.4s\tremaining: 1.36s\n",
      "923:\tlearn: 0.2725491\ttotal: 16.4s\tremaining: 1.35s\n",
      "924:\tlearn: 0.2724589\ttotal: 16.4s\tremaining: 1.33s\n",
      "925:\tlearn: 0.2723429\ttotal: 16.4s\tremaining: 1.31s\n",
      "926:\tlearn: 0.2722686\ttotal: 16.4s\tremaining: 1.29s\n",
      "927:\tlearn: 0.2721532\ttotal: 16.4s\tremaining: 1.27s\n",
      "928:\tlearn: 0.2720105\ttotal: 16.4s\tremaining: 1.26s\n",
      "929:\tlearn: 0.2719074\ttotal: 16.5s\tremaining: 1.24s\n",
      "930:\tlearn: 0.2718200\ttotal: 16.5s\tremaining: 1.22s\n",
      "931:\tlearn: 0.2717302\ttotal: 16.5s\tremaining: 1.2s\n",
      "932:\tlearn: 0.2716323\ttotal: 16.5s\tremaining: 1.18s\n",
      "933:\tlearn: 0.2715270\ttotal: 16.5s\tremaining: 1.17s\n",
      "934:\tlearn: 0.2714504\ttotal: 16.5s\tremaining: 1.15s\n",
      "935:\tlearn: 0.2713975\ttotal: 16.5s\tremaining: 1.13s\n",
      "936:\tlearn: 0.2711944\ttotal: 16.6s\tremaining: 1.11s\n",
      "937:\tlearn: 0.2710951\ttotal: 16.6s\tremaining: 1.09s\n",
      "938:\tlearn: 0.2710221\ttotal: 16.6s\tremaining: 1.08s\n",
      "939:\tlearn: 0.2709499\ttotal: 16.6s\tremaining: 1.06s\n",
      "940:\tlearn: 0.2708880\ttotal: 16.6s\tremaining: 1.04s\n",
      "941:\tlearn: 0.2708132\ttotal: 16.6s\tremaining: 1.02s\n",
      "942:\tlearn: 0.2707301\ttotal: 16.6s\tremaining: 1s\n",
      "943:\tlearn: 0.2706557\ttotal: 16.6s\tremaining: 987ms\n",
      "944:\tlearn: 0.2705774\ttotal: 16.7s\tremaining: 970ms\n",
      "945:\tlearn: 0.2703930\ttotal: 16.7s\tremaining: 952ms\n",
      "946:\tlearn: 0.2703017\ttotal: 16.7s\tremaining: 934ms\n",
      "947:\tlearn: 0.2702389\ttotal: 16.7s\tremaining: 916ms\n",
      "948:\tlearn: 0.2701520\ttotal: 16.7s\tremaining: 898ms\n",
      "949:\tlearn: 0.2700658\ttotal: 16.7s\tremaining: 880ms\n",
      "950:\tlearn: 0.2700114\ttotal: 16.7s\tremaining: 862ms\n",
      "951:\tlearn: 0.2699024\ttotal: 16.8s\tremaining: 845ms\n",
      "952:\tlearn: 0.2697592\ttotal: 16.8s\tremaining: 827ms\n",
      "953:\tlearn: 0.2696951\ttotal: 16.8s\tremaining: 809ms\n",
      "954:\tlearn: 0.2696076\ttotal: 16.8s\tremaining: 791ms\n",
      "955:\tlearn: 0.2695077\ttotal: 16.8s\tremaining: 774ms\n",
      "956:\tlearn: 0.2694070\ttotal: 16.8s\tremaining: 756ms\n",
      "957:\tlearn: 0.2692796\ttotal: 16.8s\tremaining: 738ms\n",
      "958:\tlearn: 0.2691547\ttotal: 16.9s\tremaining: 720ms\n",
      "959:\tlearn: 0.2690606\ttotal: 16.9s\tremaining: 703ms\n",
      "960:\tlearn: 0.2689727\ttotal: 16.9s\tremaining: 685ms\n",
      "961:\tlearn: 0.2689175\ttotal: 16.9s\tremaining: 667ms\n",
      "962:\tlearn: 0.2688085\ttotal: 16.9s\tremaining: 650ms\n",
      "963:\tlearn: 0.2687799\ttotal: 16.9s\tremaining: 632ms\n",
      "964:\tlearn: 0.2686769\ttotal: 16.9s\tremaining: 614ms\n",
      "965:\tlearn: 0.2685805\ttotal: 16.9s\tremaining: 597ms\n",
      "966:\tlearn: 0.2684570\ttotal: 17s\tremaining: 579ms\n",
      "967:\tlearn: 0.2683762\ttotal: 17s\tremaining: 561ms\n",
      "968:\tlearn: 0.2682597\ttotal: 17s\tremaining: 544ms\n",
      "969:\tlearn: 0.2681919\ttotal: 17s\tremaining: 526ms\n",
      "970:\tlearn: 0.2681207\ttotal: 17s\tremaining: 508ms\n",
      "971:\tlearn: 0.2680468\ttotal: 17s\tremaining: 491ms\n",
      "972:\tlearn: 0.2679145\ttotal: 17s\tremaining: 473ms\n",
      "973:\tlearn: 0.2678415\ttotal: 17.1s\tremaining: 455ms\n",
      "974:\tlearn: 0.2677735\ttotal: 17.1s\tremaining: 438ms\n",
      "975:\tlearn: 0.2676843\ttotal: 17.1s\tremaining: 420ms\n",
      "976:\tlearn: 0.2675610\ttotal: 17.1s\tremaining: 402ms\n",
      "977:\tlearn: 0.2674620\ttotal: 17.1s\tremaining: 385ms\n",
      "978:\tlearn: 0.2673604\ttotal: 17.1s\tremaining: 367ms\n",
      "979:\tlearn: 0.2672589\ttotal: 17.1s\tremaining: 350ms\n",
      "980:\tlearn: 0.2672057\ttotal: 17.1s\tremaining: 332ms\n",
      "981:\tlearn: 0.2671096\ttotal: 17.2s\tremaining: 315ms\n",
      "982:\tlearn: 0.2670030\ttotal: 17.2s\tremaining: 297ms\n",
      "983:\tlearn: 0.2669133\ttotal: 17.2s\tremaining: 280ms\n",
      "984:\tlearn: 0.2668279\ttotal: 17.2s\tremaining: 262ms\n",
      "985:\tlearn: 0.2667656\ttotal: 17.2s\tremaining: 245ms\n",
      "986:\tlearn: 0.2667140\ttotal: 17.2s\tremaining: 227ms\n",
      "987:\tlearn: 0.2666088\ttotal: 17.2s\tremaining: 209ms\n",
      "988:\tlearn: 0.2664044\ttotal: 17.3s\tremaining: 192ms\n",
      "989:\tlearn: 0.2662857\ttotal: 17.3s\tremaining: 175ms\n",
      "990:\tlearn: 0.2661833\ttotal: 17.3s\tremaining: 157ms\n",
      "991:\tlearn: 0.2661164\ttotal: 17.3s\tremaining: 140ms\n",
      "992:\tlearn: 0.2660648\ttotal: 17.3s\tremaining: 122ms\n",
      "993:\tlearn: 0.2659771\ttotal: 17.3s\tremaining: 105ms\n",
      "994:\tlearn: 0.2659062\ttotal: 17.4s\tremaining: 87.2ms\n",
      "995:\tlearn: 0.2658098\ttotal: 17.4s\tremaining: 69.8ms\n",
      "996:\tlearn: 0.2657091\ttotal: 17.4s\tremaining: 52.3ms\n",
      "997:\tlearn: 0.2656402\ttotal: 17.4s\tremaining: 34.9ms\n",
      "998:\tlearn: 0.2655647\ttotal: 17.4s\tremaining: 17.4ms\n",
      "999:\tlearn: 0.2654190\ttotal: 17.4s\tremaining: 0us\n"
     ]
    }
   ],
   "source": [
    "cb_model.fit(X_train,Y_train)\n",
    "Y_predict = cb_model.predict(X_test)"
   ]
  },
  {
   "cell_type": "code",
   "execution_count": null,
   "id": "eef89917",
   "metadata": {
    "colab": {
     "base_uri": "https://localhost:8080/"
    },
    "executionInfo": {
     "elapsed": 463,
     "status": "ok",
     "timestamp": 1703858641721,
     "user": {
      "displayName": "NIKHILESH NARKHEDE",
      "userId": "01192225661355979879"
     },
     "user_tz": -330
    },
    "id": "6ZOzKfl0ogO_",
    "outputId": "421ade5f-6474-480b-9838-bdbef656f0c6",
    "scrolled": true
   },
   "outputs": [
    {
     "data": {
      "text/plain": [
       "array([[3422,  319],\n",
       "       [ 428, 1831]])"
      ]
     },
     "execution_count": 95,
     "metadata": {},
     "output_type": "execute_result"
    }
   ],
   "source": [
    "confusion_matrix(Y_test,Y_predict)"
   ]
  },
  {
   "cell_type": "code",
   "execution_count": null,
   "id": "625c8776",
   "metadata": {
    "colab": {
     "base_uri": "https://localhost:8080/"
    },
    "executionInfo": {
     "elapsed": 465,
     "status": "ok",
     "timestamp": 1703858646908,
     "user": {
      "displayName": "NIKHILESH NARKHEDE",
      "userId": "01192225661355979879"
     },
     "user_tz": -330
    },
    "id": "1IHjKGTMogPA",
    "outputId": "fe38220e-dd49-4b24-dcf3-8038a411745a",
    "scrolled": true
   },
   "outputs": [
    {
     "name": "stdout",
     "output_type": "stream",
     "text": [
      "              precision    recall  f1-score   support\n",
      "\n",
      "           0       0.89      0.91      0.90      3741\n",
      "           1       0.85      0.81      0.83      2259\n",
      "\n",
      "    accuracy                           0.88      6000\n",
      "   macro avg       0.87      0.86      0.87      6000\n",
      "weighted avg       0.87      0.88      0.87      6000\n",
      "\n"
     ]
    }
   ],
   "source": [
    "print(classification_report(Y_test,Y_predict))"
   ]
  },
  {
   "cell_type": "code",
   "execution_count": null,
   "id": "4d614bb1",
   "metadata": {
    "colab": {
     "base_uri": "https://localhost:8080/"
    },
    "executionInfo": {
     "elapsed": 468,
     "status": "ok",
     "timestamp": 1703858650709,
     "user": {
      "displayName": "NIKHILESH NARKHEDE",
      "userId": "01192225661355979879"
     },
     "user_tz": -330
    },
    "id": "BKrlstrCogPA",
    "outputId": "c18dcee9-622f-466b-e987-4c8d0219f6a4",
    "scrolled": true
   },
   "outputs": [
    {
     "data": {
      "text/plain": [
       "0.8305738262644592"
      ]
     },
     "execution_count": 97,
     "metadata": {},
     "output_type": "execute_result"
    }
   ],
   "source": [
    "f1_score(Y_test,Y_predict)"
   ]
  },
  {
   "cell_type": "code",
   "execution_count": null,
   "id": "382d9da3",
   "metadata": {
    "id": "jg6uCesbogPA"
   },
   "outputs": [],
   "source": [
    "Y_predict_prob = cb_model.predict_proba(X_test)"
   ]
  },
  {
   "cell_type": "code",
   "execution_count": null,
   "id": "b2e01ece",
   "metadata": {
    "colab": {
     "base_uri": "https://localhost:8080/"
    },
    "executionInfo": {
     "elapsed": 2172,
     "status": "ok",
     "timestamp": 1703858657084,
     "user": {
      "displayName": "NIKHILESH NARKHEDE",
      "userId": "01192225661355979879"
     },
     "user_tz": -330
    },
    "id": "RLgwjh0KogPB",
    "outputId": "7268bd64-2586-47d7-881f-c18dee826168"
   },
   "outputs": [
    {
     "data": {
      "text/plain": [
       "0.39054054054054055"
      ]
     },
     "execution_count": 99,
     "metadata": {},
     "output_type": "execute_result"
    }
   ],
   "source": [
    "Threshold_Finder(Y_test,Y_predict_prob)"
   ]
  },
  {
   "cell_type": "code",
   "execution_count": null,
   "id": "f40e7f32",
   "metadata": {
    "colab": {
     "base_uri": "https://localhost:8080/"
    },
    "executionInfo": {
     "elapsed": 2516,
     "status": "ok",
     "timestamp": 1703858660904,
     "user": {
      "displayName": "NIKHILESH NARKHEDE",
      "userId": "01192225661355979879"
     },
     "user_tz": -330
    },
    "id": "0ik7oo_HogPB",
    "outputId": "560ee4df-9eff-4b18-ff29-15c7fc8d3ec3",
    "scrolled": true
   },
   "outputs": [
    {
     "name": "stdout",
     "output_type": "stream",
     "text": [
      "              precision    recall  f1-score   support\n",
      "\n",
      "           0       0.91      0.89      0.90      3741\n",
      "           1       0.82      0.85      0.84      2259\n",
      "\n",
      "    accuracy                           0.87      6000\n",
      "   macro avg       0.87      0.87      0.87      6000\n",
      "weighted avg       0.88      0.87      0.88      6000\n",
      "\n"
     ]
    }
   ],
   "source": [
    "Y_predict = Y_predict_prob[:,1] > Threshold_Finder(Y_test,Y_predict_prob)\n",
    "print(classification_report(Y_test,Y_predict))"
   ]
  },
  {
   "cell_type": "code",
   "execution_count": null,
   "id": "b764dbdc",
   "metadata": {
    "colab": {
     "base_uri": "https://localhost:8080/"
    },
    "executionInfo": {
     "elapsed": 477,
     "status": "ok",
     "timestamp": 1703858666854,
     "user": {
      "displayName": "NIKHILESH NARKHEDE",
      "userId": "01192225661355979879"
     },
     "user_tz": -330
    },
    "id": "hhpjs14xmuCb",
    "outputId": "a847b204-2e37-4848-c096-9b67c34ea724"
   },
   "outputs": [
    {
     "data": {
      "text/plain": [
       "0.8837418747002546"
      ]
     },
     "execution_count": 101,
     "metadata": {},
     "output_type": "execute_result"
    }
   ],
   "source": [
    "roc_auc_score(Y_test,Y_predict_prob[:,1])"
   ]
  },
  {
   "cell_type": "code",
   "execution_count": null,
   "id": "32d4d6ba",
   "metadata": {
    "colab": {
     "base_uri": "https://localhost:8080/"
    },
    "executionInfo": {
     "elapsed": 462,
     "status": "ok",
     "timestamp": 1703858685327,
     "user": {
      "displayName": "NIKHILESH NARKHEDE",
      "userId": "01192225661355979879"
     },
     "user_tz": -330
    },
    "id": "_LXQlctCoInI",
    "outputId": "dfed9aa6-9727-49d8-c748-5c4bff9c1ac0"
   },
   "outputs": [
    {
     "data": {
      "text/plain": [
       "0.8746666666666667"
      ]
     },
     "execution_count": 102,
     "metadata": {},
     "output_type": "execute_result"
    }
   ],
   "source": [
    "accuracy_score(Y_test,Y_predict)"
   ]
  },
  {
   "cell_type": "code",
   "execution_count": null,
   "id": "b7fc17e7",
   "metadata": {
    "colab": {
     "base_uri": "https://localhost:8080/"
    },
    "executionInfo": {
     "elapsed": 37625,
     "status": "ok",
     "timestamp": 1703858726943,
     "user": {
      "displayName": "NIKHILESH NARKHEDE",
      "userId": "01192225661355979879"
     },
     "user_tz": -330
    },
    "id": "zj48KfeRrCBn",
    "outputId": "325a619c-0dc3-48da-8a4e-2ba2e99ee8ab"
   },
   "outputs": [
    {
     "name": "stdout",
     "output_type": "stream",
     "text": [
      "CPU times: user 1.61 s, sys: 86.9 ms, total: 1.7 s\n",
      "Wall time: 37.2 s\n"
     ]
    },
    {
     "data": {
      "text/plain": [
       "0.8724810232909943"
      ]
     },
     "execution_count": 103,
     "metadata": {},
     "output_type": "execute_result"
    }
   ],
   "source": [
    "%%time\n",
    "dtree_clf_model = DecisionTreeClassifier()\n",
    "\n",
    "dtree_clf_params = {\n",
    "    'class_weight':[None,'balanced'],\n",
    "    'criterion':['entropy','gini'],\n",
    "    'max_depth':[None,5,10,15,20,30,50,70],\n",
    "    'min_samples_leaf':[1,2,5,10,15,20],\n",
    "    'min_samples_split':[2,5,10,15,20]\n",
    "}\n",
    "\n",
    "dtree_clf_random_search = RandomizedSearchCV(dtree_clf_model,param_distributions=dtree_clf_params,\n",
    "                                             cv = 5, n_iter=10,scoring='roc_auc',n_jobs=-1)\n",
    "\n",
    "dtree_clf_random_search.fit(X_train,Y_train)\n",
    "dtree_clf_random_search.best_score_"
   ]
  },
  {
   "cell_type": "code",
   "execution_count": null,
   "id": "e98aa950",
   "metadata": {
    "id": "3u0O-qotPhQ4"
   },
   "outputs": [],
   "source": [
    "dtree_clf_model = dtree_clf_random_search.best_estimator_"
   ]
  },
  {
   "cell_type": "code",
   "execution_count": null,
   "id": "0d09bdb3",
   "metadata": {
    "id": "Jz3Xi1H5PhRE"
   },
   "outputs": [],
   "source": [
    "dtree_clf_model.fit(X_train,Y_train)\n",
    "Y_predict = dtree_clf_model.predict(X_test)"
   ]
  },
  {
   "cell_type": "code",
   "execution_count": null,
   "id": "1d8de201",
   "metadata": {
    "colab": {
     "base_uri": "https://localhost:8080/"
    },
    "executionInfo": {
     "elapsed": 2,
     "status": "ok",
     "timestamp": 1703858752217,
     "user": {
      "displayName": "NIKHILESH NARKHEDE",
      "userId": "01192225661355979879"
     },
     "user_tz": -330
    },
    "id": "xnxzObUtPhRE",
    "outputId": "0dc88fff-ce0e-42c1-889a-bd540cb38701",
    "scrolled": true
   },
   "outputs": [
    {
     "data": {
      "text/plain": [
       "array([[3361,  380],\n",
       "       [ 475, 1784]])"
      ]
     },
     "execution_count": 106,
     "metadata": {},
     "output_type": "execute_result"
    }
   ],
   "source": [
    "confusion_matrix(Y_test,Y_predict)"
   ]
  },
  {
   "cell_type": "code",
   "execution_count": null,
   "id": "c71673e6",
   "metadata": {
    "colab": {
     "base_uri": "https://localhost:8080/"
    },
    "executionInfo": {
     "elapsed": 474,
     "status": "ok",
     "timestamp": 1703858755272,
     "user": {
      "displayName": "NIKHILESH NARKHEDE",
      "userId": "01192225661355979879"
     },
     "user_tz": -330
    },
    "id": "_mK-1xDMPhRE",
    "outputId": "82014835-dec0-4af9-9b45-d41e83e34df7",
    "scrolled": true
   },
   "outputs": [
    {
     "name": "stdout",
     "output_type": "stream",
     "text": [
      "              precision    recall  f1-score   support\n",
      "\n",
      "           0       0.88      0.90      0.89      3741\n",
      "           1       0.82      0.79      0.81      2259\n",
      "\n",
      "    accuracy                           0.86      6000\n",
      "   macro avg       0.85      0.84      0.85      6000\n",
      "weighted avg       0.86      0.86      0.86      6000\n",
      "\n"
     ]
    }
   ],
   "source": [
    "print(classification_report(Y_test,Y_predict))"
   ]
  },
  {
   "cell_type": "code",
   "execution_count": null,
   "id": "8f68a90d",
   "metadata": {
    "colab": {
     "base_uri": "https://localhost:8080/"
    },
    "executionInfo": {
     "elapsed": 3,
     "status": "ok",
     "timestamp": 1703858758135,
     "user": {
      "displayName": "NIKHILESH NARKHEDE",
      "userId": "01192225661355979879"
     },
     "user_tz": -330
    },
    "id": "9Y_m_NL_PhRE",
    "outputId": "742b38bc-6f95-4f71-974f-c9630924e1ad",
    "scrolled": true
   },
   "outputs": [
    {
     "data": {
      "text/plain": [
       "0.8066922903007009"
      ]
     },
     "execution_count": 108,
     "metadata": {},
     "output_type": "execute_result"
    }
   ],
   "source": [
    "f1_score(Y_test,Y_predict)"
   ]
  },
  {
   "cell_type": "code",
   "execution_count": null,
   "id": "dffe9fa4",
   "metadata": {
    "id": "c2KA5ELhPhRF"
   },
   "outputs": [],
   "source": [
    "Y_predict_prob = dtree_clf_model.predict_proba(X_test)"
   ]
  },
  {
   "cell_type": "code",
   "execution_count": null,
   "id": "7ea7ce03",
   "metadata": {
    "colab": {
     "base_uri": "https://localhost:8080/"
    },
    "executionInfo": {
     "elapsed": 2210,
     "status": "ok",
     "timestamp": 1703858764703,
     "user": {
      "displayName": "NIKHILESH NARKHEDE",
      "userId": "01192225661355979879"
     },
     "user_tz": -330
    },
    "id": "eK5Fg7fNPhRF",
    "outputId": "446d3eef-fcd0-4a54-8d67-b86eead285f6"
   },
   "outputs": [
    {
     "data": {
      "text/plain": [
       "0.4450450450450451"
      ]
     },
     "execution_count": 110,
     "metadata": {},
     "output_type": "execute_result"
    }
   ],
   "source": [
    "Threshold_Finder(Y_test,Y_predict_prob)"
   ]
  },
  {
   "cell_type": "code",
   "execution_count": null,
   "id": "efe95e83",
   "metadata": {
    "colab": {
     "base_uri": "https://localhost:8080/"
    },
    "executionInfo": {
     "elapsed": 3299,
     "status": "ok",
     "timestamp": 1703858768000,
     "user": {
      "displayName": "NIKHILESH NARKHEDE",
      "userId": "01192225661355979879"
     },
     "user_tz": -330
    },
    "id": "szltyHjwPhRF",
    "outputId": "04133073-5900-4da8-c43a-eaef4c422ade",
    "scrolled": true
   },
   "outputs": [
    {
     "name": "stdout",
     "output_type": "stream",
     "text": [
      "              precision    recall  f1-score   support\n",
      "\n",
      "           0       0.88      0.89      0.89      3741\n",
      "           1       0.82      0.80      0.81      2259\n",
      "\n",
      "    accuracy                           0.86      6000\n",
      "   macro avg       0.85      0.85      0.85      6000\n",
      "weighted avg       0.86      0.86      0.86      6000\n",
      "\n"
     ]
    }
   ],
   "source": [
    "Y_predict = Y_predict_prob[:,1] > Threshold_Finder(Y_test,Y_predict_prob)\n",
    "print(classification_report(Y_test,Y_predict))"
   ]
  },
  {
   "cell_type": "code",
   "execution_count": null,
   "id": "52d3cd93",
   "metadata": {
    "colab": {
     "base_uri": "https://localhost:8080/"
    },
    "executionInfo": {
     "elapsed": 4406904,
     "status": "ok",
     "timestamp": 1703866245963,
     "user": {
      "displayName": "NIKHILESH NARKHEDE",
      "userId": "01192225661355979879"
     },
     "user_tz": -330
    },
    "id": "bSEddlVTP8ym",
    "outputId": "e363fdde-7159-4772-b033-5350e8adcfc0"
   },
   "outputs": [
    {
     "name": "stdout",
     "output_type": "stream",
     "text": [
      "CPU times: user 1min 39s, sys: 7.47 s, total: 1min 46s\n",
      "Wall time: 1h 13min 26s\n"
     ]
    },
    {
     "data": {
      "text/plain": [
       "0.889465651526206"
      ]
     },
     "execution_count": 114,
     "metadata": {},
     "output_type": "execute_result"
    }
   ],
   "source": [
    "%%time\n",
    "rf_clf_model = RandomForestClassifier()\n",
    "\n",
    "rf_clf_params = {\n",
    "    'n_estimators':[100,200,300,500,700,1000], #number of individual decision trees to be created\n",
    "    'max_features': [5,10,20,25,30,35], #how many features would be available at a split\n",
    "    'bootstrap': [True, False], #should different data subsets go in or not\n",
    "    'class_weight':[None,'balanced'],\n",
    "    'criterion':['entropy','gini'],\n",
    "    'max_depth':[None,5,10,15,20,30,50,70],\n",
    "    'min_samples_leaf':[1,2,5,10,15,20],\n",
    "    'min_samples_split':[2,5,10,15,20]\n",
    "}\n",
    "\n",
    "rf_clf_random_search = RandomizedSearchCV(rf_clf_model,param_distributions=rf_clf_params,\n",
    "                                             cv = 5, n_jobs=-1, n_iter=10,scoring='roc_auc')\n",
    "\n",
    "rf_clf_random_search.fit(X_train,Y_train)\n",
    "rf_clf_random_search.best_score_"
   ]
  },
  {
   "cell_type": "code",
   "execution_count": null,
   "id": "d3989a40",
   "metadata": {
    "id": "HFpfYOLYP9kU"
   },
   "outputs": [],
   "source": [
    "rf_clf_model = dtree_clf_random_search.best_estimator_"
   ]
  },
  {
   "cell_type": "code",
   "execution_count": null,
   "id": "fb92a07a",
   "metadata": {
    "id": "Bh-PgOwxP9ka"
   },
   "outputs": [],
   "source": [
    "rf_clf_model.fit(X_train,Y_train)\n",
    "Y_predict = rf_clf_model.predict(X_test)"
   ]
  },
  {
   "cell_type": "code",
   "execution_count": null,
   "id": "ea2abef1",
   "metadata": {
    "colab": {
     "base_uri": "https://localhost:8080/"
    },
    "executionInfo": {
     "elapsed": 10,
     "status": "ok",
     "timestamp": 1703866246744,
     "user": {
      "displayName": "NIKHILESH NARKHEDE",
      "userId": "01192225661355979879"
     },
     "user_tz": -330
    },
    "id": "nStYqhlYP9ka",
    "outputId": "f5d08b8e-5472-4602-d5ea-a5a80876c311",
    "scrolled": true
   },
   "outputs": [
    {
     "data": {
      "text/plain": [
       "array([[3363,  378],\n",
       "       [ 475, 1784]])"
      ]
     },
     "execution_count": 117,
     "metadata": {},
     "output_type": "execute_result"
    }
   ],
   "source": [
    "confusion_matrix(Y_test,Y_predict)"
   ]
  },
  {
   "cell_type": "code",
   "execution_count": null,
   "id": "6a8ae8e6",
   "metadata": {
    "colab": {
     "base_uri": "https://localhost:8080/"
    },
    "executionInfo": {
     "elapsed": 9,
     "status": "ok",
     "timestamp": 1703866246744,
     "user": {
      "displayName": "NIKHILESH NARKHEDE",
      "userId": "01192225661355979879"
     },
     "user_tz": -330
    },
    "id": "HGC0-QRAP9kb",
    "outputId": "3a13c15a-ac83-4305-edb0-e7aba0688138",
    "scrolled": true
   },
   "outputs": [
    {
     "name": "stdout",
     "output_type": "stream",
     "text": [
      "              precision    recall  f1-score   support\n",
      "\n",
      "           0       0.88      0.90      0.89      3741\n",
      "           1       0.83      0.79      0.81      2259\n",
      "\n",
      "    accuracy                           0.86      6000\n",
      "   macro avg       0.85      0.84      0.85      6000\n",
      "weighted avg       0.86      0.86      0.86      6000\n",
      "\n"
     ]
    }
   ],
   "source": [
    "print(classification_report(Y_test,Y_predict))"
   ]
  },
  {
   "cell_type": "code",
   "execution_count": null,
   "id": "9144caf9",
   "metadata": {
    "colab": {
     "base_uri": "https://localhost:8080/"
    },
    "executionInfo": {
     "elapsed": 8,
     "status": "ok",
     "timestamp": 1703866246744,
     "user": {
      "displayName": "NIKHILESH NARKHEDE",
      "userId": "01192225661355979879"
     },
     "user_tz": -330
    },
    "id": "M6_go2RtP9kb",
    "outputId": "6f210cc5-3f06-449e-cca9-24ed7e2aa85c",
    "scrolled": true
   },
   "outputs": [
    {
     "data": {
      "text/plain": [
       "0.8070572268717485"
      ]
     },
     "execution_count": 119,
     "metadata": {},
     "output_type": "execute_result"
    }
   ],
   "source": [
    "f1_score(Y_test,Y_predict)"
   ]
  },
  {
   "cell_type": "code",
   "execution_count": null,
   "id": "c342985f",
   "metadata": {
    "id": "rB2mt0-bP9kb"
   },
   "outputs": [],
   "source": [
    "Y_predict_prob = rf_clf_model.predict_proba(X_test)"
   ]
  },
  {
   "cell_type": "code",
   "execution_count": null,
   "id": "46ee4c9a",
   "metadata": {
    "colab": {
     "base_uri": "https://localhost:8080/"
    },
    "executionInfo": {
     "elapsed": 2439,
     "status": "ok",
     "timestamp": 1703866249177,
     "user": {
      "displayName": "NIKHILESH NARKHEDE",
      "userId": "01192225661355979879"
     },
     "user_tz": -330
    },
    "id": "Y0BDv_Q9P9kb",
    "outputId": "aeedc9be-83cc-43f0-fd82-ea67f595fbbc"
   },
   "outputs": [
    {
     "data": {
      "text/plain": [
       "0.4450450450450451"
      ]
     },
     "execution_count": 121,
     "metadata": {},
     "output_type": "execute_result"
    }
   ],
   "source": [
    "Threshold_Finder(Y_test,Y_predict_prob)"
   ]
  },
  {
   "cell_type": "code",
   "execution_count": null,
   "id": "99159b3e",
   "metadata": {
    "colab": {
     "base_uri": "https://localhost:8080/"
    },
    "executionInfo": {
     "elapsed": 2635,
     "status": "ok",
     "timestamp": 1703866251808,
     "user": {
      "displayName": "NIKHILESH NARKHEDE",
      "userId": "01192225661355979879"
     },
     "user_tz": -330
    },
    "id": "wX6kpYxBP9kb",
    "outputId": "fe3c3fa5-c65f-41c8-c869-09d202e3ee6e",
    "scrolled": true
   },
   "outputs": [
    {
     "name": "stdout",
     "output_type": "stream",
     "text": [
      "              precision    recall  f1-score   support\n",
      "\n",
      "           0       0.88      0.89      0.89      3741\n",
      "           1       0.82      0.80      0.81      2259\n",
      "\n",
      "    accuracy                           0.86      6000\n",
      "   macro avg       0.85      0.85      0.85      6000\n",
      "weighted avg       0.86      0.86      0.86      6000\n",
      "\n"
     ]
    }
   ],
   "source": [
    "Y_predict = Y_predict_prob[:,1] > Threshold_Finder(Y_test,Y_predict_prob)\n",
    "print(classification_report(Y_test,Y_predict))"
   ]
  },
  {
   "cell_type": "code",
   "execution_count": 10,
   "id": "7bde14f1",
   "metadata": {
    "colab": {
     "base_uri": "https://localhost:8080/"
    },
    "executionInfo": {
     "elapsed": 43109,
     "status": "ok",
     "timestamp": 1703866294913,
     "user": {
      "displayName": "NIKHILESH NARKHEDE",
      "userId": "01192225661355979879"
     },
     "user_tz": -330
    },
    "id": "tgQaoxvaOQnj",
    "outputId": "e7dc2d42-dd9e-4a6c-c1a9-6215657ef09b"
   },
   "outputs": [
    {
     "name": "stdout",
     "output_type": "stream",
     "text": [
      "Wall time: 0 ns\n"
     ]
    }
   ],
   "source": [
    "%%time\n",
    "cb_clf_model = CatBoostClassifier()\n",
    "\n",
    "cb_clf_params = {\n",
    "   'n_estimators':[50,100,200,500,700],\n",
    "   'learning_rate': [0.01,.05,0.1,0.4,0.8,1],\n",
    "   'max_depth':[1,2,3,4,5,6],\n",
    "   'subsample':[0.5,0.8,1],\n",
    "   'colsample_bylevel':[i/10.0 for i in range(5,10)],\n",
    "   'l2_leaf_reg':[1e-5, 1e-2, 0.1, 1, 100]\n",
    "}\n",
    "\n",
    "cb_clf_random_search = RandomizedSearchCV(cb_clf_model,param_distributions=cb_clf_params,\n",
    "                                             cv = 5, n_iter=2,scoring='roc_auc',n_jobs=-1)\n",
    "\n"
   ]
  },
  {
   "cell_type": "code",
   "execution_count": 11,
   "id": "5d0c7bc7-542b-4944-b678-49a4ed0e9653",
   "metadata": {},
   "outputs": [
    {
     "name": "stdout",
     "output_type": "stream",
     "text": [
      "0:\tlearn: 0.4391944\ttotal: 81.1ms\tremaining: 8.03s\n",
      "1:\tlearn: 0.4058549\ttotal: 90.4ms\tremaining: 4.43s\n",
      "2:\tlearn: 0.3963906\ttotal: 99ms\tremaining: 3.2s\n",
      "3:\tlearn: 0.3909068\ttotal: 109ms\tremaining: 2.62s\n",
      "4:\tlearn: 0.3879280\ttotal: 119ms\tremaining: 2.26s\n",
      "5:\tlearn: 0.3851715\ttotal: 128ms\tremaining: 2.01s\n",
      "6:\tlearn: 0.3838744\ttotal: 139ms\tremaining: 1.85s\n",
      "7:\tlearn: 0.3825268\ttotal: 148ms\tremaining: 1.7s\n",
      "8:\tlearn: 0.3814508\ttotal: 156ms\tremaining: 1.57s\n",
      "9:\tlearn: 0.3801633\ttotal: 164ms\tremaining: 1.48s\n",
      "10:\tlearn: 0.3794438\ttotal: 172ms\tremaining: 1.39s\n",
      "11:\tlearn: 0.3782878\ttotal: 184ms\tremaining: 1.35s\n",
      "12:\tlearn: 0.3774227\ttotal: 194ms\tremaining: 1.29s\n",
      "13:\tlearn: 0.3764315\ttotal: 204ms\tremaining: 1.25s\n",
      "14:\tlearn: 0.3749392\ttotal: 212ms\tremaining: 1.2s\n",
      "15:\tlearn: 0.3711877\ttotal: 221ms\tremaining: 1.16s\n",
      "16:\tlearn: 0.3678521\ttotal: 229ms\tremaining: 1.12s\n",
      "17:\tlearn: 0.3659683\ttotal: 239ms\tremaining: 1.09s\n",
      "18:\tlearn: 0.3646994\ttotal: 247ms\tremaining: 1.05s\n",
      "19:\tlearn: 0.3637430\ttotal: 256ms\tremaining: 1.02s\n",
      "20:\tlearn: 0.3626458\ttotal: 264ms\tremaining: 993ms\n",
      "21:\tlearn: 0.3615229\ttotal: 273ms\tremaining: 968ms\n",
      "22:\tlearn: 0.3607070\ttotal: 282ms\tremaining: 943ms\n",
      "23:\tlearn: 0.3601430\ttotal: 292ms\tremaining: 926ms\n",
      "24:\tlearn: 0.3583602\ttotal: 302ms\tremaining: 906ms\n",
      "25:\tlearn: 0.3572724\ttotal: 313ms\tremaining: 892ms\n",
      "26:\tlearn: 0.3557466\ttotal: 322ms\tremaining: 871ms\n",
      "27:\tlearn: 0.3546849\ttotal: 332ms\tremaining: 853ms\n",
      "28:\tlearn: 0.3534410\ttotal: 341ms\tremaining: 836ms\n",
      "29:\tlearn: 0.3527603\ttotal: 352ms\tremaining: 821ms\n",
      "30:\tlearn: 0.3515976\ttotal: 361ms\tremaining: 803ms\n",
      "31:\tlearn: 0.3503452\ttotal: 371ms\tremaining: 787ms\n",
      "32:\tlearn: 0.3494745\ttotal: 380ms\tremaining: 772ms\n",
      "33:\tlearn: 0.3484562\ttotal: 389ms\tremaining: 756ms\n",
      "34:\tlearn: 0.3476789\ttotal: 399ms\tremaining: 741ms\n",
      "35:\tlearn: 0.3465527\ttotal: 410ms\tremaining: 729ms\n",
      "36:\tlearn: 0.3451832\ttotal: 418ms\tremaining: 712ms\n",
      "37:\tlearn: 0.3440000\ttotal: 428ms\tremaining: 699ms\n",
      "38:\tlearn: 0.3428120\ttotal: 439ms\tremaining: 687ms\n",
      "39:\tlearn: 0.3421179\ttotal: 447ms\tremaining: 670ms\n",
      "40:\tlearn: 0.3412382\ttotal: 456ms\tremaining: 657ms\n",
      "41:\tlearn: 0.3402203\ttotal: 467ms\tremaining: 645ms\n",
      "42:\tlearn: 0.3386832\ttotal: 478ms\tremaining: 633ms\n",
      "43:\tlearn: 0.3376164\ttotal: 488ms\tremaining: 621ms\n",
      "44:\tlearn: 0.3368837\ttotal: 499ms\tremaining: 610ms\n",
      "45:\tlearn: 0.3359569\ttotal: 509ms\tremaining: 598ms\n",
      "46:\tlearn: 0.3353259\ttotal: 520ms\tremaining: 586ms\n",
      "47:\tlearn: 0.3342559\ttotal: 530ms\tremaining: 574ms\n",
      "48:\tlearn: 0.3333820\ttotal: 540ms\tremaining: 562ms\n",
      "49:\tlearn: 0.3324416\ttotal: 550ms\tremaining: 550ms\n",
      "50:\tlearn: 0.3318060\ttotal: 560ms\tremaining: 538ms\n",
      "51:\tlearn: 0.3309407\ttotal: 570ms\tremaining: 526ms\n",
      "52:\tlearn: 0.3295730\ttotal: 579ms\tremaining: 513ms\n",
      "53:\tlearn: 0.3286584\ttotal: 586ms\tremaining: 500ms\n",
      "54:\tlearn: 0.3278644\ttotal: 594ms\tremaining: 486ms\n",
      "55:\tlearn: 0.3267409\ttotal: 601ms\tremaining: 472ms\n",
      "56:\tlearn: 0.3256332\ttotal: 610ms\tremaining: 460ms\n",
      "57:\tlearn: 0.3244673\ttotal: 617ms\tremaining: 447ms\n",
      "58:\tlearn: 0.3234071\ttotal: 624ms\tremaining: 434ms\n",
      "59:\tlearn: 0.3222519\ttotal: 633ms\tremaining: 422ms\n",
      "60:\tlearn: 0.3211861\ttotal: 642ms\tremaining: 410ms\n",
      "61:\tlearn: 0.3203066\ttotal: 650ms\tremaining: 398ms\n",
      "62:\tlearn: 0.3189583\ttotal: 659ms\tremaining: 387ms\n",
      "63:\tlearn: 0.3180103\ttotal: 666ms\tremaining: 375ms\n",
      "64:\tlearn: 0.3172383\ttotal: 675ms\tremaining: 364ms\n",
      "65:\tlearn: 0.3158948\ttotal: 683ms\tremaining: 352ms\n",
      "66:\tlearn: 0.3147962\ttotal: 691ms\tremaining: 340ms\n",
      "67:\tlearn: 0.3139852\ttotal: 699ms\tremaining: 329ms\n",
      "68:\tlearn: 0.3130758\ttotal: 707ms\tremaining: 317ms\n",
      "69:\tlearn: 0.3111450\ttotal: 713ms\tremaining: 306ms\n",
      "70:\tlearn: 0.3100837\ttotal: 721ms\tremaining: 294ms\n",
      "71:\tlearn: 0.3095855\ttotal: 728ms\tremaining: 283ms\n",
      "72:\tlearn: 0.3085640\ttotal: 737ms\tremaining: 272ms\n",
      "73:\tlearn: 0.3076522\ttotal: 744ms\tremaining: 261ms\n",
      "74:\tlearn: 0.3048752\ttotal: 751ms\tremaining: 250ms\n",
      "75:\tlearn: 0.3042243\ttotal: 758ms\tremaining: 239ms\n",
      "76:\tlearn: 0.3033156\ttotal: 765ms\tremaining: 229ms\n",
      "77:\tlearn: 0.3022196\ttotal: 772ms\tremaining: 218ms\n",
      "78:\tlearn: 0.3014063\ttotal: 780ms\tremaining: 207ms\n",
      "79:\tlearn: 0.3006406\ttotal: 787ms\tremaining: 197ms\n",
      "80:\tlearn: 0.2995299\ttotal: 796ms\tremaining: 187ms\n",
      "81:\tlearn: 0.2990196\ttotal: 805ms\tremaining: 177ms\n",
      "82:\tlearn: 0.2980824\ttotal: 813ms\tremaining: 166ms\n",
      "83:\tlearn: 0.2974047\ttotal: 821ms\tremaining: 156ms\n",
      "84:\tlearn: 0.2966032\ttotal: 831ms\tremaining: 147ms\n",
      "85:\tlearn: 0.2956084\ttotal: 838ms\tremaining: 136ms\n",
      "86:\tlearn: 0.2946234\ttotal: 847ms\tremaining: 127ms\n",
      "87:\tlearn: 0.2935521\ttotal: 855ms\tremaining: 117ms\n",
      "88:\tlearn: 0.2925188\ttotal: 863ms\tremaining: 107ms\n",
      "89:\tlearn: 0.2917420\ttotal: 869ms\tremaining: 96.6ms\n",
      "90:\tlearn: 0.2899793\ttotal: 877ms\tremaining: 86.8ms\n",
      "91:\tlearn: 0.2894088\ttotal: 884ms\tremaining: 76.8ms\n",
      "92:\tlearn: 0.2884580\ttotal: 893ms\tremaining: 67.2ms\n",
      "93:\tlearn: 0.2872146\ttotal: 900ms\tremaining: 57.4ms\n",
      "94:\tlearn: 0.2866229\ttotal: 908ms\tremaining: 47.8ms\n",
      "95:\tlearn: 0.2857256\ttotal: 915ms\tremaining: 38.1ms\n",
      "96:\tlearn: 0.2849130\ttotal: 924ms\tremaining: 28.6ms\n",
      "97:\tlearn: 0.2843448\ttotal: 934ms\tremaining: 19.1ms\n",
      "98:\tlearn: 0.2836117\ttotal: 941ms\tremaining: 9.5ms\n",
      "99:\tlearn: 0.2826813\ttotal: 949ms\tremaining: 0us\n"
     ]
    },
    {
     "data": {
      "text/plain": [
       "0.8644950772115386"
      ]
     },
     "execution_count": 11,
     "metadata": {},
     "output_type": "execute_result"
    }
   ],
   "source": [
    "cb_clf_random_search.fit(X_train,Y_train)\n",
    "cb_clf_random_search.best_score_"
   ]
  },
  {
   "cell_type": "code",
   "execution_count": 12,
   "id": "2d537c82",
   "metadata": {
    "id": "QmSKAhOEOrx3"
   },
   "outputs": [],
   "source": [
    "cb_clf_model = cb_clf_random_search.best_estimator_"
   ]
  },
  {
   "cell_type": "code",
   "execution_count": 13,
   "id": "3f9b35d6",
   "metadata": {
    "colab": {
     "base_uri": "https://localhost:8080/"
    },
    "executionInfo": {
     "elapsed": 4736,
     "status": "ok",
     "timestamp": 1703866299622,
     "user": {
      "displayName": "NIKHILESH NARKHEDE",
      "userId": "01192225661355979879"
     },
     "user_tz": -330
    },
    "id": "szJDdRkUOrx4",
    "outputId": "baae92fc-41f5-485f-ded0-81e2817eeefa"
   },
   "outputs": [
    {
     "name": "stdout",
     "output_type": "stream",
     "text": [
      "0:\tlearn: 0.4391944\ttotal: 9.56ms\tremaining: 946ms\n",
      "1:\tlearn: 0.4058549\ttotal: 18.9ms\tremaining: 925ms\n",
      "2:\tlearn: 0.3963906\ttotal: 27.5ms\tremaining: 889ms\n",
      "3:\tlearn: 0.3909068\ttotal: 34.1ms\tremaining: 819ms\n",
      "4:\tlearn: 0.3879280\ttotal: 41.5ms\tremaining: 788ms\n",
      "5:\tlearn: 0.3851715\ttotal: 48.2ms\tremaining: 756ms\n",
      "6:\tlearn: 0.3838744\ttotal: 55.5ms\tremaining: 737ms\n",
      "7:\tlearn: 0.3825268\ttotal: 62ms\tremaining: 713ms\n",
      "8:\tlearn: 0.3814508\ttotal: 67.9ms\tremaining: 687ms\n",
      "9:\tlearn: 0.3801633\ttotal: 73.5ms\tremaining: 661ms\n",
      "10:\tlearn: 0.3794438\ttotal: 78.8ms\tremaining: 637ms\n",
      "11:\tlearn: 0.3782878\ttotal: 86.1ms\tremaining: 631ms\n",
      "12:\tlearn: 0.3774227\ttotal: 92.4ms\tremaining: 618ms\n",
      "13:\tlearn: 0.3764315\ttotal: 99.7ms\tremaining: 612ms\n",
      "14:\tlearn: 0.3749392\ttotal: 106ms\tremaining: 602ms\n",
      "15:\tlearn: 0.3711877\ttotal: 112ms\tremaining: 590ms\n",
      "16:\tlearn: 0.3678521\ttotal: 118ms\tremaining: 577ms\n",
      "17:\tlearn: 0.3659683\ttotal: 125ms\tremaining: 569ms\n",
      "18:\tlearn: 0.3646994\ttotal: 130ms\tremaining: 555ms\n",
      "19:\tlearn: 0.3637430\ttotal: 137ms\tremaining: 548ms\n",
      "20:\tlearn: 0.3626458\ttotal: 143ms\tremaining: 539ms\n",
      "21:\tlearn: 0.3615229\ttotal: 151ms\tremaining: 534ms\n",
      "22:\tlearn: 0.3607070\ttotal: 157ms\tremaining: 527ms\n",
      "23:\tlearn: 0.3601430\ttotal: 164ms\tremaining: 520ms\n",
      "24:\tlearn: 0.3583602\ttotal: 170ms\tremaining: 511ms\n",
      "25:\tlearn: 0.3572724\ttotal: 178ms\tremaining: 505ms\n",
      "26:\tlearn: 0.3557466\ttotal: 185ms\tremaining: 500ms\n",
      "27:\tlearn: 0.3546849\ttotal: 193ms\tremaining: 496ms\n",
      "28:\tlearn: 0.3534410\ttotal: 200ms\tremaining: 490ms\n",
      "29:\tlearn: 0.3527603\ttotal: 208ms\tremaining: 486ms\n",
      "30:\tlearn: 0.3515976\ttotal: 218ms\tremaining: 484ms\n",
      "31:\tlearn: 0.3503452\ttotal: 225ms\tremaining: 478ms\n",
      "32:\tlearn: 0.3494745\ttotal: 232ms\tremaining: 472ms\n",
      "33:\tlearn: 0.3484562\ttotal: 239ms\tremaining: 464ms\n",
      "34:\tlearn: 0.3476789\ttotal: 246ms\tremaining: 456ms\n",
      "35:\tlearn: 0.3465527\ttotal: 253ms\tremaining: 449ms\n",
      "36:\tlearn: 0.3451832\ttotal: 258ms\tremaining: 439ms\n",
      "37:\tlearn: 0.3440000\ttotal: 265ms\tremaining: 432ms\n",
      "38:\tlearn: 0.3428120\ttotal: 272ms\tremaining: 426ms\n",
      "39:\tlearn: 0.3421179\ttotal: 278ms\tremaining: 417ms\n",
      "40:\tlearn: 0.3412382\ttotal: 285ms\tremaining: 410ms\n",
      "41:\tlearn: 0.3402203\ttotal: 293ms\tremaining: 405ms\n",
      "42:\tlearn: 0.3386832\ttotal: 300ms\tremaining: 398ms\n",
      "43:\tlearn: 0.3376164\ttotal: 308ms\tremaining: 392ms\n",
      "44:\tlearn: 0.3368837\ttotal: 315ms\tremaining: 386ms\n",
      "45:\tlearn: 0.3359569\ttotal: 323ms\tremaining: 379ms\n",
      "46:\tlearn: 0.3353259\ttotal: 330ms\tremaining: 372ms\n",
      "47:\tlearn: 0.3342559\ttotal: 336ms\tremaining: 364ms\n",
      "48:\tlearn: 0.3333820\ttotal: 344ms\tremaining: 358ms\n",
      "49:\tlearn: 0.3324416\ttotal: 351ms\tremaining: 351ms\n",
      "50:\tlearn: 0.3318060\ttotal: 357ms\tremaining: 343ms\n",
      "51:\tlearn: 0.3309407\ttotal: 365ms\tremaining: 336ms\n",
      "52:\tlearn: 0.3295730\ttotal: 372ms\tremaining: 330ms\n",
      "53:\tlearn: 0.3286584\ttotal: 380ms\tremaining: 323ms\n",
      "54:\tlearn: 0.3278644\ttotal: 389ms\tremaining: 318ms\n",
      "55:\tlearn: 0.3267409\ttotal: 397ms\tremaining: 312ms\n",
      "56:\tlearn: 0.3256332\ttotal: 405ms\tremaining: 306ms\n",
      "57:\tlearn: 0.3244673\ttotal: 414ms\tremaining: 300ms\n",
      "58:\tlearn: 0.3234071\ttotal: 421ms\tremaining: 292ms\n",
      "59:\tlearn: 0.3222519\ttotal: 428ms\tremaining: 285ms\n",
      "60:\tlearn: 0.3211861\ttotal: 436ms\tremaining: 278ms\n",
      "61:\tlearn: 0.3203066\ttotal: 442ms\tremaining: 271ms\n",
      "62:\tlearn: 0.3189583\ttotal: 449ms\tremaining: 264ms\n",
      "63:\tlearn: 0.3180103\ttotal: 463ms\tremaining: 260ms\n",
      "64:\tlearn: 0.3172383\ttotal: 470ms\tremaining: 253ms\n",
      "65:\tlearn: 0.3158948\ttotal: 477ms\tremaining: 246ms\n",
      "66:\tlearn: 0.3147962\ttotal: 484ms\tremaining: 239ms\n",
      "67:\tlearn: 0.3139852\ttotal: 491ms\tremaining: 231ms\n",
      "68:\tlearn: 0.3130758\ttotal: 498ms\tremaining: 224ms\n",
      "69:\tlearn: 0.3111450\ttotal: 504ms\tremaining: 216ms\n",
      "70:\tlearn: 0.3100837\ttotal: 511ms\tremaining: 209ms\n",
      "71:\tlearn: 0.3095855\ttotal: 518ms\tremaining: 201ms\n",
      "72:\tlearn: 0.3085640\ttotal: 526ms\tremaining: 195ms\n",
      "73:\tlearn: 0.3076522\ttotal: 533ms\tremaining: 187ms\n",
      "74:\tlearn: 0.3048752\ttotal: 540ms\tremaining: 180ms\n",
      "75:\tlearn: 0.3042243\ttotal: 547ms\tremaining: 173ms\n",
      "76:\tlearn: 0.3033156\ttotal: 555ms\tremaining: 166ms\n",
      "77:\tlearn: 0.3022196\ttotal: 563ms\tremaining: 159ms\n",
      "78:\tlearn: 0.3014063\ttotal: 572ms\tremaining: 152ms\n",
      "79:\tlearn: 0.3006406\ttotal: 581ms\tremaining: 145ms\n",
      "80:\tlearn: 0.2995299\ttotal: 588ms\tremaining: 138ms\n",
      "81:\tlearn: 0.2990196\ttotal: 595ms\tremaining: 131ms\n",
      "82:\tlearn: 0.2980824\ttotal: 602ms\tremaining: 123ms\n",
      "83:\tlearn: 0.2974047\ttotal: 609ms\tremaining: 116ms\n",
      "84:\tlearn: 0.2966032\ttotal: 618ms\tremaining: 109ms\n",
      "85:\tlearn: 0.2956084\ttotal: 625ms\tremaining: 102ms\n",
      "86:\tlearn: 0.2946234\ttotal: 635ms\tremaining: 94.8ms\n",
      "87:\tlearn: 0.2935521\ttotal: 642ms\tremaining: 87.6ms\n",
      "88:\tlearn: 0.2925188\ttotal: 650ms\tremaining: 80.3ms\n",
      "89:\tlearn: 0.2917420\ttotal: 656ms\tremaining: 72.9ms\n",
      "90:\tlearn: 0.2899793\ttotal: 663ms\tremaining: 65.5ms\n",
      "91:\tlearn: 0.2894088\ttotal: 668ms\tremaining: 58.1ms\n",
      "92:\tlearn: 0.2884580\ttotal: 677ms\tremaining: 50.9ms\n",
      "93:\tlearn: 0.2872146\ttotal: 686ms\tremaining: 43.8ms\n",
      "94:\tlearn: 0.2866229\ttotal: 696ms\tremaining: 36.6ms\n",
      "95:\tlearn: 0.2857256\ttotal: 704ms\tremaining: 29.3ms\n",
      "96:\tlearn: 0.2849130\ttotal: 711ms\tremaining: 22ms\n",
      "97:\tlearn: 0.2843448\ttotal: 720ms\tremaining: 14.7ms\n",
      "98:\tlearn: 0.2836117\ttotal: 727ms\tremaining: 7.34ms\n",
      "99:\tlearn: 0.2826813\ttotal: 735ms\tremaining: 0us\n"
     ]
    }
   ],
   "source": [
    "cb_clf_model.fit(X_train,Y_train)\n",
    "Y_predict_prob = cb_clf_model.predict_proba(X_test)\n",
    "Y_predict = cb_clf_model.predict(X_test)"
   ]
  },
  {
   "cell_type": "code",
   "execution_count": 14,
   "id": "92d88e7c-2027-409e-b696-8b965f518909",
   "metadata": {},
   "outputs": [
    {
     "data": {
      "text/plain": [
       "0.8657049014432632"
      ]
     },
     "execution_count": 14,
     "metadata": {},
     "output_type": "execute_result"
    }
   ],
   "source": [
    "roc_auc_score(Y_test,Y_predict_prob[:,1])"
   ]
  },
  {
   "cell_type": "code",
   "execution_count": 15,
   "id": "c31a4351",
   "metadata": {
    "colab": {
     "base_uri": "https://localhost:8080/"
    },
    "executionInfo": {
     "elapsed": 29,
     "status": "ok",
     "timestamp": 1703866299622,
     "user": {
      "displayName": "NIKHILESH NARKHEDE",
      "userId": "01192225661355979879"
     },
     "user_tz": -330
    },
    "id": "0F5Hse1DOrx5",
    "outputId": "e2ad4b68-4088-4db9-be73-562d0cbc2140",
    "scrolled": true
   },
   "outputs": [
    {
     "data": {
      "text/plain": [
       "array([[3316,  425],\n",
       "       [ 526, 1733]], dtype=int64)"
      ]
     },
     "execution_count": 15,
     "metadata": {},
     "output_type": "execute_result"
    }
   ],
   "source": [
    "confusion_matrix(Y_test,Y_predict)"
   ]
  },
  {
   "cell_type": "code",
   "execution_count": 16,
   "id": "e4d71169",
   "metadata": {
    "colab": {
     "base_uri": "https://localhost:8080/"
    },
    "executionInfo": {
     "elapsed": 16,
     "status": "ok",
     "timestamp": 1703866299622,
     "user": {
      "displayName": "NIKHILESH NARKHEDE",
      "userId": "01192225661355979879"
     },
     "user_tz": -330
    },
    "id": "m5wkr46fOrx7",
    "outputId": "30c0e3d7-d96d-4853-9c84-b7ff0d52e14a",
    "scrolled": true
   },
   "outputs": [
    {
     "name": "stdout",
     "output_type": "stream",
     "text": [
      "              precision    recall  f1-score   support\n",
      "\n",
      "           0       0.86      0.89      0.87      3741\n",
      "           1       0.80      0.77      0.78      2259\n",
      "\n",
      "    accuracy                           0.84      6000\n",
      "   macro avg       0.83      0.83      0.83      6000\n",
      "weighted avg       0.84      0.84      0.84      6000\n",
      "\n"
     ]
    }
   ],
   "source": [
    "print(classification_report(Y_test,Y_predict))"
   ]
  },
  {
   "cell_type": "code",
   "execution_count": 17,
   "id": "e4171f76",
   "metadata": {
    "colab": {
     "base_uri": "https://localhost:8080/"
    },
    "executionInfo": {
     "elapsed": 15,
     "status": "ok",
     "timestamp": 1703866299622,
     "user": {
      "displayName": "NIKHILESH NARKHEDE",
      "userId": "01192225661355979879"
     },
     "user_tz": -330
    },
    "id": "cmEdNdiqOrx7",
    "outputId": "b4310aca-278e-4db5-c90c-c90e29e30bfa",
    "scrolled": true
   },
   "outputs": [
    {
     "data": {
      "text/plain": [
       "0.7846954946796468"
      ]
     },
     "execution_count": 17,
     "metadata": {},
     "output_type": "execute_result"
    }
   ],
   "source": [
    "f1_score(Y_test,Y_predict)"
   ]
  },
  {
   "cell_type": "code",
   "execution_count": 18,
   "id": "984856f7",
   "metadata": {
    "id": "HxXiY8UROrx7"
   },
   "outputs": [],
   "source": [
    "Y_predict_prob = cb_clf_model.predict_proba(X_test)"
   ]
  },
  {
   "cell_type": "code",
   "execution_count": 19,
   "id": "78047232",
   "metadata": {
    "colab": {
     "base_uri": "https://localhost:8080/"
    },
    "executionInfo": {
     "elapsed": 3232,
     "status": "ok",
     "timestamp": 1703866302841,
     "user": {
      "displayName": "NIKHILESH NARKHEDE",
      "userId": "01192225661355979879"
     },
     "user_tz": -330
    },
    "id": "dwwYdbOLOrx7",
    "outputId": "497605d2-1d70-4abc-9ee9-5eeb0a5cb6d5"
   },
   "outputs": [
    {
     "data": {
      "text/plain": [
       "0.3588288288288289"
      ]
     },
     "execution_count": 19,
     "metadata": {},
     "output_type": "execute_result"
    }
   ],
   "source": [
    "Threshold_Finder(Y_test,Y_predict_prob)"
   ]
  },
  {
   "cell_type": "code",
   "execution_count": 20,
   "id": "009271af",
   "metadata": {
    "colab": {
     "base_uri": "https://localhost:8080/"
    },
    "executionInfo": {
     "elapsed": 3977,
     "status": "ok",
     "timestamp": 1703866306805,
     "user": {
      "displayName": "NIKHILESH NARKHEDE",
      "userId": "01192225661355979879"
     },
     "user_tz": -330
    },
    "id": "rx8_xGXaOrx7",
    "outputId": "a2a04d31-ebcd-4380-8880-ba01ee53e1c6",
    "scrolled": true
   },
   "outputs": [
    {
     "name": "stdout",
     "output_type": "stream",
     "text": [
      "              precision    recall  f1-score   support\n",
      "\n",
      "           0       0.88      0.84      0.86      3741\n",
      "           1       0.76      0.81      0.78      2259\n",
      "\n",
      "    accuracy                           0.83      6000\n",
      "   macro avg       0.82      0.83      0.82      6000\n",
      "weighted avg       0.84      0.83      0.83      6000\n",
      "\n"
     ]
    }
   ],
   "source": [
    "Y_predict = Y_predict_prob[:,1] > Threshold_Finder(Y_test,Y_predict_prob)\n",
    "print(classification_report(Y_test,Y_predict))"
   ]
  },
  {
   "cell_type": "code",
   "execution_count": 22,
   "id": "6af10740",
   "metadata": {
    "id": "niqudCLGQwYW"
   },
   "outputs": [],
   "source": [
    "temp = X_train.columns"
   ]
  },
  {
   "cell_type": "code",
   "execution_count": 23,
   "id": "005ec5a8",
   "metadata": {
    "colab": {
     "base_uri": "https://localhost:8080/",
     "height": 255
    },
    "executionInfo": {
     "elapsed": 23,
     "status": "ok",
     "timestamp": 1703866306806,
     "user": {
      "displayName": "NIKHILESH NARKHEDE",
      "userId": "01192225661355979879"
     },
     "user_tz": -330
    },
    "id": "UkC9SSv7PS1W",
    "outputId": "b0f68a93-b691-423f-8432-f1b0989e5742"
   },
   "outputs": [
    {
     "data": {
      "text/html": [
       "<div>\n",
       "<style scoped>\n",
       "    .dataframe tbody tr th:only-of-type {\n",
       "        vertical-align: middle;\n",
       "    }\n",
       "\n",
       "    .dataframe tbody tr th {\n",
       "        vertical-align: top;\n",
       "    }\n",
       "\n",
       "    .dataframe thead th {\n",
       "        text-align: right;\n",
       "    }\n",
       "</style>\n",
       "<table border=\"1\" class=\"dataframe\">\n",
       "  <thead>\n",
       "    <tr style=\"text-align: right;\">\n",
       "      <th></th>\n",
       "      <th>var3</th>\n",
       "      <th>var4</th>\n",
       "      <th>var5</th>\n",
       "      <th>var6</th>\n",
       "      <th>var7</th>\n",
       "      <th>var8</th>\n",
       "      <th>var12</th>\n",
       "      <th>var14</th>\n",
       "      <th>var15</th>\n",
       "      <th>var16</th>\n",
       "      <th>...</th>\n",
       "      <th>var23_tf</th>\n",
       "      <th>var23_ub</th>\n",
       "      <th>var23_qu</th>\n",
       "      <th>var23_ri</th>\n",
       "      <th>var23_fe</th>\n",
       "      <th>var23_da</th>\n",
       "      <th>var23_cz</th>\n",
       "      <th>var23_sy</th>\n",
       "      <th>var23_yv</th>\n",
       "      <th>var29_ev</th>\n",
       "    </tr>\n",
       "  </thead>\n",
       "  <tbody>\n",
       "    <tr>\n",
       "      <th>0</th>\n",
       "      <td>1.795857</td>\n",
       "      <td>-0.925540</td>\n",
       "      <td>0.212231</td>\n",
       "      <td>-1.845218</td>\n",
       "      <td>2.164260</td>\n",
       "      <td>0.107453</td>\n",
       "      <td>0.164472</td>\n",
       "      <td>0.874381</td>\n",
       "      <td>0.814711</td>\n",
       "      <td>1.301922</td>\n",
       "      <td>...</td>\n",
       "      <td>1.690716</td>\n",
       "      <td>-0.517781</td>\n",
       "      <td>-0.444259</td>\n",
       "      <td>-0.386983</td>\n",
       "      <td>-0.315444</td>\n",
       "      <td>-0.265377</td>\n",
       "      <td>-0.210141</td>\n",
       "      <td>-0.15186</td>\n",
       "      <td>-0.10363</td>\n",
       "      <td>-1.995584</td>\n",
       "    </tr>\n",
       "    <tr>\n",
       "      <th>1</th>\n",
       "      <td>0.994893</td>\n",
       "      <td>-0.617507</td>\n",
       "      <td>-0.646956</td>\n",
       "      <td>0.710405</td>\n",
       "      <td>1.021448</td>\n",
       "      <td>-0.450844</td>\n",
       "      <td>-0.078446</td>\n",
       "      <td>-0.263682</td>\n",
       "      <td>-1.304482</td>\n",
       "      <td>-0.196447</td>\n",
       "      <td>...</td>\n",
       "      <td>-0.591465</td>\n",
       "      <td>1.931320</td>\n",
       "      <td>-0.444259</td>\n",
       "      <td>-0.386983</td>\n",
       "      <td>-0.315444</td>\n",
       "      <td>-0.265377</td>\n",
       "      <td>-0.210141</td>\n",
       "      <td>-0.15186</td>\n",
       "      <td>-0.10363</td>\n",
       "      <td>0.501107</td>\n",
       "    </tr>\n",
       "    <tr>\n",
       "      <th>2</th>\n",
       "      <td>-0.341154</td>\n",
       "      <td>0.928364</td>\n",
       "      <td>0.358946</td>\n",
       "      <td>1.471601</td>\n",
       "      <td>0.108987</td>\n",
       "      <td>1.240615</td>\n",
       "      <td>-1.172287</td>\n",
       "      <td>-0.980612</td>\n",
       "      <td>-0.757384</td>\n",
       "      <td>2.261316</td>\n",
       "      <td>...</td>\n",
       "      <td>-0.591465</td>\n",
       "      <td>-0.517781</td>\n",
       "      <td>-0.444259</td>\n",
       "      <td>2.584094</td>\n",
       "      <td>-0.315444</td>\n",
       "      <td>-0.265377</td>\n",
       "      <td>-0.210141</td>\n",
       "      <td>-0.15186</td>\n",
       "      <td>-0.10363</td>\n",
       "      <td>0.501107</td>\n",
       "    </tr>\n",
       "    <tr>\n",
       "      <th>3</th>\n",
       "      <td>-0.111833</td>\n",
       "      <td>-0.886323</td>\n",
       "      <td>-1.113731</td>\n",
       "      <td>-0.344039</td>\n",
       "      <td>0.197326</td>\n",
       "      <td>1.275405</td>\n",
       "      <td>0.407390</td>\n",
       "      <td>-0.925464</td>\n",
       "      <td>0.023932</td>\n",
       "      <td>0.517626</td>\n",
       "      <td>...</td>\n",
       "      <td>-0.591465</td>\n",
       "      <td>-0.517781</td>\n",
       "      <td>-0.444259</td>\n",
       "      <td>-0.386983</td>\n",
       "      <td>3.170130</td>\n",
       "      <td>-0.265377</td>\n",
       "      <td>-0.210141</td>\n",
       "      <td>-0.15186</td>\n",
       "      <td>-0.10363</td>\n",
       "      <td>0.501107</td>\n",
       "    </tr>\n",
       "    <tr>\n",
       "      <th>4</th>\n",
       "      <td>-0.184950</td>\n",
       "      <td>-1.549451</td>\n",
       "      <td>-0.526871</td>\n",
       "      <td>1.278182</td>\n",
       "      <td>0.636783</td>\n",
       "      <td>-0.097974</td>\n",
       "      <td>1.597830</td>\n",
       "      <td>-0.594573</td>\n",
       "      <td>-0.853200</td>\n",
       "      <td>-2.034070</td>\n",
       "      <td>...</td>\n",
       "      <td>-0.591465</td>\n",
       "      <td>-0.517781</td>\n",
       "      <td>2.250941</td>\n",
       "      <td>-0.386983</td>\n",
       "      <td>-0.315444</td>\n",
       "      <td>-0.265377</td>\n",
       "      <td>-0.210141</td>\n",
       "      <td>-0.15186</td>\n",
       "      <td>-0.10363</td>\n",
       "      <td>0.501107</td>\n",
       "    </tr>\n",
       "  </tbody>\n",
       "</table>\n",
       "<p>5 rows × 62 columns</p>\n",
       "</div>"
      ],
      "text/plain": [
       "       var3      var4      var5      var6      var7      var8     var12  \\\n",
       "0  1.795857 -0.925540  0.212231 -1.845218  2.164260  0.107453  0.164472   \n",
       "1  0.994893 -0.617507 -0.646956  0.710405  1.021448 -0.450844 -0.078446   \n",
       "2 -0.341154  0.928364  0.358946  1.471601  0.108987  1.240615 -1.172287   \n",
       "3 -0.111833 -0.886323 -1.113731 -0.344039  0.197326  1.275405  0.407390   \n",
       "4 -0.184950 -1.549451 -0.526871  1.278182  0.636783 -0.097974  1.597830   \n",
       "\n",
       "      var14     var15     var16  ...  var23_tf  var23_ub  var23_qu  var23_ri  \\\n",
       "0  0.874381  0.814711  1.301922  ...  1.690716 -0.517781 -0.444259 -0.386983   \n",
       "1 -0.263682 -1.304482 -0.196447  ... -0.591465  1.931320 -0.444259 -0.386983   \n",
       "2 -0.980612 -0.757384  2.261316  ... -0.591465 -0.517781 -0.444259  2.584094   \n",
       "3 -0.925464  0.023932  0.517626  ... -0.591465 -0.517781 -0.444259 -0.386983   \n",
       "4 -0.594573 -0.853200 -2.034070  ... -0.591465 -0.517781  2.250941 -0.386983   \n",
       "\n",
       "   var23_fe  var23_da  var23_cz  var23_sy  var23_yv  var29_ev  \n",
       "0 -0.315444 -0.265377 -0.210141  -0.15186  -0.10363 -1.995584  \n",
       "1 -0.315444 -0.265377 -0.210141  -0.15186  -0.10363  0.501107  \n",
       "2 -0.315444 -0.265377 -0.210141  -0.15186  -0.10363  0.501107  \n",
       "3  3.170130 -0.265377 -0.210141  -0.15186  -0.10363  0.501107  \n",
       "4 -0.315444 -0.265377 -0.210141  -0.15186  -0.10363  0.501107  \n",
       "\n",
       "[5 rows x 62 columns]"
      ]
     },
     "execution_count": 23,
     "metadata": {},
     "output_type": "execute_result"
    }
   ],
   "source": [
    "scalar = StandardScaler()\n",
    "\n",
    "X_train = scalar.fit_transform(X_train)\n",
    "X_train = pd.DataFrame(data = X_train, columns = temp)\n",
    "X_train.head()"
   ]
  },
  {
   "cell_type": "code",
   "execution_count": 24,
   "id": "3ff926ed",
   "metadata": {
    "colab": {
     "base_uri": "https://localhost:8080/"
    },
    "executionInfo": {
     "elapsed": 3468,
     "status": "ok",
     "timestamp": 1703866310260,
     "user": {
      "displayName": "NIKHILESH NARKHEDE",
      "userId": "01192225661355979879"
     },
     "user_tz": -330
    },
    "id": "ihiTv0RSQ-Hr",
    "outputId": "9e84381f-4dc9-451f-f767-f9356b15d659"
   },
   "outputs": [
    {
     "data": {
      "text/plain": [
       "0.7112238648031439"
      ]
     },
     "execution_count": 24,
     "metadata": {},
     "output_type": "execute_result"
    }
   ],
   "source": [
    "knn_model = KNeighborsClassifier(10)\n",
    "knn_cv_scores= cross_val_score(knn_model,X_train.values,Y_train,cv=5,scoring='roc_auc')\n",
    "knn_cv_scores.mean()"
   ]
  },
  {
   "cell_type": "code",
   "execution_count": 25,
   "id": "00321060",
   "metadata": {
    "colab": {
     "base_uri": "https://localhost:8080/"
    },
    "executionInfo": {
     "elapsed": 186469,
     "status": "ok",
     "timestamp": 1703866496727,
     "user": {
      "displayName": "NIKHILESH NARKHEDE",
      "userId": "01192225661355979879"
     },
     "user_tz": -330
    },
    "id": "pkHdAjo7RWgK",
    "outputId": "dd154cf6-9b0e-4be4-efe8-8325ef368879"
   },
   "outputs": [
    {
     "data": {
      "text/plain": [
       "0.8814048549704323"
      ]
     },
     "execution_count": 25,
     "metadata": {},
     "output_type": "execute_result"
    }
   ],
   "source": [
    "svm_model = SVC()\n",
    "svm_cv_scores= cross_val_score(svm_model,X_train,Y_train,cv=5,scoring='roc_auc')\n",
    "svm_cv_scores.mean()"
   ]
  },
  {
   "cell_type": "markdown",
   "id": "a69081f0-9ec5-4772-b8f0-4d3a945b60fd",
   "metadata": {},
   "source": [
    "#### Bases on the above Model performance. \n",
    "#### We can Consider lgb_model, cb_model Model for predicting whether Person will default on the payday loan.\n"
   ]
  }
 ],
 "metadata": {
  "colab": {
   "name": "",
   "version": ""
  },
  "kernelspec": {
   "display_name": "Python 3 (ipykernel)",
   "language": "python",
   "name": "python3"
  },
  "language_info": {
   "codemirror_mode": {
    "name": "ipython",
    "version": 3
   },
   "file_extension": ".py",
   "mimetype": "text/x-python",
   "name": "python",
   "nbconvert_exporter": "python",
   "pygments_lexer": "ipython3",
   "version": "3.11.7"
  }
 },
 "nbformat": 4,
 "nbformat_minor": 5
}
